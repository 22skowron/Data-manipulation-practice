{
 "cells": [
  {
   "cell_type": "markdown",
   "metadata": {
    "id": "gltiGJhvrzaL"
   },
   "source": [
    "# Introduction\n",
    "\n",
    "Do higher film budgets lead to more box office revenue? Let's find out if there's a relationship using the movie budgets and financial performance data that I've scraped from [the-numbers.com](https://www.the-numbers.com/movie/budgets) on **May 1st, 2018**. \n",
    "\n",
    "<img src=https://i.imgur.com/kq7hrEh.png>"
   ]
  },
  {
   "cell_type": "markdown",
   "metadata": {
    "id": "zkLrvlKvtdih"
   },
   "source": [
    "# Import Statements"
   ]
  },
  {
   "cell_type": "code",
   "execution_count": 113,
   "metadata": {
    "id": "NpDk_q_Urroj"
   },
   "outputs": [],
   "source": [
    "import pandas as pd\n",
    "import matplotlib.pyplot as plt\n",
    "import seaborn as sns"
   ]
  },
  {
   "cell_type": "markdown",
   "metadata": {
    "id": "x5B-UDvXtnC6"
   },
   "source": [
    "# Notebook Presentation"
   ]
  },
  {
   "cell_type": "code",
   "execution_count": 2,
   "metadata": {
    "id": "nM_otvWztjpT"
   },
   "outputs": [],
   "source": [
    "pd.set_option('display.float_format', '{:,.2f}'.format)\n",
    "\n",
    "from pandas.plotting import register_matplotlib_converters\n",
    "register_matplotlib_converters()"
   ]
  },
  {
   "cell_type": "markdown",
   "metadata": {
    "id": "v-fnwNYJtthe"
   },
   "source": [
    "# Read the Data"
   ]
  },
  {
   "cell_type": "code",
   "execution_count": 3,
   "metadata": {
    "id": "xhwvQQWitrf4"
   },
   "outputs": [],
   "source": [
    "data = pd.read_csv(r'Data_files/cost_revenue_dirty.csv')"
   ]
  },
  {
   "cell_type": "markdown",
   "metadata": {
    "id": "tbg8_J5SuHhs"
   },
   "source": [
    "# Explore and Clean the Data"
   ]
  },
  {
   "cell_type": "markdown",
   "metadata": {
    "id": "xAtdcURCuL0Z"
   },
   "source": [
    "**Challenge**: Answer these questions about the dataset:\n",
    "1. How many rows and columns does the dataset contain?\n",
    "2. Are there any NaN values present?\n",
    "3. Are there any duplicate rows?\n",
    "4. What are the data types of the columns?"
   ]
  },
  {
   "cell_type": "code",
   "execution_count": 4,
   "metadata": {
    "id": "PV3KLBSVTMDN"
   },
   "outputs": [
    {
     "name": "stdout",
     "output_type": "stream",
     "text": [
      "<class 'pandas.core.frame.DataFrame'>\n",
      "RangeIndex: 5391 entries, 0 to 5390\n",
      "Data columns (total 6 columns):\n",
      " #   Column                 Non-Null Count  Dtype \n",
      "---  ------                 --------------  ----- \n",
      " 0   Rank                   5391 non-null   int64 \n",
      " 1   Release_Date           5391 non-null   object\n",
      " 2   Movie_Title            5391 non-null   object\n",
      " 3   USD_Production_Budget  5391 non-null   object\n",
      " 4   USD_Worldwide_Gross    5391 non-null   object\n",
      " 5   USD_Domestic_Gross     5391 non-null   object\n",
      "dtypes: int64(1), object(5)\n",
      "memory usage: 252.8+ KB\n"
     ]
    }
   ],
   "source": [
    "data.info()"
   ]
  },
  {
   "cell_type": "code",
   "execution_count": 5,
   "metadata": {},
   "outputs": [
    {
     "data": {
      "text/html": [
       "<div>\n",
       "<style scoped>\n",
       "    .dataframe tbody tr th:only-of-type {\n",
       "        vertical-align: middle;\n",
       "    }\n",
       "\n",
       "    .dataframe tbody tr th {\n",
       "        vertical-align: top;\n",
       "    }\n",
       "\n",
       "    .dataframe thead th {\n",
       "        text-align: right;\n",
       "    }\n",
       "</style>\n",
       "<table border=\"1\" class=\"dataframe\">\n",
       "  <thead>\n",
       "    <tr style=\"text-align: right;\">\n",
       "      <th></th>\n",
       "      <th>Rank</th>\n",
       "      <th>Release_Date</th>\n",
       "      <th>Movie_Title</th>\n",
       "      <th>USD_Production_Budget</th>\n",
       "      <th>USD_Worldwide_Gross</th>\n",
       "      <th>USD_Domestic_Gross</th>\n",
       "    </tr>\n",
       "  </thead>\n",
       "  <tbody>\n",
       "    <tr>\n",
       "      <th>0</th>\n",
       "      <td>5293</td>\n",
       "      <td>8/2/1915</td>\n",
       "      <td>The Birth of a Nation</td>\n",
       "      <td>$110,000</td>\n",
       "      <td>$11,000,000</td>\n",
       "      <td>$10,000,000</td>\n",
       "    </tr>\n",
       "    <tr>\n",
       "      <th>1</th>\n",
       "      <td>5140</td>\n",
       "      <td>5/9/1916</td>\n",
       "      <td>Intolerance</td>\n",
       "      <td>$385,907</td>\n",
       "      <td>$0</td>\n",
       "      <td>$0</td>\n",
       "    </tr>\n",
       "    <tr>\n",
       "      <th>2</th>\n",
       "      <td>5230</td>\n",
       "      <td>12/24/1916</td>\n",
       "      <td>20,000 Leagues Under the Sea</td>\n",
       "      <td>$200,000</td>\n",
       "      <td>$8,000,000</td>\n",
       "      <td>$8,000,000</td>\n",
       "    </tr>\n",
       "  </tbody>\n",
       "</table>\n",
       "</div>"
      ],
      "text/plain": [
       "   Rank Release_Date                   Movie_Title USD_Production_Budget  \\\n",
       "0  5293     8/2/1915         The Birth of a Nation              $110,000   \n",
       "1  5140     5/9/1916                   Intolerance              $385,907   \n",
       "2  5230   12/24/1916  20,000 Leagues Under the Sea              $200,000   \n",
       "\n",
       "  USD_Worldwide_Gross USD_Domestic_Gross  \n",
       "0         $11,000,000        $10,000,000  \n",
       "1                  $0                 $0  \n",
       "2          $8,000,000         $8,000,000  "
      ]
     },
     "execution_count": 5,
     "metadata": {},
     "output_type": "execute_result"
    }
   ],
   "source": [
    "# print(type(data.loc[0, 'USD_Worldwide_Gross']))\n",
    "data.head(3)"
   ]
  },
  {
   "cell_type": "code",
   "execution_count": 6,
   "metadata": {},
   "outputs": [
    {
     "name": "stdout",
     "output_type": "stream",
     "text": [
      "NaN values count: 0\n"
     ]
    }
   ],
   "source": [
    "print(f'NaN values count: {data.isna().any(axis=1).sum()}')"
   ]
  },
  {
   "cell_type": "code",
   "execution_count": 7,
   "metadata": {},
   "outputs": [
    {
     "name": "stdout",
     "output_type": "stream",
     "text": [
      "Duplicated values count: 0\n",
      "Duplicated titles count: 73\n",
      "Duplicated titles & dates count: 1\n"
     ]
    }
   ],
   "source": [
    "print(f'Duplicated values count: {data.duplicated().sum()}')\n",
    "print(f'Duplicated titles count: {data.duplicated(subset='Movie_Title').sum()}')\n",
    "print(f'Duplicated titles & dates count: {data.duplicated(subset=['Movie_Title', 'Release_Date']).sum()}')"
   ]
  },
  {
   "cell_type": "markdown",
   "metadata": {},
   "source": [
    "### Show movies with the same titles"
   ]
  },
  {
   "cell_type": "code",
   "execution_count": 8,
   "metadata": {},
   "outputs": [
    {
     "name": "stdout",
     "output_type": "stream",
     "text": [
      "(143, 6)\n"
     ]
    },
    {
     "data": {
      "text/html": [
       "<div>\n",
       "<style scoped>\n",
       "    .dataframe tbody tr th:only-of-type {\n",
       "        vertical-align: middle;\n",
       "    }\n",
       "\n",
       "    .dataframe tbody tr th {\n",
       "        vertical-align: top;\n",
       "    }\n",
       "\n",
       "    .dataframe thead th {\n",
       "        text-align: right;\n",
       "    }\n",
       "</style>\n",
       "<table border=\"1\" class=\"dataframe\">\n",
       "  <thead>\n",
       "    <tr style=\"text-align: right;\">\n",
       "      <th></th>\n",
       "      <th>Rank</th>\n",
       "      <th>Release_Date</th>\n",
       "      <th>Movie_Title</th>\n",
       "      <th>USD_Production_Budget</th>\n",
       "      <th>USD_Worldwide_Gross</th>\n",
       "      <th>USD_Domestic_Gross</th>\n",
       "    </tr>\n",
       "  </thead>\n",
       "  <tbody>\n",
       "    <tr>\n",
       "      <th>2</th>\n",
       "      <td>5230</td>\n",
       "      <td>12/24/1916</td>\n",
       "      <td>20,000 Leagues Under the Sea</td>\n",
       "      <td>$200,000</td>\n",
       "      <td>$8,000,000</td>\n",
       "      <td>$8,000,000</td>\n",
       "    </tr>\n",
       "    <tr>\n",
       "      <th>64</th>\n",
       "      <td>3973</td>\n",
       "      <td>12/23/1954</td>\n",
       "      <td>20,000 Leagues Under the Sea</td>\n",
       "      <td>$5,000,000</td>\n",
       "      <td>$28,200,000</td>\n",
       "      <td>$28,200,000</td>\n",
       "    </tr>\n",
       "    <tr>\n",
       "      <th>3054</th>\n",
       "      <td>5289</td>\n",
       "      <td>12/31/2007</td>\n",
       "      <td>A Dog's Breakfast</td>\n",
       "      <td>$120,000</td>\n",
       "      <td>$0</td>\n",
       "      <td>$0</td>\n",
       "    </tr>\n",
       "    <tr>\n",
       "      <th>3055</th>\n",
       "      <td>5290</td>\n",
       "      <td>12/31/2007</td>\n",
       "      <td>A Dog's Breakfast</td>\n",
       "      <td>$120,000</td>\n",
       "      <td>$0</td>\n",
       "      <td>$0</td>\n",
       "    </tr>\n",
       "    <tr>\n",
       "      <th>393</th>\n",
       "      <td>4662</td>\n",
       "      <td>9/11/1984</td>\n",
       "      <td>A Nightmare on Elm Street</td>\n",
       "      <td>$1,800,000</td>\n",
       "      <td>$25,504,513</td>\n",
       "      <td>$25,504,513</td>\n",
       "    </tr>\n",
       "    <tr>\n",
       "      <th>...</th>\n",
       "      <td>...</td>\n",
       "      <td>...</td>\n",
       "      <td>...</td>\n",
       "      <td>...</td>\n",
       "      <td>...</td>\n",
       "      <td>...</td>\n",
       "    </tr>\n",
       "    <tr>\n",
       "      <th>1096</th>\n",
       "      <td>2427</td>\n",
       "      <td>6/3/1998</td>\n",
       "      <td>Twilight</td>\n",
       "      <td>$20,000,000</td>\n",
       "      <td>$15,055,091</td>\n",
       "      <td>$15,055,091</td>\n",
       "    </tr>\n",
       "    <tr>\n",
       "      <th>852</th>\n",
       "      <td>2638</td>\n",
       "      <td>2/23/1996</td>\n",
       "      <td>Unforgettable</td>\n",
       "      <td>$18,000,000</td>\n",
       "      <td>$2,483,790</td>\n",
       "      <td>$2,483,790</td>\n",
       "    </tr>\n",
       "    <tr>\n",
       "      <th>5342</th>\n",
       "      <td>3180</td>\n",
       "      <td>4/21/2017</td>\n",
       "      <td>Unforgettable</td>\n",
       "      <td>$12,000,000</td>\n",
       "      <td>$15,668,012</td>\n",
       "      <td>$11,368,012</td>\n",
       "    </tr>\n",
       "    <tr>\n",
       "      <th>3848</th>\n",
       "      <td>1321</td>\n",
       "      <td>2/18/2011</td>\n",
       "      <td>Unknown</td>\n",
       "      <td>$40,000,000</td>\n",
       "      <td>$136,123,083</td>\n",
       "      <td>$63,686,397</td>\n",
       "    </tr>\n",
       "    <tr>\n",
       "      <th>2625</th>\n",
       "      <td>4262</td>\n",
       "      <td>3/11/2006</td>\n",
       "      <td>Unknown</td>\n",
       "      <td>$3,700,000</td>\n",
       "      <td>$3,355,048</td>\n",
       "      <td>$26,403</td>\n",
       "    </tr>\n",
       "  </tbody>\n",
       "</table>\n",
       "<p>143 rows × 6 columns</p>\n",
       "</div>"
      ],
      "text/plain": [
       "      Rank Release_Date                   Movie_Title USD_Production_Budget  \\\n",
       "2     5230   12/24/1916  20,000 Leagues Under the Sea              $200,000   \n",
       "64    3973   12/23/1954  20,000 Leagues Under the Sea            $5,000,000   \n",
       "3054  5289   12/31/2007             A Dog's Breakfast              $120,000   \n",
       "3055  5290   12/31/2007             A Dog's Breakfast              $120,000   \n",
       "393   4662    9/11/1984     A Nightmare on Elm Street            $1,800,000   \n",
       "...    ...          ...                           ...                   ...   \n",
       "1096  2427     6/3/1998                      Twilight           $20,000,000   \n",
       "852   2638    2/23/1996                 Unforgettable           $18,000,000   \n",
       "5342  3180    4/21/2017                 Unforgettable           $12,000,000   \n",
       "3848  1321    2/18/2011                       Unknown           $40,000,000   \n",
       "2625  4262    3/11/2006                       Unknown            $3,700,000   \n",
       "\n",
       "     USD_Worldwide_Gross USD_Domestic_Gross  \n",
       "2             $8,000,000         $8,000,000  \n",
       "64           $28,200,000        $28,200,000  \n",
       "3054                  $0                 $0  \n",
       "3055                  $0                 $0  \n",
       "393          $25,504,513        $25,504,513  \n",
       "...                  ...                ...  \n",
       "1096         $15,055,091        $15,055,091  \n",
       "852           $2,483,790         $2,483,790  \n",
       "5342         $15,668,012        $11,368,012  \n",
       "3848        $136,123,083        $63,686,397  \n",
       "2625          $3,355,048            $26,403  \n",
       "\n",
       "[143 rows x 6 columns]"
      ]
     },
     "execution_count": 8,
     "metadata": {},
     "output_type": "execute_result"
    }
   ],
   "source": [
    "print(data[data.duplicated(subset='Movie_Title', keep=False)].shape)\n",
    "\n",
    "data[data.duplicated(subset='Movie_Title', keep=False)].sort_values(by='Movie_Title')"
   ]
  },
  {
   "cell_type": "markdown",
   "metadata": {},
   "source": [
    "### Show duplicated movies (the same release date & title)"
   ]
  },
  {
   "cell_type": "code",
   "execution_count": 9,
   "metadata": {},
   "outputs": [
    {
     "data": {
      "text/html": [
       "<div>\n",
       "<style scoped>\n",
       "    .dataframe tbody tr th:only-of-type {\n",
       "        vertical-align: middle;\n",
       "    }\n",
       "\n",
       "    .dataframe tbody tr th {\n",
       "        vertical-align: top;\n",
       "    }\n",
       "\n",
       "    .dataframe thead th {\n",
       "        text-align: right;\n",
       "    }\n",
       "</style>\n",
       "<table border=\"1\" class=\"dataframe\">\n",
       "  <thead>\n",
       "    <tr style=\"text-align: right;\">\n",
       "      <th></th>\n",
       "      <th>Rank</th>\n",
       "      <th>Release_Date</th>\n",
       "      <th>Movie_Title</th>\n",
       "      <th>USD_Production_Budget</th>\n",
       "      <th>USD_Worldwide_Gross</th>\n",
       "      <th>USD_Domestic_Gross</th>\n",
       "    </tr>\n",
       "  </thead>\n",
       "  <tbody>\n",
       "    <tr>\n",
       "      <th>3054</th>\n",
       "      <td>5289</td>\n",
       "      <td>12/31/2007</td>\n",
       "      <td>A Dog's Breakfast</td>\n",
       "      <td>$120,000</td>\n",
       "      <td>$0</td>\n",
       "      <td>$0</td>\n",
       "    </tr>\n",
       "    <tr>\n",
       "      <th>3055</th>\n",
       "      <td>5290</td>\n",
       "      <td>12/31/2007</td>\n",
       "      <td>A Dog's Breakfast</td>\n",
       "      <td>$120,000</td>\n",
       "      <td>$0</td>\n",
       "      <td>$0</td>\n",
       "    </tr>\n",
       "  </tbody>\n",
       "</table>\n",
       "</div>"
      ],
      "text/plain": [
       "      Rank Release_Date        Movie_Title USD_Production_Budget  \\\n",
       "3054  5289   12/31/2007  A Dog's Breakfast              $120,000   \n",
       "3055  5290   12/31/2007  A Dog's Breakfast              $120,000   \n",
       "\n",
       "     USD_Worldwide_Gross USD_Domestic_Gross  \n",
       "3054                  $0                 $0  \n",
       "3055                  $0                 $0  "
      ]
     },
     "execution_count": 9,
     "metadata": {},
     "output_type": "execute_result"
    }
   ],
   "source": [
    "data[data.duplicated(subset=['Movie_Title', 'Release_Date'], keep=False)]"
   ]
  },
  {
   "cell_type": "markdown",
   "metadata": {
    "id": "v8spadDNvpVG"
   },
   "source": [
    "### Data Type Conversions"
   ]
  },
  {
   "cell_type": "markdown",
   "metadata": {
    "id": "cA01iJHkvWhl"
   },
   "source": [
    "**Challenge**: Convert the `Release_Date` column to a Pandas Datetime type. "
   ]
  },
  {
   "cell_type": "code",
   "execution_count": 10,
   "metadata": {
    "id": "Pq1WfvRnTRU6"
   },
   "outputs": [
    {
     "data": {
      "text/plain": [
       "Rank                              int64\n",
       "Release_Date             datetime64[ns]\n",
       "Movie_Title                      object\n",
       "USD_Production_Budget            object\n",
       "USD_Worldwide_Gross              object\n",
       "USD_Domestic_Gross               object\n",
       "dtype: object"
      ]
     },
     "execution_count": 10,
     "metadata": {},
     "output_type": "execute_result"
    }
   ],
   "source": [
    "data['Release_Date'] = pd.to_datetime(data['Release_Date'])\n",
    "data.dtypes"
   ]
  },
  {
   "cell_type": "markdown",
   "metadata": {
    "id": "9F8KFST4ulrd"
   },
   "source": [
    "**Challenge**: Convert the `USD_Production_Budget`, `USD_Worldwide_Gross`, and `USD_Domestic_Gross` columns to a numeric format by removing `$` signs and `,`. \n",
    "<br>\n",
    "<br>\n",
    "Note that *domestic* in this context refers to the United States."
   ]
  },
  {
   "cell_type": "code",
   "execution_count": 11,
   "metadata": {
    "id": "BmdCbLf-TPXk"
   },
   "outputs": [
    {
     "data": {
      "text/plain": [
       "Rank                              int64\n",
       "Release_Date             datetime64[ns]\n",
       "Movie_Title                      object\n",
       "USD_Production_Budget           float64\n",
       "USD_Worldwide_Gross             float64\n",
       "USD_Domestic_Gross              float64\n",
       "dtype: object"
      ]
     },
     "execution_count": 11,
     "metadata": {},
     "output_type": "execute_result"
    }
   ],
   "source": [
    "for (label, column) in data[['USD_Production_Budget', 'USD_Worldwide_Gross', 'USD_Domestic_Gross']].items():\n",
    "    data[label] = data[label].str.replace('$', '')\n",
    "    data[label] = data[label].str.replace(',', '')\n",
    "    data[label] = data[label].astype(float)\n",
    "\n",
    "data.dtypes"
   ]
  },
  {
   "cell_type": "code",
   "execution_count": 12,
   "metadata": {},
   "outputs": [
    {
     "data": {
      "text/html": [
       "<div>\n",
       "<style scoped>\n",
       "    .dataframe tbody tr th:only-of-type {\n",
       "        vertical-align: middle;\n",
       "    }\n",
       "\n",
       "    .dataframe tbody tr th {\n",
       "        vertical-align: top;\n",
       "    }\n",
       "\n",
       "    .dataframe thead th {\n",
       "        text-align: right;\n",
       "    }\n",
       "</style>\n",
       "<table border=\"1\" class=\"dataframe\">\n",
       "  <thead>\n",
       "    <tr style=\"text-align: right;\">\n",
       "      <th></th>\n",
       "      <th>Rank</th>\n",
       "      <th>Release_Date</th>\n",
       "      <th>Movie_Title</th>\n",
       "      <th>USD_Production_Budget</th>\n",
       "      <th>USD_Worldwide_Gross</th>\n",
       "      <th>USD_Domestic_Gross</th>\n",
       "    </tr>\n",
       "  </thead>\n",
       "  <tbody>\n",
       "    <tr>\n",
       "      <th>0</th>\n",
       "      <td>5293</td>\n",
       "      <td>1915-08-02</td>\n",
       "      <td>The Birth of a Nation</td>\n",
       "      <td>110,000.00</td>\n",
       "      <td>11,000,000.00</td>\n",
       "      <td>10,000,000.00</td>\n",
       "    </tr>\n",
       "    <tr>\n",
       "      <th>1</th>\n",
       "      <td>5140</td>\n",
       "      <td>1916-05-09</td>\n",
       "      <td>Intolerance</td>\n",
       "      <td>385,907.00</td>\n",
       "      <td>0.00</td>\n",
       "      <td>0.00</td>\n",
       "    </tr>\n",
       "    <tr>\n",
       "      <th>2</th>\n",
       "      <td>5230</td>\n",
       "      <td>1916-12-24</td>\n",
       "      <td>20,000 Leagues Under the Sea</td>\n",
       "      <td>200,000.00</td>\n",
       "      <td>8,000,000.00</td>\n",
       "      <td>8,000,000.00</td>\n",
       "    </tr>\n",
       "  </tbody>\n",
       "</table>\n",
       "</div>"
      ],
      "text/plain": [
       "   Rank Release_Date                   Movie_Title  USD_Production_Budget  \\\n",
       "0  5293   1915-08-02         The Birth of a Nation             110,000.00   \n",
       "1  5140   1916-05-09                   Intolerance             385,907.00   \n",
       "2  5230   1916-12-24  20,000 Leagues Under the Sea             200,000.00   \n",
       "\n",
       "   USD_Worldwide_Gross  USD_Domestic_Gross  \n",
       "0        11,000,000.00       10,000,000.00  \n",
       "1                 0.00                0.00  \n",
       "2         8,000,000.00        8,000,000.00  "
      ]
     },
     "execution_count": 12,
     "metadata": {},
     "output_type": "execute_result"
    }
   ],
   "source": [
    "data.head(3)"
   ]
  },
  {
   "cell_type": "markdown",
   "metadata": {
    "id": "NkwmJO3tvt5i"
   },
   "source": [
    "### Descriptive Statistics"
   ]
  },
  {
   "cell_type": "markdown",
   "metadata": {
    "id": "bnb54thrvx5r"
   },
   "source": [
    "**Challenge**: \n",
    "\n",
    "1. What is the average production budget of the films in the data set?\n",
    "2. What is the average worldwide gross revenue of films?\n",
    "3. What were the minimums for worldwide and domestic revenue?\n",
    "4. Are the bottom 25% of films actually profitable or do they lose money?\n",
    "5. What are the highest production budget and highest worldwide gross revenue of any film?\n",
    "6. How much revenue did the lowest and highest budget films make?"
   ]
  },
  {
   "cell_type": "code",
   "execution_count": 13,
   "metadata": {
    "id": "8G5_FATFTTtb"
   },
   "outputs": [
    {
     "data": {
      "text/html": [
       "<div>\n",
       "<style scoped>\n",
       "    .dataframe tbody tr th:only-of-type {\n",
       "        vertical-align: middle;\n",
       "    }\n",
       "\n",
       "    .dataframe tbody tr th {\n",
       "        vertical-align: top;\n",
       "    }\n",
       "\n",
       "    .dataframe thead th {\n",
       "        text-align: right;\n",
       "    }\n",
       "</style>\n",
       "<table border=\"1\" class=\"dataframe\">\n",
       "  <thead>\n",
       "    <tr style=\"text-align: right;\">\n",
       "      <th></th>\n",
       "      <th>Rank</th>\n",
       "      <th>USD_Production_Budget</th>\n",
       "      <th>USD_Worldwide_Gross</th>\n",
       "      <th>USD_Domestic_Gross</th>\n",
       "    </tr>\n",
       "  </thead>\n",
       "  <tbody>\n",
       "    <tr>\n",
       "      <th>count</th>\n",
       "      <td>5,391.00</td>\n",
       "      <td>5,391.00</td>\n",
       "      <td>5,391.00</td>\n",
       "      <td>5,391.00</td>\n",
       "    </tr>\n",
       "    <tr>\n",
       "      <th>mean</th>\n",
       "      <td>2,696.00</td>\n",
       "      <td>31,113,737.58</td>\n",
       "      <td>88,855,421.96</td>\n",
       "      <td>41,235,519.44</td>\n",
       "    </tr>\n",
       "    <tr>\n",
       "      <th>std</th>\n",
       "      <td>1,556.39</td>\n",
       "      <td>40,523,796.88</td>\n",
       "      <td>168,457,757.00</td>\n",
       "      <td>66,029,346.27</td>\n",
       "    </tr>\n",
       "    <tr>\n",
       "      <th>min</th>\n",
       "      <td>1.00</td>\n",
       "      <td>1,100.00</td>\n",
       "      <td>0.00</td>\n",
       "      <td>0.00</td>\n",
       "    </tr>\n",
       "    <tr>\n",
       "      <th>25%</th>\n",
       "      <td>1,348.50</td>\n",
       "      <td>5,000,000.00</td>\n",
       "      <td>3,865,206.00</td>\n",
       "      <td>1,330,901.50</td>\n",
       "    </tr>\n",
       "    <tr>\n",
       "      <th>50%</th>\n",
       "      <td>2,696.00</td>\n",
       "      <td>17,000,000.00</td>\n",
       "      <td>27,450,453.00</td>\n",
       "      <td>17,192,205.00</td>\n",
       "    </tr>\n",
       "    <tr>\n",
       "      <th>75%</th>\n",
       "      <td>4,043.50</td>\n",
       "      <td>40,000,000.00</td>\n",
       "      <td>96,454,455.00</td>\n",
       "      <td>52,343,687.00</td>\n",
       "    </tr>\n",
       "    <tr>\n",
       "      <th>max</th>\n",
       "      <td>5,391.00</td>\n",
       "      <td>425,000,000.00</td>\n",
       "      <td>2,783,918,982.00</td>\n",
       "      <td>936,662,225.00</td>\n",
       "    </tr>\n",
       "  </tbody>\n",
       "</table>\n",
       "</div>"
      ],
      "text/plain": [
       "          Rank  USD_Production_Budget  USD_Worldwide_Gross  USD_Domestic_Gross\n",
       "count 5,391.00               5,391.00             5,391.00            5,391.00\n",
       "mean  2,696.00          31,113,737.58        88,855,421.96       41,235,519.44\n",
       "std   1,556.39          40,523,796.88       168,457,757.00       66,029,346.27\n",
       "min       1.00               1,100.00                 0.00                0.00\n",
       "25%   1,348.50           5,000,000.00         3,865,206.00        1,330,901.50\n",
       "50%   2,696.00          17,000,000.00        27,450,453.00       17,192,205.00\n",
       "75%   4,043.50          40,000,000.00        96,454,455.00       52,343,687.00\n",
       "max   5,391.00         425,000,000.00     2,783,918,982.00      936,662,225.00"
      ]
     },
     "execution_count": 13,
     "metadata": {},
     "output_type": "execute_result"
    }
   ],
   "source": [
    "data.select_dtypes('number').describe()"
   ]
  },
  {
   "cell_type": "markdown",
   "metadata": {},
   "source": [
    "### Search for Star Wars"
   ]
  },
  {
   "cell_type": "code",
   "execution_count": 14,
   "metadata": {},
   "outputs": [
    {
     "data": {
      "text/html": [
       "<div>\n",
       "<style scoped>\n",
       "    .dataframe tbody tr th:only-of-type {\n",
       "        vertical-align: middle;\n",
       "    }\n",
       "\n",
       "    .dataframe tbody tr th {\n",
       "        vertical-align: top;\n",
       "    }\n",
       "\n",
       "    .dataframe thead th {\n",
       "        text-align: right;\n",
       "    }\n",
       "</style>\n",
       "<table border=\"1\" class=\"dataframe\">\n",
       "  <thead>\n",
       "    <tr style=\"text-align: right;\">\n",
       "      <th></th>\n",
       "      <th>Rank</th>\n",
       "      <th>Release_Date</th>\n",
       "      <th>Movie_Title</th>\n",
       "      <th>USD_Production_Budget</th>\n",
       "      <th>USD_Worldwide_Gross</th>\n",
       "      <th>USD_Domestic_Gross</th>\n",
       "    </tr>\n",
       "  </thead>\n",
       "  <tbody>\n",
       "    <tr>\n",
       "      <th>221</th>\n",
       "      <td>3239</td>\n",
       "      <td>1977-05-25</td>\n",
       "      <td>Star Wars Ep. IV: A New Hope</td>\n",
       "      <td>11,000,000.00</td>\n",
       "      <td>786,598,007.00</td>\n",
       "      <td>460,998,007.00</td>\n",
       "    </tr>\n",
       "    <tr>\n",
       "      <th>275</th>\n",
       "      <td>2196</td>\n",
       "      <td>1980-05-21</td>\n",
       "      <td>Star Wars Ep. V: The Empire Strikes Back</td>\n",
       "      <td>23,000,000.00</td>\n",
       "      <td>534,171,960.00</td>\n",
       "      <td>290,271,960.00</td>\n",
       "    </tr>\n",
       "    <tr>\n",
       "      <th>359</th>\n",
       "      <td>1657</td>\n",
       "      <td>1983-05-25</td>\n",
       "      <td>Star Wars Ep. VI: Return of the Jedi</td>\n",
       "      <td>32,500,000.00</td>\n",
       "      <td>572,705,079.00</td>\n",
       "      <td>309,205,079.00</td>\n",
       "    </tr>\n",
       "    <tr>\n",
       "      <th>1249</th>\n",
       "      <td>272</td>\n",
       "      <td>1999-05-19</td>\n",
       "      <td>Star Wars Ep. I: The Phantom Menace</td>\n",
       "      <td>115,000,000.00</td>\n",
       "      <td>1,027,044,677.00</td>\n",
       "      <td>474,544,677.00</td>\n",
       "    </tr>\n",
       "    <tr>\n",
       "      <th>1810</th>\n",
       "      <td>274</td>\n",
       "      <td>2002-05-16</td>\n",
       "      <td>Star Wars Ep. II: Attack of the Clones</td>\n",
       "      <td>115,000,000.00</td>\n",
       "      <td>656,695,615.00</td>\n",
       "      <td>310,676,740.00</td>\n",
       "    </tr>\n",
       "    <tr>\n",
       "      <th>2436</th>\n",
       "      <td>273</td>\n",
       "      <td>2005-05-19</td>\n",
       "      <td>Star Wars Ep. III: Revenge of the Sith</td>\n",
       "      <td>115,000,000.00</td>\n",
       "      <td>848,998,877.00</td>\n",
       "      <td>380,270,577.00</td>\n",
       "    </tr>\n",
       "    <tr>\n",
       "      <th>3202</th>\n",
       "      <td>3569</td>\n",
       "      <td>2008-08-15</td>\n",
       "      <td>Star Wars: The Clone Wars</td>\n",
       "      <td>8,500,000.00</td>\n",
       "      <td>68,695,443.00</td>\n",
       "      <td>35,161,554.00</td>\n",
       "    </tr>\n",
       "    <tr>\n",
       "      <th>5079</th>\n",
       "      <td>2</td>\n",
       "      <td>2015-12-18</td>\n",
       "      <td>Star Wars Ep. VII: The Force Awakens</td>\n",
       "      <td>306,000,000.00</td>\n",
       "      <td>2,058,662,225.00</td>\n",
       "      <td>936,662,225.00</td>\n",
       "    </tr>\n",
       "    <tr>\n",
       "      <th>5293</th>\n",
       "      <td>38</td>\n",
       "      <td>2016-12-16</td>\n",
       "      <td>Rogue One: A Star Wars Story</td>\n",
       "      <td>200,000,000.00</td>\n",
       "      <td>1,050,988,488.00</td>\n",
       "      <td>532,177,324.00</td>\n",
       "    </tr>\n",
       "  </tbody>\n",
       "</table>\n",
       "</div>"
      ],
      "text/plain": [
       "      Rank Release_Date                               Movie_Title  \\\n",
       "221   3239   1977-05-25              Star Wars Ep. IV: A New Hope   \n",
       "275   2196   1980-05-21  Star Wars Ep. V: The Empire Strikes Back   \n",
       "359   1657   1983-05-25      Star Wars Ep. VI: Return of the Jedi   \n",
       "1249   272   1999-05-19       Star Wars Ep. I: The Phantom Menace   \n",
       "1810   274   2002-05-16    Star Wars Ep. II: Attack of the Clones   \n",
       "2436   273   2005-05-19    Star Wars Ep. III: Revenge of the Sith   \n",
       "3202  3569   2008-08-15                 Star Wars: The Clone Wars   \n",
       "5079     2   2015-12-18      Star Wars Ep. VII: The Force Awakens   \n",
       "5293    38   2016-12-16              Rogue One: A Star Wars Story   \n",
       "\n",
       "      USD_Production_Budget  USD_Worldwide_Gross  USD_Domestic_Gross  \n",
       "221           11,000,000.00       786,598,007.00      460,998,007.00  \n",
       "275           23,000,000.00       534,171,960.00      290,271,960.00  \n",
       "359           32,500,000.00       572,705,079.00      309,205,079.00  \n",
       "1249         115,000,000.00     1,027,044,677.00      474,544,677.00  \n",
       "1810         115,000,000.00       656,695,615.00      310,676,740.00  \n",
       "2436         115,000,000.00       848,998,877.00      380,270,577.00  \n",
       "3202           8,500,000.00        68,695,443.00       35,161,554.00  \n",
       "5079         306,000,000.00     2,058,662,225.00      936,662,225.00  \n",
       "5293         200,000,000.00     1,050,988,488.00      532,177,324.00  "
      ]
     },
     "execution_count": 14,
     "metadata": {},
     "output_type": "execute_result"
    }
   ],
   "source": [
    "data[data['Movie_Title'].str.contains('Star Wars')].sort_values(by='Release_Date')"
   ]
  },
  {
   "cell_type": "markdown",
   "metadata": {},
   "source": [
    "### str contains with nan values"
   ]
  },
  {
   "cell_type": "code",
   "execution_count": 15,
   "metadata": {},
   "outputs": [
    {
     "data": {
      "text/html": [
       "<div>\n",
       "<style scoped>\n",
       "    .dataframe tbody tr th:only-of-type {\n",
       "        vertical-align: middle;\n",
       "    }\n",
       "\n",
       "    .dataframe tbody tr th {\n",
       "        vertical-align: top;\n",
       "    }\n",
       "\n",
       "    .dataframe thead th {\n",
       "        text-align: right;\n",
       "    }\n",
       "</style>\n",
       "<table border=\"1\" class=\"dataframe\">\n",
       "  <thead>\n",
       "    <tr style=\"text-align: right;\">\n",
       "      <th></th>\n",
       "      <th>A</th>\n",
       "      <th>B</th>\n",
       "    </tr>\n",
       "  </thead>\n",
       "  <tbody>\n",
       "    <tr>\n",
       "      <th>0</th>\n",
       "      <td>11</td>\n",
       "      <td>Star afda gfg</td>\n",
       "    </tr>\n",
       "    <tr>\n",
       "      <th>1</th>\n",
       "      <td>22</td>\n",
       "      <td>dafafd</td>\n",
       "    </tr>\n",
       "    <tr>\n",
       "      <th>2</th>\n",
       "      <td>33</td>\n",
       "      <td>NaN</td>\n",
       "    </tr>\n",
       "  </tbody>\n",
       "</table>\n",
       "</div>"
      ],
      "text/plain": [
       "    A              B\n",
       "0  11  Star afda gfg\n",
       "1  22         dafafd\n",
       "2  33            NaN"
      ]
     },
     "execution_count": 15,
     "metadata": {},
     "output_type": "execute_result"
    }
   ],
   "source": [
    "import numpy as np\n",
    "test_df = pd.DataFrame({'A': [11, 22, 33], 'B': ['Star afda gfg', 'dafafd', np.nan]})\n",
    "test_df"
   ]
  },
  {
   "cell_type": "code",
   "execution_count": 16,
   "metadata": {},
   "outputs": [
    {
     "name": "stdout",
     "output_type": "stream",
     "text": [
      "0     True\n",
      "1    False\n",
      "2      NaN\n",
      "Name: B, dtype: object\n",
      "\n",
      "0     True\n",
      "1    False\n",
      "2    False\n",
      "Name: B, dtype: bool\n"
     ]
    }
   ],
   "source": [
    "print(f'{test_df['B'].str.contains('Star')}\\n')\n",
    "print(f'{test_df['B'].str.contains('Star', na=False)}')"
   ]
  },
  {
   "cell_type": "code",
   "execution_count": 17,
   "metadata": {},
   "outputs": [
    {
     "data": {
      "text/html": [
       "<div>\n",
       "<style scoped>\n",
       "    .dataframe tbody tr th:only-of-type {\n",
       "        vertical-align: middle;\n",
       "    }\n",
       "\n",
       "    .dataframe tbody tr th {\n",
       "        vertical-align: top;\n",
       "    }\n",
       "\n",
       "    .dataframe thead th {\n",
       "        text-align: right;\n",
       "    }\n",
       "</style>\n",
       "<table border=\"1\" class=\"dataframe\">\n",
       "  <thead>\n",
       "    <tr style=\"text-align: right;\">\n",
       "      <th></th>\n",
       "      <th>A</th>\n",
       "      <th>B</th>\n",
       "    </tr>\n",
       "  </thead>\n",
       "  <tbody>\n",
       "    <tr>\n",
       "      <th>0</th>\n",
       "      <td>11</td>\n",
       "      <td>Star afda gfg</td>\n",
       "    </tr>\n",
       "  </tbody>\n",
       "</table>\n",
       "</div>"
      ],
      "text/plain": [
       "    A              B\n",
       "0  11  Star afda gfg"
      ]
     },
     "execution_count": 17,
     "metadata": {},
     "output_type": "execute_result"
    }
   ],
   "source": [
    "test_df[test_df['B'].str.contains('Star', na=False)]"
   ]
  },
  {
   "cell_type": "markdown",
   "metadata": {
    "id": "Cj-ug32JyEhp"
   },
   "source": [
    "# Investigating the Zero Revenue Films"
   ]
  },
  {
   "cell_type": "markdown",
   "metadata": {
    "id": "U9hm-pb4xTjY"
   },
   "source": [
    "**Challenge** How many films grossed $0 domestically (i.e., in the United States)? What were the highest budget films that grossed nothing?"
   ]
  },
  {
   "cell_type": "code",
   "execution_count": 22,
   "metadata": {},
   "outputs": [
    {
     "data": {
      "text/html": [
       "<div>\n",
       "<style scoped>\n",
       "    .dataframe tbody tr th:only-of-type {\n",
       "        vertical-align: middle;\n",
       "    }\n",
       "\n",
       "    .dataframe tbody tr th {\n",
       "        vertical-align: top;\n",
       "    }\n",
       "\n",
       "    .dataframe thead th {\n",
       "        text-align: right;\n",
       "    }\n",
       "</style>\n",
       "<table border=\"1\" class=\"dataframe\">\n",
       "  <thead>\n",
       "    <tr style=\"text-align: right;\">\n",
       "      <th></th>\n",
       "      <th>Rank</th>\n",
       "      <th>Release_Date</th>\n",
       "      <th>Movie_Title</th>\n",
       "      <th>USD_Production_Budget</th>\n",
       "      <th>USD_Worldwide_Gross</th>\n",
       "      <th>USD_Domestic_Gross</th>\n",
       "    </tr>\n",
       "  </thead>\n",
       "  <tbody>\n",
       "    <tr>\n",
       "      <th>534</th>\n",
       "      <td>3248</td>\n",
       "      <td>1989-07-04</td>\n",
       "      <td>Major League</td>\n",
       "      <td>11,000,000.00</td>\n",
       "      <td>49,793,054.00</td>\n",
       "      <td>49,793,054.00</td>\n",
       "    </tr>\n",
       "    <tr>\n",
       "      <th>3129</th>\n",
       "      <td>2562</td>\n",
       "      <td>2008-04-07</td>\n",
       "      <td>Ne le dis à personne</td>\n",
       "      <td>18,500,000.00</td>\n",
       "      <td>33,954,018.00</td>\n",
       "      <td>6,198,883.00</td>\n",
       "    </tr>\n",
       "    <tr>\n",
       "      <th>5340</th>\n",
       "      <td>1506</td>\n",
       "      <td>2017-04-14</td>\n",
       "      <td>Queen of the Desert</td>\n",
       "      <td>36,000,000.00</td>\n",
       "      <td>1,480,089.00</td>\n",
       "      <td>0.00</td>\n",
       "    </tr>\n",
       "  </tbody>\n",
       "</table>\n",
       "</div>"
      ],
      "text/plain": [
       "      Rank Release_Date           Movie_Title  USD_Production_Budget  \\\n",
       "534   3248   1989-07-04          Major League          11,000,000.00   \n",
       "3129  2562   2008-04-07  Ne le dis à personne          18,500,000.00   \n",
       "5340  1506   2017-04-14   Queen of the Desert          36,000,000.00   \n",
       "\n",
       "      USD_Worldwide_Gross  USD_Domestic_Gross  \n",
       "534         49,793,054.00       49,793,054.00  \n",
       "3129        33,954,018.00        6,198,883.00  \n",
       "5340         1,480,089.00                0.00  "
      ]
     },
     "execution_count": 22,
     "metadata": {},
     "output_type": "execute_result"
    }
   ],
   "source": [
    "data.sample(3)"
   ]
  },
  {
   "cell_type": "code",
   "execution_count": 29,
   "metadata": {
    "id": "MXuRYdy0TWkt"
   },
   "outputs": [
    {
     "name": "stdout",
     "output_type": "stream",
     "text": [
      "Number of films which grossed $0 in USA: 512\n"
     ]
    }
   ],
   "source": [
    "print(f'Number of films which grossed $0 in USA: {(data['USD_Domestic_Gross'] == 0).sum()}')"
   ]
  },
  {
   "cell_type": "code",
   "execution_count": 32,
   "metadata": {},
   "outputs": [
    {
     "name": "stdout",
     "output_type": "stream",
     "text": [
      "Highest budget films that grossed nothing:\n",
      "\n"
     ]
    },
    {
     "data": {
      "text/html": [
       "<div>\n",
       "<style scoped>\n",
       "    .dataframe tbody tr th:only-of-type {\n",
       "        vertical-align: middle;\n",
       "    }\n",
       "\n",
       "    .dataframe tbody tr th {\n",
       "        vertical-align: top;\n",
       "    }\n",
       "\n",
       "    .dataframe thead th {\n",
       "        text-align: right;\n",
       "    }\n",
       "</style>\n",
       "<table border=\"1\" class=\"dataframe\">\n",
       "  <thead>\n",
       "    <tr style=\"text-align: right;\">\n",
       "      <th></th>\n",
       "      <th>Rank</th>\n",
       "      <th>Release_Date</th>\n",
       "      <th>Movie_Title</th>\n",
       "      <th>USD_Production_Budget</th>\n",
       "      <th>USD_Worldwide_Gross</th>\n",
       "      <th>USD_Domestic_Gross</th>\n",
       "    </tr>\n",
       "  </thead>\n",
       "  <tbody>\n",
       "    <tr>\n",
       "      <th>5388</th>\n",
       "      <td>96</td>\n",
       "      <td>2020-12-31</td>\n",
       "      <td>Singularity</td>\n",
       "      <td>175,000,000.00</td>\n",
       "      <td>0.00</td>\n",
       "      <td>0.00</td>\n",
       "    </tr>\n",
       "    <tr>\n",
       "      <th>5387</th>\n",
       "      <td>126</td>\n",
       "      <td>2018-12-18</td>\n",
       "      <td>Aquaman</td>\n",
       "      <td>160,000,000.00</td>\n",
       "      <td>0.00</td>\n",
       "      <td>0.00</td>\n",
       "    </tr>\n",
       "    <tr>\n",
       "      <th>5384</th>\n",
       "      <td>321</td>\n",
       "      <td>2018-09-03</td>\n",
       "      <td>A Wrinkle in Time</td>\n",
       "      <td>103,000,000.00</td>\n",
       "      <td>0.00</td>\n",
       "      <td>0.00</td>\n",
       "    </tr>\n",
       "    <tr>\n",
       "      <th>5385</th>\n",
       "      <td>366</td>\n",
       "      <td>2018-10-08</td>\n",
       "      <td>Amusement Park</td>\n",
       "      <td>100,000,000.00</td>\n",
       "      <td>0.00</td>\n",
       "      <td>0.00</td>\n",
       "    </tr>\n",
       "    <tr>\n",
       "      <th>5090</th>\n",
       "      <td>556</td>\n",
       "      <td>2015-12-31</td>\n",
       "      <td>Don Gato, el inicio de la pandilla</td>\n",
       "      <td>80,000,000.00</td>\n",
       "      <td>4,547,660.00</td>\n",
       "      <td>0.00</td>\n",
       "    </tr>\n",
       "  </tbody>\n",
       "</table>\n",
       "</div>"
      ],
      "text/plain": [
       "      Rank Release_Date                         Movie_Title  \\\n",
       "5388    96   2020-12-31                         Singularity   \n",
       "5387   126   2018-12-18                             Aquaman   \n",
       "5384   321   2018-09-03                   A Wrinkle in Time   \n",
       "5385   366   2018-10-08                      Amusement Park   \n",
       "5090   556   2015-12-31  Don Gato, el inicio de la pandilla   \n",
       "\n",
       "      USD_Production_Budget  USD_Worldwide_Gross  USD_Domestic_Gross  \n",
       "5388         175,000,000.00                 0.00                0.00  \n",
       "5387         160,000,000.00                 0.00                0.00  \n",
       "5384         103,000,000.00                 0.00                0.00  \n",
       "5385         100,000,000.00                 0.00                0.00  \n",
       "5090          80,000,000.00         4,547,660.00                0.00  "
      ]
     },
     "execution_count": 32,
     "metadata": {},
     "output_type": "execute_result"
    }
   ],
   "source": [
    "print('Highest budget films that grossed nothing:\\n')\n",
    "\n",
    "data[(data['USD_Domestic_Gross'] == 0)].sort_values(by='USD_Production_Budget', ascending=False).head()"
   ]
  },
  {
   "cell_type": "code",
   "execution_count": 38,
   "metadata": {},
   "outputs": [
    {
     "data": {
      "text/html": [
       "<div>\n",
       "<style scoped>\n",
       "    .dataframe tbody tr th:only-of-type {\n",
       "        vertical-align: middle;\n",
       "    }\n",
       "\n",
       "    .dataframe tbody tr th {\n",
       "        vertical-align: top;\n",
       "    }\n",
       "\n",
       "    .dataframe thead th {\n",
       "        text-align: right;\n",
       "    }\n",
       "</style>\n",
       "<table border=\"1\" class=\"dataframe\">\n",
       "  <thead>\n",
       "    <tr style=\"text-align: right;\">\n",
       "      <th></th>\n",
       "      <th>USD_Production_Budget_for_gross_0_films</th>\n",
       "    </tr>\n",
       "  </thead>\n",
       "  <tbody>\n",
       "    <tr>\n",
       "      <th>min</th>\n",
       "      <td>1,400.00</td>\n",
       "    </tr>\n",
       "    <tr>\n",
       "      <th>max</th>\n",
       "      <td>175,000,000.00</td>\n",
       "    </tr>\n",
       "  </tbody>\n",
       "</table>\n",
       "</div>"
      ],
      "text/plain": [
       "     USD_Production_Budget_for_gross_0_films\n",
       "min                                 1,400.00\n",
       "max                           175,000,000.00"
      ]
     },
     "execution_count": 38,
     "metadata": {},
     "output_type": "execute_result"
    }
   ],
   "source": [
    "data.loc[(data['USD_Domestic_Gross'] == 0), 'USD_Production_Budget'].agg(['min', 'max']).to_frame(name='USD_Production_Budget_for_gross_0_films')"
   ]
  },
  {
   "cell_type": "markdown",
   "metadata": {
    "id": "mY8SAwI0x73b"
   },
   "source": [
    "**Challenge**: How many films grossed $0 worldwide? What are the highest budget films that had no revenue internationally?"
   ]
  },
  {
   "cell_type": "code",
   "execution_count": 39,
   "metadata": {
    "id": "VpfocexxTXym"
   },
   "outputs": [
    {
     "data": {
      "text/html": [
       "<div>\n",
       "<style scoped>\n",
       "    .dataframe tbody tr th:only-of-type {\n",
       "        vertical-align: middle;\n",
       "    }\n",
       "\n",
       "    .dataframe tbody tr th {\n",
       "        vertical-align: top;\n",
       "    }\n",
       "\n",
       "    .dataframe thead th {\n",
       "        text-align: right;\n",
       "    }\n",
       "</style>\n",
       "<table border=\"1\" class=\"dataframe\">\n",
       "  <thead>\n",
       "    <tr style=\"text-align: right;\">\n",
       "      <th></th>\n",
       "      <th>Rank</th>\n",
       "      <th>Release_Date</th>\n",
       "      <th>Movie_Title</th>\n",
       "      <th>USD_Production_Budget</th>\n",
       "      <th>USD_Worldwide_Gross</th>\n",
       "      <th>USD_Domestic_Gross</th>\n",
       "    </tr>\n",
       "  </thead>\n",
       "  <tbody>\n",
       "    <tr>\n",
       "      <th>1671</th>\n",
       "      <td>2692</td>\n",
       "      <td>2001-08-24</td>\n",
       "      <td>Summer Catch</td>\n",
       "      <td>17,000,000.00</td>\n",
       "      <td>19,693,891.00</td>\n",
       "      <td>19,693,891.00</td>\n",
       "    </tr>\n",
       "  </tbody>\n",
       "</table>\n",
       "</div>"
      ],
      "text/plain": [
       "      Rank Release_Date   Movie_Title  USD_Production_Budget  \\\n",
       "1671  2692   2001-08-24  Summer Catch          17,000,000.00   \n",
       "\n",
       "      USD_Worldwide_Gross  USD_Domestic_Gross  \n",
       "1671        19,693,891.00       19,693,891.00  "
      ]
     },
     "execution_count": 39,
     "metadata": {},
     "output_type": "execute_result"
    }
   ],
   "source": [
    "data.sample(1)"
   ]
  },
  {
   "cell_type": "code",
   "execution_count": 57,
   "metadata": {
    "id": "MXuRYdy0TWkt"
   },
   "outputs": [
    {
     "name": "stdout",
     "output_type": "stream",
     "text": [
      "Number of films which grossed $0 worldwide: 357\n"
     ]
    }
   ],
   "source": [
    "print(f'Number of films which grossed $0 worldwide: {(data['USD_Worldwide_Gross'] == 0).sum()}')"
   ]
  },
  {
   "cell_type": "code",
   "execution_count": 58,
   "metadata": {
    "scrolled": true
   },
   "outputs": [
    {
     "name": "stdout",
     "output_type": "stream",
     "text": [
      "Highest budget films that grossed nothing worldwide:\n",
      "\n"
     ]
    },
    {
     "data": {
      "text/html": [
       "<div>\n",
       "<style scoped>\n",
       "    .dataframe tbody tr th:only-of-type {\n",
       "        vertical-align: middle;\n",
       "    }\n",
       "\n",
       "    .dataframe tbody tr th {\n",
       "        vertical-align: top;\n",
       "    }\n",
       "\n",
       "    .dataframe thead th {\n",
       "        text-align: right;\n",
       "    }\n",
       "</style>\n",
       "<table border=\"1\" class=\"dataframe\">\n",
       "  <thead>\n",
       "    <tr style=\"text-align: right;\">\n",
       "      <th></th>\n",
       "      <th>Rank</th>\n",
       "      <th>Release_Date</th>\n",
       "      <th>Movie_Title</th>\n",
       "      <th>USD_Production_Budget</th>\n",
       "      <th>USD_Worldwide_Gross</th>\n",
       "      <th>USD_Domestic_Gross</th>\n",
       "    </tr>\n",
       "  </thead>\n",
       "  <tbody>\n",
       "    <tr>\n",
       "      <th>5388</th>\n",
       "      <td>96</td>\n",
       "      <td>2020-12-31</td>\n",
       "      <td>Singularity</td>\n",
       "      <td>175,000,000.00</td>\n",
       "      <td>0.00</td>\n",
       "      <td>0.00</td>\n",
       "    </tr>\n",
       "    <tr>\n",
       "      <th>5387</th>\n",
       "      <td>126</td>\n",
       "      <td>2018-12-18</td>\n",
       "      <td>Aquaman</td>\n",
       "      <td>160,000,000.00</td>\n",
       "      <td>0.00</td>\n",
       "      <td>0.00</td>\n",
       "    </tr>\n",
       "    <tr>\n",
       "      <th>5384</th>\n",
       "      <td>321</td>\n",
       "      <td>2018-09-03</td>\n",
       "      <td>A Wrinkle in Time</td>\n",
       "      <td>103,000,000.00</td>\n",
       "      <td>0.00</td>\n",
       "      <td>0.00</td>\n",
       "    </tr>\n",
       "    <tr>\n",
       "      <th>5385</th>\n",
       "      <td>366</td>\n",
       "      <td>2018-10-08</td>\n",
       "      <td>Amusement Park</td>\n",
       "      <td>100,000,000.00</td>\n",
       "      <td>0.00</td>\n",
       "      <td>0.00</td>\n",
       "    </tr>\n",
       "    <tr>\n",
       "      <th>5058</th>\n",
       "      <td>880</td>\n",
       "      <td>2015-11-12</td>\n",
       "      <td>The Ridiculous 6</td>\n",
       "      <td>60,000,000.00</td>\n",
       "      <td>0.00</td>\n",
       "      <td>0.00</td>\n",
       "    </tr>\n",
       "  </tbody>\n",
       "</table>\n",
       "</div>"
      ],
      "text/plain": [
       "      Rank Release_Date        Movie_Title  USD_Production_Budget  \\\n",
       "5388    96   2020-12-31        Singularity         175,000,000.00   \n",
       "5387   126   2018-12-18            Aquaman         160,000,000.00   \n",
       "5384   321   2018-09-03  A Wrinkle in Time         103,000,000.00   \n",
       "5385   366   2018-10-08     Amusement Park         100,000,000.00   \n",
       "5058   880   2015-11-12   The Ridiculous 6          60,000,000.00   \n",
       "\n",
       "      USD_Worldwide_Gross  USD_Domestic_Gross  \n",
       "5388                 0.00                0.00  \n",
       "5387                 0.00                0.00  \n",
       "5384                 0.00                0.00  \n",
       "5385                 0.00                0.00  \n",
       "5058                 0.00                0.00  "
      ]
     },
     "execution_count": 58,
     "metadata": {},
     "output_type": "execute_result"
    }
   ],
   "source": [
    "print('Highest budget films that grossed nothing worldwide:\\n')\n",
    "\n",
    "data[(data['USD_Worldwide_Gross'] == 0)].sort_values(by='USD_Production_Budget', ascending=False).head()"
   ]
  },
  {
   "cell_type": "code",
   "execution_count": 59,
   "metadata": {},
   "outputs": [
    {
     "data": {
      "text/html": [
       "<div>\n",
       "<style scoped>\n",
       "    .dataframe tbody tr th:only-of-type {\n",
       "        vertical-align: middle;\n",
       "    }\n",
       "\n",
       "    .dataframe tbody tr th {\n",
       "        vertical-align: top;\n",
       "    }\n",
       "\n",
       "    .dataframe thead th {\n",
       "        text-align: right;\n",
       "    }\n",
       "</style>\n",
       "<table border=\"1\" class=\"dataframe\">\n",
       "  <thead>\n",
       "    <tr style=\"text-align: right;\">\n",
       "      <th></th>\n",
       "      <th>USD_Production_Budget_for_gross_0_films_ww</th>\n",
       "    </tr>\n",
       "  </thead>\n",
       "  <tbody>\n",
       "    <tr>\n",
       "      <th>min</th>\n",
       "      <td>1,400.00</td>\n",
       "    </tr>\n",
       "    <tr>\n",
       "      <th>max</th>\n",
       "      <td>175,000,000.00</td>\n",
       "    </tr>\n",
       "  </tbody>\n",
       "</table>\n",
       "</div>"
      ],
      "text/plain": [
       "     USD_Production_Budget_for_gross_0_films_ww\n",
       "min                                    1,400.00\n",
       "max                              175,000,000.00"
      ]
     },
     "execution_count": 59,
     "metadata": {},
     "output_type": "execute_result"
    }
   ],
   "source": [
    "data.loc[(data['USD_Worldwide_Gross'] == 0), 'USD_Production_Budget'].agg(['min', 'max']).to_frame(name='USD_Production_Budget_for_gross_0_films_ww')"
   ]
  },
  {
   "cell_type": "markdown",
   "metadata": {
    "id": "eXUDzWpeyV2f"
   },
   "source": [
    "### Filtering on Multiple Conditions"
   ]
  },
  {
   "cell_type": "markdown",
   "metadata": {
    "id": "YruPjqLVPuiB"
   },
   "source": [
    "**Challenge**: Use the [`.query()` function](https://pandas.pydata.org/pandas-docs/stable/reference/api/pandas.DataFrame.query.html) to accomplish the same thing. Create a subset for international releases that had some worldwide gross revenue, but made zero revenue in the United States. \n",
    "\n",
    "Hint: This time you'll have to use the `and` keyword."
   ]
  },
  {
   "cell_type": "code",
   "execution_count": 54,
   "metadata": {},
   "outputs": [
    {
     "name": "stdout",
     "output_type": "stream",
     "text": [
      "Highest budget films that grossed nothing in USA:\n",
      "\n"
     ]
    },
    {
     "data": {
      "text/html": [
       "<div>\n",
       "<style scoped>\n",
       "    .dataframe tbody tr th:only-of-type {\n",
       "        vertical-align: middle;\n",
       "    }\n",
       "\n",
       "    .dataframe tbody tr th {\n",
       "        vertical-align: top;\n",
       "    }\n",
       "\n",
       "    .dataframe thead th {\n",
       "        text-align: right;\n",
       "    }\n",
       "</style>\n",
       "<table border=\"1\" class=\"dataframe\">\n",
       "  <thead>\n",
       "    <tr style=\"text-align: right;\">\n",
       "      <th></th>\n",
       "      <th>Rank</th>\n",
       "      <th>Release_Date</th>\n",
       "      <th>Movie_Title</th>\n",
       "      <th>USD_Production_Budget</th>\n",
       "      <th>USD_Worldwide_Gross</th>\n",
       "      <th>USD_Domestic_Gross</th>\n",
       "    </tr>\n",
       "  </thead>\n",
       "  <tbody>\n",
       "    <tr>\n",
       "      <th>5388</th>\n",
       "      <td>96</td>\n",
       "      <td>2020-12-31</td>\n",
       "      <td>Singularity</td>\n",
       "      <td>175,000,000.00</td>\n",
       "      <td>0.00</td>\n",
       "      <td>0.00</td>\n",
       "    </tr>\n",
       "    <tr>\n",
       "      <th>5387</th>\n",
       "      <td>126</td>\n",
       "      <td>2018-12-18</td>\n",
       "      <td>Aquaman</td>\n",
       "      <td>160,000,000.00</td>\n",
       "      <td>0.00</td>\n",
       "      <td>0.00</td>\n",
       "    </tr>\n",
       "    <tr>\n",
       "      <th>5384</th>\n",
       "      <td>321</td>\n",
       "      <td>2018-09-03</td>\n",
       "      <td>A Wrinkle in Time</td>\n",
       "      <td>103,000,000.00</td>\n",
       "      <td>0.00</td>\n",
       "      <td>0.00</td>\n",
       "    </tr>\n",
       "  </tbody>\n",
       "</table>\n",
       "</div>"
      ],
      "text/plain": [
       "      Rank Release_Date        Movie_Title  USD_Production_Budget  \\\n",
       "5388    96   2020-12-31        Singularity         175,000,000.00   \n",
       "5387   126   2018-12-18            Aquaman         160,000,000.00   \n",
       "5384   321   2018-09-03  A Wrinkle in Time         103,000,000.00   \n",
       "\n",
       "      USD_Worldwide_Gross  USD_Domestic_Gross  \n",
       "5388                 0.00                0.00  \n",
       "5387                 0.00                0.00  \n",
       "5384                 0.00                0.00  "
      ]
     },
     "execution_count": 54,
     "metadata": {},
     "output_type": "execute_result"
    }
   ],
   "source": [
    "print('Highest budget films that grossed nothing in USA:\\n')\n",
    "\n",
    "data.query('USD_Domestic_Gross == 0').sort_values(by='USD_Production_Budget', ascending=False).head(3)"
   ]
  },
  {
   "cell_type": "code",
   "execution_count": 53,
   "metadata": {},
   "outputs": [
    {
     "name": "stdout",
     "output_type": "stream",
     "text": [
      "Highest budget films that grossed nothing worldwide:\n",
      "\n"
     ]
    },
    {
     "data": {
      "text/html": [
       "<div>\n",
       "<style scoped>\n",
       "    .dataframe tbody tr th:only-of-type {\n",
       "        vertical-align: middle;\n",
       "    }\n",
       "\n",
       "    .dataframe tbody tr th {\n",
       "        vertical-align: top;\n",
       "    }\n",
       "\n",
       "    .dataframe thead th {\n",
       "        text-align: right;\n",
       "    }\n",
       "</style>\n",
       "<table border=\"1\" class=\"dataframe\">\n",
       "  <thead>\n",
       "    <tr style=\"text-align: right;\">\n",
       "      <th></th>\n",
       "      <th>Rank</th>\n",
       "      <th>Release_Date</th>\n",
       "      <th>Movie_Title</th>\n",
       "      <th>USD_Production_Budget</th>\n",
       "      <th>USD_Worldwide_Gross</th>\n",
       "      <th>USD_Domestic_Gross</th>\n",
       "    </tr>\n",
       "  </thead>\n",
       "  <tbody>\n",
       "    <tr>\n",
       "      <th>5388</th>\n",
       "      <td>96</td>\n",
       "      <td>2020-12-31</td>\n",
       "      <td>Singularity</td>\n",
       "      <td>175,000,000.00</td>\n",
       "      <td>0.00</td>\n",
       "      <td>0.00</td>\n",
       "    </tr>\n",
       "    <tr>\n",
       "      <th>5387</th>\n",
       "      <td>126</td>\n",
       "      <td>2018-12-18</td>\n",
       "      <td>Aquaman</td>\n",
       "      <td>160,000,000.00</td>\n",
       "      <td>0.00</td>\n",
       "      <td>0.00</td>\n",
       "    </tr>\n",
       "    <tr>\n",
       "      <th>5384</th>\n",
       "      <td>321</td>\n",
       "      <td>2018-09-03</td>\n",
       "      <td>A Wrinkle in Time</td>\n",
       "      <td>103,000,000.00</td>\n",
       "      <td>0.00</td>\n",
       "      <td>0.00</td>\n",
       "    </tr>\n",
       "  </tbody>\n",
       "</table>\n",
       "</div>"
      ],
      "text/plain": [
       "      Rank Release_Date        Movie_Title  USD_Production_Budget  \\\n",
       "5388    96   2020-12-31        Singularity         175,000,000.00   \n",
       "5387   126   2018-12-18            Aquaman         160,000,000.00   \n",
       "5384   321   2018-09-03  A Wrinkle in Time         103,000,000.00   \n",
       "\n",
       "      USD_Worldwide_Gross  USD_Domestic_Gross  \n",
       "5388                 0.00                0.00  \n",
       "5387                 0.00                0.00  \n",
       "5384                 0.00                0.00  "
      ]
     },
     "execution_count": 53,
     "metadata": {},
     "output_type": "execute_result"
    }
   ],
   "source": [
    "print('Highest budget films that grossed nothing worldwide:\\n')\n",
    "\n",
    "data.query('USD_Worldwide_Gross == 0').sort_values(by='USD_Production_Budget', ascending=False).head(3)"
   ]
  },
  {
   "cell_type": "code",
   "execution_count": 64,
   "metadata": {
    "id": "Xvu-jTCwTavg"
   },
   "outputs": [
    {
     "name": "stdout",
     "output_type": "stream",
     "text": [
      "Number of films which grossed $0 in USA but had some worldwide gross revenue: 155\n",
      "\n",
      "Subset of international releases that had some worldwide gross revenue, but made zero revenue in the United States:\n",
      "\n"
     ]
    },
    {
     "data": {
      "text/html": [
       "<div>\n",
       "<style scoped>\n",
       "    .dataframe tbody tr th:only-of-type {\n",
       "        vertical-align: middle;\n",
       "    }\n",
       "\n",
       "    .dataframe tbody tr th {\n",
       "        vertical-align: top;\n",
       "    }\n",
       "\n",
       "    .dataframe thead th {\n",
       "        text-align: right;\n",
       "    }\n",
       "</style>\n",
       "<table border=\"1\" class=\"dataframe\">\n",
       "  <thead>\n",
       "    <tr style=\"text-align: right;\">\n",
       "      <th></th>\n",
       "      <th>Rank</th>\n",
       "      <th>Release_Date</th>\n",
       "      <th>Movie_Title</th>\n",
       "      <th>USD_Production_Budget</th>\n",
       "      <th>USD_Worldwide_Gross</th>\n",
       "      <th>USD_Domestic_Gross</th>\n",
       "    </tr>\n",
       "  </thead>\n",
       "  <tbody>\n",
       "    <tr>\n",
       "      <th>2409</th>\n",
       "      <td>4747</td>\n",
       "      <td>2005-04-11</td>\n",
       "      <td>Wal-Mart: The High Cost of Low Price</td>\n",
       "      <td>1,500,000.00</td>\n",
       "      <td>58,692.00</td>\n",
       "      <td>0.00</td>\n",
       "    </tr>\n",
       "    <tr>\n",
       "      <th>3130</th>\n",
       "      <td>4416</td>\n",
       "      <td>2008-04-15</td>\n",
       "      <td>à L'Intérieur</td>\n",
       "      <td>3,000,000.00</td>\n",
       "      <td>895,932.00</td>\n",
       "      <td>0.00</td>\n",
       "    </tr>\n",
       "    <tr>\n",
       "      <th>5123</th>\n",
       "      <td>3014</td>\n",
       "      <td>2016-01-11</td>\n",
       "      <td>Reign of Assassins</td>\n",
       "      <td>14,000,000.00</td>\n",
       "      <td>11,354,230.00</td>\n",
       "      <td>0.00</td>\n",
       "    </tr>\n",
       "  </tbody>\n",
       "</table>\n",
       "</div>"
      ],
      "text/plain": [
       "      Rank Release_Date                           Movie_Title  \\\n",
       "2409  4747   2005-04-11  Wal-Mart: The High Cost of Low Price   \n",
       "3130  4416   2008-04-15                         à L'Intérieur   \n",
       "5123  3014   2016-01-11                    Reign of Assassins   \n",
       "\n",
       "      USD_Production_Budget  USD_Worldwide_Gross  USD_Domestic_Gross  \n",
       "2409           1,500,000.00            58,692.00                0.00  \n",
       "3130           3,000,000.00           895,932.00                0.00  \n",
       "5123          14,000,000.00        11,354,230.00                0.00  "
      ]
     },
     "execution_count": 64,
     "metadata": {},
     "output_type": "execute_result"
    }
   ],
   "source": [
    "print(f'Number of films which grossed $0 in USA but had some worldwide gross revenue: {data.query('(USD_Domestic_Gross == 0) & (USD_Worldwide_Gross > 0)').shape[0]}\\n')\n",
    "\n",
    "print('Subset of international releases that had some worldwide gross revenue, but made zero revenue in the United States:\\n')\n",
    "data.query('(USD_Domestic_Gross == 0) & (USD_Worldwide_Gross > 0)').sample(3)"
   ]
  },
  {
   "cell_type": "markdown",
   "metadata": {
    "id": "EM-FTE4OZhfr"
   },
   "source": [
    "### Unreleased Films\n",
    "\n",
    "**Challenge**:\n",
    "* Identify which films were not released yet as of the time of data collection (May 1st, 2018).\n",
    "* How many films are included in the dataset that have not yet had a chance to be screened in the box office? \n",
    "* Create another DataFrame called data_clean that does not include these films. "
   ]
  },
  {
   "cell_type": "code",
   "execution_count": 18,
   "metadata": {
    "id": "PIukYVY9Zpxu"
   },
   "outputs": [],
   "source": [
    "# Date of Data Collection\n",
    "scrape_date = pd.Timestamp('2018-5-1')"
   ]
  },
  {
   "cell_type": "markdown",
   "metadata": {},
   "source": [
    "#### Number of films included in the dataset that have not yet had a chance to be screened in the box office:"
   ]
  },
  {
   "cell_type": "code",
   "execution_count": 85,
   "metadata": {},
   "outputs": [
    {
     "data": {
      "text/plain": [
       "7"
      ]
     },
     "execution_count": 85,
     "metadata": {},
     "output_type": "execute_result"
    }
   ],
   "source": [
    "data.query(\"Release_Date > @pd.Timestamp('2018-5-1')\").shape[0]"
   ]
  },
  {
   "cell_type": "markdown",
   "metadata": {},
   "source": [
    "#### Films included in the dataset that have not yet had a chance to be screened in the box office:"
   ]
  },
  {
   "cell_type": "code",
   "execution_count": 88,
   "metadata": {},
   "outputs": [
    {
     "data": {
      "text/html": [
       "<div>\n",
       "<style scoped>\n",
       "    .dataframe tbody tr th:only-of-type {\n",
       "        vertical-align: middle;\n",
       "    }\n",
       "\n",
       "    .dataframe tbody tr th {\n",
       "        vertical-align: top;\n",
       "    }\n",
       "\n",
       "    .dataframe thead th {\n",
       "        text-align: right;\n",
       "    }\n",
       "</style>\n",
       "<table border=\"1\" class=\"dataframe\">\n",
       "  <thead>\n",
       "    <tr style=\"text-align: right;\">\n",
       "      <th></th>\n",
       "      <th>Rank</th>\n",
       "      <th>Release_Date</th>\n",
       "      <th>Movie_Title</th>\n",
       "      <th>USD_Production_Budget</th>\n",
       "      <th>USD_Worldwide_Gross</th>\n",
       "      <th>USD_Domestic_Gross</th>\n",
       "    </tr>\n",
       "  </thead>\n",
       "  <tbody>\n",
       "    <tr>\n",
       "      <th>5384</th>\n",
       "      <td>321</td>\n",
       "      <td>2018-09-03</td>\n",
       "      <td>A Wrinkle in Time</td>\n",
       "      <td>103,000,000.00</td>\n",
       "      <td>0.00</td>\n",
       "      <td>0.00</td>\n",
       "    </tr>\n",
       "    <tr>\n",
       "      <th>5385</th>\n",
       "      <td>366</td>\n",
       "      <td>2018-10-08</td>\n",
       "      <td>Amusement Park</td>\n",
       "      <td>100,000,000.00</td>\n",
       "      <td>0.00</td>\n",
       "      <td>0.00</td>\n",
       "    </tr>\n",
       "    <tr>\n",
       "      <th>5386</th>\n",
       "      <td>2950</td>\n",
       "      <td>2018-10-08</td>\n",
       "      <td>Meg</td>\n",
       "      <td>15,000,000.00</td>\n",
       "      <td>0.00</td>\n",
       "      <td>0.00</td>\n",
       "    </tr>\n",
       "    <tr>\n",
       "      <th>5387</th>\n",
       "      <td>126</td>\n",
       "      <td>2018-12-18</td>\n",
       "      <td>Aquaman</td>\n",
       "      <td>160,000,000.00</td>\n",
       "      <td>0.00</td>\n",
       "      <td>0.00</td>\n",
       "    </tr>\n",
       "    <tr>\n",
       "      <th>5388</th>\n",
       "      <td>96</td>\n",
       "      <td>2020-12-31</td>\n",
       "      <td>Singularity</td>\n",
       "      <td>175,000,000.00</td>\n",
       "      <td>0.00</td>\n",
       "      <td>0.00</td>\n",
       "    </tr>\n",
       "    <tr>\n",
       "      <th>5389</th>\n",
       "      <td>1119</td>\n",
       "      <td>2020-12-31</td>\n",
       "      <td>Hannibal the Conqueror</td>\n",
       "      <td>50,000,000.00</td>\n",
       "      <td>0.00</td>\n",
       "      <td>0.00</td>\n",
       "    </tr>\n",
       "    <tr>\n",
       "      <th>5390</th>\n",
       "      <td>2517</td>\n",
       "      <td>2020-12-31</td>\n",
       "      <td>Story of Bonnie and Clyde, The</td>\n",
       "      <td>20,000,000.00</td>\n",
       "      <td>0.00</td>\n",
       "      <td>0.00</td>\n",
       "    </tr>\n",
       "  </tbody>\n",
       "</table>\n",
       "</div>"
      ],
      "text/plain": [
       "      Rank Release_Date                     Movie_Title  \\\n",
       "5384   321   2018-09-03               A Wrinkle in Time   \n",
       "5385   366   2018-10-08                  Amusement Park   \n",
       "5386  2950   2018-10-08                             Meg   \n",
       "5387   126   2018-12-18                         Aquaman   \n",
       "5388    96   2020-12-31                     Singularity   \n",
       "5389  1119   2020-12-31          Hannibal the Conqueror   \n",
       "5390  2517   2020-12-31  Story of Bonnie and Clyde, The   \n",
       "\n",
       "      USD_Production_Budget  USD_Worldwide_Gross  USD_Domestic_Gross  \n",
       "5384         103,000,000.00                 0.00                0.00  \n",
       "5385         100,000,000.00                 0.00                0.00  \n",
       "5386          15,000,000.00                 0.00                0.00  \n",
       "5387         160,000,000.00                 0.00                0.00  \n",
       "5388         175,000,000.00                 0.00                0.00  \n",
       "5389          50,000,000.00                 0.00                0.00  \n",
       "5390          20,000,000.00                 0.00                0.00  "
      ]
     },
     "execution_count": 88,
     "metadata": {},
     "output_type": "execute_result"
    }
   ],
   "source": [
    "data.query('Release_Date > @scrape_date')"
   ]
  },
  {
   "cell_type": "code",
   "execution_count": 95,
   "metadata": {},
   "outputs": [
    {
     "data": {
      "text/plain": [
       "(5384, 6)"
      ]
     },
     "execution_count": 95,
     "metadata": {},
     "output_type": "execute_result"
    }
   ],
   "source": [
    "data_clean = data.query(\"Release_Date <= @pd.Timestamp('2018-5-1')\")\n",
    "data_clean.shape"
   ]
  },
  {
   "cell_type": "markdown",
   "metadata": {
    "id": "khrJcXlGZWZO"
   },
   "source": [
    "### Films that Lost Money\n",
    "\n",
    "**Challenge**: \n",
    "What is the percentage of films where the production costs exceeded the worldwide gross revenue? "
   ]
  },
  {
   "cell_type": "code",
   "execution_count": 103,
   "metadata": {
    "id": "7uW_U9StTgvZ"
   },
   "outputs": [
    {
     "data": {
      "text/plain": [
       "37.27711738484398"
      ]
     },
     "execution_count": 103,
     "metadata": {},
     "output_type": "execute_result"
    }
   ],
   "source": [
    "# Version 1\n",
    "(data_clean.query('USD_Production_Budget > USD_Worldwide_Gross').shape[0] / data_clean.shape[0]) * 100"
   ]
  },
  {
   "cell_type": "markdown",
   "metadata": {
    "id": "cfJUL3WwyiDy"
   },
   "source": [
    "# Seaborn for Data Viz: Bubble Charts"
   ]
  },
  {
   "cell_type": "markdown",
   "metadata": {
    "id": "e7NIOiL2y3en"
   },
   "source": [
    "### Plotting Movie Releases over Time\n",
    "\n",
    "**Challenge**: Try to create the following Bubble Chart:\n",
    "\n",
    "<img src=https://i.imgur.com/8fUn9T6.png>\n",
    "\n"
   ]
  },
  {
   "cell_type": "code",
   "execution_count": 114,
   "metadata": {},
   "outputs": [
    {
     "data": {
      "text/html": [
       "<div>\n",
       "<style scoped>\n",
       "    .dataframe tbody tr th:only-of-type {\n",
       "        vertical-align: middle;\n",
       "    }\n",
       "\n",
       "    .dataframe tbody tr th {\n",
       "        vertical-align: top;\n",
       "    }\n",
       "\n",
       "    .dataframe thead th {\n",
       "        text-align: right;\n",
       "    }\n",
       "</style>\n",
       "<table border=\"1\" class=\"dataframe\">\n",
       "  <thead>\n",
       "    <tr style=\"text-align: right;\">\n",
       "      <th></th>\n",
       "      <th>Rank</th>\n",
       "      <th>Release_Date</th>\n",
       "      <th>Movie_Title</th>\n",
       "      <th>USD_Production_Budget</th>\n",
       "      <th>USD_Worldwide_Gross</th>\n",
       "      <th>USD_Domestic_Gross</th>\n",
       "    </tr>\n",
       "  </thead>\n",
       "  <tbody>\n",
       "    <tr>\n",
       "      <th>2353</th>\n",
       "      <td>2661</td>\n",
       "      <td>2004-12-22</td>\n",
       "      <td>Hotel Rwanda</td>\n",
       "      <td>17,500,000.00</td>\n",
       "      <td>36,521,223.00</td>\n",
       "      <td>23,519,128.00</td>\n",
       "    </tr>\n",
       "  </tbody>\n",
       "</table>\n",
       "</div>"
      ],
      "text/plain": [
       "      Rank Release_Date   Movie_Title  USD_Production_Budget  \\\n",
       "2353  2661   2004-12-22  Hotel Rwanda          17,500,000.00   \n",
       "\n",
       "      USD_Worldwide_Gross  USD_Domestic_Gross  \n",
       "2353        36,521,223.00       23,519,128.00  "
      ]
     },
     "execution_count": 114,
     "metadata": {},
     "output_type": "execute_result"
    }
   ],
   "source": [
    "data_clean.sample(1)"
   ]
  },
  {
   "cell_type": "code",
   "execution_count": 116,
   "metadata": {
    "id": "OT0D-i3HTmsB"
   },
   "outputs": [
    {
     "data": {
      "image/png": "[encoded data removed]",
      "text/plain": [
       "<Figure size 640x480 with 1 Axes>"
      ]
     },
     "metadata": {},
     "output_type": "display_data"
    }
   ],
   "source": [
    "with sns.axes_style('darkgrid'):\n",
    "    sns.scatterplot(\n",
    "        data=data_clean,\n",
    "        x='Release_Date', y='USD_Production_Budget',\n",
    "        size='USD_Worldwide_Gross', hue='USD_Worldwide_Gross'\n",
    "    )"
   ]
  },
  {
   "cell_type": "markdown",
   "metadata": {
    "id": "r_2hFz9py84b"
   },
   "source": [
    "# Converting Years to Decades Trick\n",
    "\n",
    "**Challenge**: Create a column in `data_clean` that has the decade of the release. \n",
    "\n",
    "<img src=https://i.imgur.com/0VEfagw.png width=650> \n",
    "\n",
    "Here's how: \n",
    "1. Create a [`DatetimeIndex` object](https://pandas.pydata.org/pandas-docs/stable/reference/api/pandas.DatetimeIndex.html) from the Release_Date column. \n",
    "2. Grab all the years from the `DatetimeIndex` object using the `.year` property.\n",
    "<img src=https://i.imgur.com/5m06Ach.png width=650>\n",
    "3. Use floor division `//` to convert the year data to the decades of the films.\n",
    "4. Add the decades as a `Decade` column to the `data_clean` DataFrame."
   ]
  },
  {
   "cell_type": "code",
   "execution_count": null,
   "metadata": {
    "id": "lak08IPMTn-j"
   },
   "outputs": [],
   "source": []
  },
  {
   "cell_type": "markdown",
   "metadata": {
    "id": "q-X7NK_9zIz9"
   },
   "source": [
    "### Separate the \"old\" (before 1969) and \"New\" (1970s onwards) Films\n",
    "\n",
    "**Challenge**: Create two new DataFrames: `old_films` and `new_films`\n",
    "* `old_films` should include all the films before 1969 (up to and including 1969)\n",
    "* `new_films` should include all the films from 1970 onwards\n",
    "* How many films were released prior to 1970?\n",
    "* What was the most expensive film made prior to 1970?"
   ]
  },
  {
   "cell_type": "code",
   "execution_count": null,
   "metadata": {
    "id": "qe93nMcBTqQz"
   },
   "outputs": [],
   "source": []
  },
  {
   "cell_type": "markdown",
   "metadata": {
    "id": "msXABzF3zW7e"
   },
   "source": [
    "# Seaborn Regression Plots"
   ]
  },
  {
   "cell_type": "code",
   "execution_count": null,
   "metadata": {
    "id": "2ajPcWMJTsom"
   },
   "outputs": [],
   "source": []
  },
  {
   "cell_type": "markdown",
   "metadata": {
    "id": "6k4MeLmxWFwX"
   },
   "source": [
    "**Challenge**: Use Seaborn's `.regplot()` to show the scatter plot and linear regression line against the `new_films`. \n",
    "<br>\n",
    "<br>\n",
    "Style the chart\n",
    "\n",
    "* Put the chart on a `'darkgrid'`.\n",
    "* Set limits on the axes so that they don't show negative values.\n",
    "* Label the axes on the plot \"Revenue in \\$ billions\" and \"Budget in \\$ millions\".\n",
    "* Provide HEX colour codes for the plot and the regression line. Make the dots dark blue (#2f4b7c) and the line orange (#ff7c43).\n",
    "\n",
    "Interpret the chart\n",
    "\n",
    "* Do our data points for the new films align better or worse with the linear regression than for our older films?\n",
    "* Roughly how much would a film with a budget of $150 million make according to the regression line?"
   ]
  },
  {
   "cell_type": "code",
   "execution_count": null,
   "metadata": {
    "id": "6cOVsxqvTui2"
   },
   "outputs": [],
   "source": []
  },
  {
   "cell_type": "markdown",
   "metadata": {
    "id": "Q1SUPPMAzlVK"
   },
   "source": [
    "# Run Your Own Regression with scikit-learn\n",
    "\n",
    "$$ REV \\hat ENUE = \\theta _0 + \\theta _1 BUDGET$$"
   ]
  },
  {
   "cell_type": "code",
   "execution_count": null,
   "metadata": {
    "id": "QmX-wMMLTwBW"
   },
   "outputs": [],
   "source": []
  },
  {
   "cell_type": "markdown",
   "metadata": {
    "id": "o23E9iT1RHQ1"
   },
   "source": [
    "**Challenge**: Run a linear regression for the `old_films`. Calculate the intercept, slope and r-squared. How much of the variance in movie revenue does the linear model explain in this case?"
   ]
  },
  {
   "cell_type": "code",
   "execution_count": null,
   "metadata": {
    "id": "Sd43DJNDT0yQ"
   },
   "outputs": [],
   "source": []
  },
  {
   "cell_type": "code",
   "execution_count": null,
   "metadata": {
    "id": "ygKsLBx5Rs7t"
   },
   "outputs": [],
   "source": []
  },
  {
   "cell_type": "markdown",
   "metadata": {
    "id": "hoD3PeG75p78"
   },
   "source": [
    "# Use Your Model to Make a Prediction\n",
    "\n",
    "We just estimated the slope and intercept! Remember that our Linear Model has the following form:\n",
    "\n",
    "$$ REV \\hat ENUE = \\theta _0 + \\theta _1 BUDGET$$\n",
    "\n",
    "**Challenge**:  How much global revenue does our model estimate for a film with a budget of $350 million? "
   ]
  },
  {
   "cell_type": "code",
   "execution_count": null,
   "metadata": {
    "id": "fX4I4h5i5rgF"
   },
   "outputs": [],
   "source": []
  },
  {
   "cell_type": "code",
   "execution_count": null,
   "metadata": {
    "id": "fB2Yp8ln5qfO"
   },
   "outputs": [],
   "source": []
  }
 ],
 "metadata": {
  "colab": {
   "name": "Seaborn and Linear Regression (start).ipynb",
   "provenance": []
  },
  "kernelspec": {
   "display_name": "my_env",
   "language": "python",
   "name": "my_env"
  },
  "language_info": {
   "codemirror_mode": {
    "name": "ipython",
    "version": 3
   },
   "file_extension": ".py",
   "mimetype": "text/x-python",
   "name": "python",
   "nbconvert_exporter": "python",
   "pygments_lexer": "ipython3",
   "version": "3.12.1"
  }
 },
 "nbformat": 4,
 "nbformat_minor": 4
}
