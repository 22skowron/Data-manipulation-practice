{
 "cells": [
  {
   "cell_type": "code",
   "execution_count": 1,
   "id": "76eff29e-f114-469b-b95e-ba053fa26da2",
   "metadata": {},
   "outputs": [],
   "source": [
    "import pandas as pd\n",
    "import numpy as np"
   ]
  },
  {
   "cell_type": "code",
   "execution_count": 2,
   "id": "e4940d39-b387-4f84-b533-2634b5a1b8a0",
   "metadata": {},
   "outputs": [
    {
     "data": {
      "text/html": [
       "<div>\n",
       "<style scoped>\n",
       "    .dataframe tbody tr th:only-of-type {\n",
       "        vertical-align: middle;\n",
       "    }\n",
       "\n",
       "    .dataframe tbody tr th {\n",
       "        vertical-align: top;\n",
       "    }\n",
       "\n",
       "    .dataframe thead th {\n",
       "        text-align: right;\n",
       "    }\n",
       "</style>\n",
       "<table border=\"1\" class=\"dataframe\">\n",
       "  <thead>\n",
       "    <tr style=\"text-align: right;\">\n",
       "      <th></th>\n",
       "      <th>Undergraduate Major</th>\n",
       "      <th>Starting Median Salary</th>\n",
       "      <th>Mid-Career Median Salary</th>\n",
       "      <th>Mid-Career 10th Percentile Salary</th>\n",
       "      <th>Mid-Career 90th Percentile Salary</th>\n",
       "      <th>Group</th>\n",
       "    </tr>\n",
       "  </thead>\n",
       "  <tbody>\n",
       "    <tr>\n",
       "      <th>0</th>\n",
       "      <td>Accounting</td>\n",
       "      <td>46000.0</td>\n",
       "      <td>77100.0</td>\n",
       "      <td>42200.0</td>\n",
       "      <td>152000.0</td>\n",
       "      <td>Business</td>\n",
       "    </tr>\n",
       "    <tr>\n",
       "      <th>1</th>\n",
       "      <td>Aerospace Engineering</td>\n",
       "      <td>57700.0</td>\n",
       "      <td>101000.0</td>\n",
       "      <td>64300.0</td>\n",
       "      <td>161000.0</td>\n",
       "      <td>STEM</td>\n",
       "    </tr>\n",
       "    <tr>\n",
       "      <th>2</th>\n",
       "      <td>Agriculture</td>\n",
       "      <td>42600.0</td>\n",
       "      <td>71900.0</td>\n",
       "      <td>36300.0</td>\n",
       "      <td>150000.0</td>\n",
       "      <td>Business</td>\n",
       "    </tr>\n",
       "    <tr>\n",
       "      <th>3</th>\n",
       "      <td>Anthropology</td>\n",
       "      <td>36800.0</td>\n",
       "      <td>61500.0</td>\n",
       "      <td>33800.0</td>\n",
       "      <td>138000.0</td>\n",
       "      <td>HASS</td>\n",
       "    </tr>\n",
       "    <tr>\n",
       "      <th>4</th>\n",
       "      <td>Architecture</td>\n",
       "      <td>41600.0</td>\n",
       "      <td>76800.0</td>\n",
       "      <td>50600.0</td>\n",
       "      <td>136000.0</td>\n",
       "      <td>Business</td>\n",
       "    </tr>\n",
       "  </tbody>\n",
       "</table>\n",
       "</div>"
      ],
      "text/plain": [
       "     Undergraduate Major  Starting Median Salary  Mid-Career Median Salary  \\\n",
       "0             Accounting                 46000.0                   77100.0   \n",
       "1  Aerospace Engineering                 57700.0                  101000.0   \n",
       "2            Agriculture                 42600.0                   71900.0   \n",
       "3           Anthropology                 36800.0                   61500.0   \n",
       "4           Architecture                 41600.0                   76800.0   \n",
       "\n",
       "   Mid-Career 10th Percentile Salary  Mid-Career 90th Percentile Salary  \\\n",
       "0                            42200.0                           152000.0   \n",
       "1                            64300.0                           161000.0   \n",
       "2                            36300.0                           150000.0   \n",
       "3                            33800.0                           138000.0   \n",
       "4                            50600.0                           136000.0   \n",
       "\n",
       "      Group  \n",
       "0  Business  \n",
       "1      STEM  \n",
       "2  Business  \n",
       "3      HASS  \n",
       "4  Business  "
      ]
     },
     "execution_count": 2,
     "metadata": {},
     "output_type": "execute_result"
    }
   ],
   "source": [
    "# PaysScale dataset from 2008, looking back on previous 10 years\n",
    "\n",
    "df = pd.read_csv(\"Data_files/salaries_by_college_major.csv\")\n",
    "df.head()"
   ]
  },
  {
   "cell_type": "code",
   "execution_count": 3,
   "id": "de573fa7-2303-4ac8-a8ca-886ec818c7f4",
   "metadata": {},
   "outputs": [
    {
     "name": "stdout",
     "output_type": "stream",
     "text": [
      "<class 'pandas.core.frame.DataFrame'>\n",
      "RangeIndex: 51 entries, 0 to 50\n",
      "Data columns (total 6 columns):\n",
      " #   Column                             Non-Null Count  Dtype  \n",
      "---  ------                             --------------  -----  \n",
      " 0   Undergraduate Major                51 non-null     object \n",
      " 1   Starting Median Salary             50 non-null     float64\n",
      " 2   Mid-Career Median Salary           50 non-null     float64\n",
      " 3   Mid-Career 10th Percentile Salary  50 non-null     float64\n",
      " 4   Mid-Career 90th Percentile Salary  50 non-null     float64\n",
      " 5   Group                              50 non-null     object \n",
      "dtypes: float64(4), object(2)\n",
      "memory usage: 2.5+ KB\n"
     ]
    }
   ],
   "source": [
    "df.info()"
   ]
  },
  {
   "cell_type": "code",
   "execution_count": 4,
   "id": "b70c0aca-7933-46a6-8577-efa332bb813a",
   "metadata": {},
   "outputs": [
    {
     "data": {
      "text/plain": [
       "Index(['Undergraduate Major', 'Starting Median Salary',\n",
       "       'Mid-Career Median Salary', 'Mid-Career 10th Percentile Salary',\n",
       "       'Mid-Career 90th Percentile Salary', 'Group'],\n",
       "      dtype='object')"
      ]
     },
     "execution_count": 4,
     "metadata": {},
     "output_type": "execute_result"
    }
   ],
   "source": [
    "df.columns"
   ]
  },
  {
   "cell_type": "code",
   "execution_count": 5,
   "id": "ea3d6189-b586-4666-ab66-b0e5b2cbf287",
   "metadata": {},
   "outputs": [
    {
     "data": {
      "text/plain": [
       "RangeIndex(start=0, stop=51, step=1)"
      ]
     },
     "execution_count": 5,
     "metadata": {},
     "output_type": "execute_result"
    }
   ],
   "source": [
    "df.index"
   ]
  },
  {
   "cell_type": "markdown",
   "id": "7c986610-bcfb-4233-b12d-2993bf4e6305",
   "metadata": {},
   "source": [
    "### Identify rows with missing values"
   ]
  },
  {
   "cell_type": "code",
   "execution_count": 6,
   "id": "a33d6775-2a2d-4768-8607-8c6e71749244",
   "metadata": {},
   "outputs": [
    {
     "data": {
      "text/plain": [
       "1"
      ]
     },
     "execution_count": 6,
     "metadata": {},
     "output_type": "execute_result"
    }
   ],
   "source": [
    "# Number of rows with missing values\n",
    "df.isna().any(axis=1).sum()"
   ]
  },
  {
   "cell_type": "code",
   "execution_count": 7,
   "id": "0a2dbbd9-c3b0-4c33-a24c-dac60f65dc8f",
   "metadata": {},
   "outputs": [
    {
     "data": {
      "text/html": [
       "<div>\n",
       "<style scoped>\n",
       "    .dataframe tbody tr th:only-of-type {\n",
       "        vertical-align: middle;\n",
       "    }\n",
       "\n",
       "    .dataframe tbody tr th {\n",
       "        vertical-align: top;\n",
       "    }\n",
       "\n",
       "    .dataframe thead th {\n",
       "        text-align: right;\n",
       "    }\n",
       "</style>\n",
       "<table border=\"1\" class=\"dataframe\">\n",
       "  <thead>\n",
       "    <tr style=\"text-align: right;\">\n",
       "      <th></th>\n",
       "      <th>Undergraduate Major</th>\n",
       "      <th>Starting Median Salary</th>\n",
       "      <th>Mid-Career Median Salary</th>\n",
       "      <th>Mid-Career 10th Percentile Salary</th>\n",
       "      <th>Mid-Career 90th Percentile Salary</th>\n",
       "      <th>Group</th>\n",
       "    </tr>\n",
       "  </thead>\n",
       "  <tbody>\n",
       "    <tr>\n",
       "      <th>50</th>\n",
       "      <td>Source: PayScale Inc.</td>\n",
       "      <td>NaN</td>\n",
       "      <td>NaN</td>\n",
       "      <td>NaN</td>\n",
       "      <td>NaN</td>\n",
       "      <td>NaN</td>\n",
       "    </tr>\n",
       "  </tbody>\n",
       "</table>\n",
       "</div>"
      ],
      "text/plain": [
       "      Undergraduate Major  Starting Median Salary  Mid-Career Median Salary  \\\n",
       "50  Source: PayScale Inc.                     NaN                       NaN   \n",
       "\n",
       "    Mid-Career 10th Percentile Salary  Mid-Career 90th Percentile Salary Group  \n",
       "50                                NaN                                NaN   NaN  "
      ]
     },
     "execution_count": 7,
     "metadata": {},
     "output_type": "execute_result"
    }
   ],
   "source": [
    "# Row(s) with missing values\n",
    "df[df.isna().any(axis=1)]"
   ]
  },
  {
   "cell_type": "markdown",
   "id": "cd048458-4e9f-4a6b-922b-9b3a6a98150a",
   "metadata": {},
   "source": [
    "### Unique values"
   ]
  },
  {
   "cell_type": "code",
   "execution_count": 8,
   "id": "b65783f7-9408-4488-a72e-c91d480ec480",
   "metadata": {},
   "outputs": [
    {
     "data": {
      "text/plain": [
       "Undergraduate Major                  51\n",
       "Starting Median Salary               43\n",
       "Mid-Career Median Salary             49\n",
       "Mid-Career 10th Percentile Salary    45\n",
       "Mid-Career 90th Percentile Salary    43\n",
       "Group                                 3\n",
       "dtype: int64"
      ]
     },
     "execution_count": 8,
     "metadata": {},
     "output_type": "execute_result"
    }
   ],
   "source": [
    "df.nunique()"
   ]
  },
  {
   "cell_type": "code",
   "execution_count": 9,
   "id": "97786967-e0be-477f-89af-632cdc625831",
   "metadata": {},
   "outputs": [
    {
     "data": {
      "text/plain": [
       "Group\n",
       "HASS        22\n",
       "STEM        16\n",
       "Business    12\n",
       "Name: count, dtype: int64"
      ]
     },
     "execution_count": 9,
     "metadata": {},
     "output_type": "execute_result"
    }
   ],
   "source": [
    "df['Group'].value_counts()"
   ]
  },
  {
   "cell_type": "markdown",
   "id": "35f51c85-d0d2-409c-a40b-9fb7fe88473e",
   "metadata": {},
   "source": [
    "### Average Mid-Career Median Salary for each group"
   ]
  },
  {
   "cell_type": "code",
   "execution_count": 10,
   "id": "c2e27c35-44c6-460d-8bb8-cc6cb7f4fb87",
   "metadata": {},
   "outputs": [
    {
     "data": {
      "text/plain": [
       "Group\n",
       "Business    75083.333333\n",
       "HASS        62968.181818\n",
       "STEM        90812.500000\n",
       "Name: Mid-Career Median Salary, dtype: float64"
      ]
     },
     "execution_count": 10,
     "metadata": {},
     "output_type": "execute_result"
    }
   ],
   "source": [
    "df.groupby(\"Group\")['Mid-Career Median Salary'].mean()"
   ]
  },
  {
   "cell_type": "markdown",
   "id": "798d345b-1492-4195-842e-0b27d6da9942",
   "metadata": {},
   "source": [
    "### Averaged salary columns"
   ]
  },
  {
   "cell_type": "code",
   "execution_count": 11,
   "id": "2885414e-a7d5-4531-be6a-410a98b1c80d",
   "metadata": {},
   "outputs": [
    {
     "data": {
      "text/plain": [
       "Starting Median Salary                44310.0\n",
       "Mid-Career Median Salary              74786.0\n",
       "Mid-Career 10th Percentile Salary     43408.0\n",
       "Mid-Career 90th Percentile Salary    142766.0\n",
       "dtype: float64"
      ]
     },
     "execution_count": 11,
     "metadata": {},
     "output_type": "execute_result"
    }
   ],
   "source": [
    "df.iloc[:, 1:5].mean()"
   ]
  },
  {
   "cell_type": "code",
   "execution_count": 12,
   "id": "cfaef15b-679b-492b-9efb-941982e9801f",
   "metadata": {
    "scrolled": true
   },
   "outputs": [
    {
     "data": {
      "text/html": [
       "<div>\n",
       "<style scoped>\n",
       "    .dataframe tbody tr th:only-of-type {\n",
       "        vertical-align: middle;\n",
       "    }\n",
       "\n",
       "    .dataframe tbody tr th {\n",
       "        vertical-align: top;\n",
       "    }\n",
       "\n",
       "    .dataframe thead th {\n",
       "        text-align: right;\n",
       "    }\n",
       "</style>\n",
       "<table border=\"1\" class=\"dataframe\">\n",
       "  <thead>\n",
       "    <tr style=\"text-align: right;\">\n",
       "      <th></th>\n",
       "      <th>Starting Median Salary</th>\n",
       "      <th>Mid-Career Median Salary</th>\n",
       "      <th>Mid-Career 10th Percentile Salary</th>\n",
       "      <th>Mid-Career 90th Percentile Salary</th>\n",
       "    </tr>\n",
       "  </thead>\n",
       "  <tbody>\n",
       "    <tr>\n",
       "      <th>count</th>\n",
       "      <td>50.000000</td>\n",
       "      <td>50.00000</td>\n",
       "      <td>50.000000</td>\n",
       "      <td>50.000000</td>\n",
       "    </tr>\n",
       "    <tr>\n",
       "      <th>mean</th>\n",
       "      <td>44310.000000</td>\n",
       "      <td>74786.00000</td>\n",
       "      <td>43408.000000</td>\n",
       "      <td>142766.000000</td>\n",
       "    </tr>\n",
       "    <tr>\n",
       "      <th>std</th>\n",
       "      <td>9360.866217</td>\n",
       "      <td>16088.40386</td>\n",
       "      <td>12000.779567</td>\n",
       "      <td>27851.249267</td>\n",
       "    </tr>\n",
       "    <tr>\n",
       "      <th>min</th>\n",
       "      <td>34000.000000</td>\n",
       "      <td>52000.00000</td>\n",
       "      <td>26700.000000</td>\n",
       "      <td>96400.000000</td>\n",
       "    </tr>\n",
       "    <tr>\n",
       "      <th>25%</th>\n",
       "      <td>37050.000000</td>\n",
       "      <td>60825.00000</td>\n",
       "      <td>34825.000000</td>\n",
       "      <td>124250.000000</td>\n",
       "    </tr>\n",
       "    <tr>\n",
       "      <th>50%</th>\n",
       "      <td>40850.000000</td>\n",
       "      <td>72000.00000</td>\n",
       "      <td>39400.000000</td>\n",
       "      <td>145500.000000</td>\n",
       "    </tr>\n",
       "    <tr>\n",
       "      <th>75%</th>\n",
       "      <td>49875.000000</td>\n",
       "      <td>88750.00000</td>\n",
       "      <td>49850.000000</td>\n",
       "      <td>161750.000000</td>\n",
       "    </tr>\n",
       "    <tr>\n",
       "      <th>max</th>\n",
       "      <td>74300.000000</td>\n",
       "      <td>107000.00000</td>\n",
       "      <td>71900.000000</td>\n",
       "      <td>210000.000000</td>\n",
       "    </tr>\n",
       "  </tbody>\n",
       "</table>\n",
       "</div>"
      ],
      "text/plain": [
       "       Starting Median Salary  Mid-Career Median Salary  \\\n",
       "count               50.000000                  50.00000   \n",
       "mean             44310.000000               74786.00000   \n",
       "std               9360.866217               16088.40386   \n",
       "min              34000.000000               52000.00000   \n",
       "25%              37050.000000               60825.00000   \n",
       "50%              40850.000000               72000.00000   \n",
       "75%              49875.000000               88750.00000   \n",
       "max              74300.000000              107000.00000   \n",
       "\n",
       "       Mid-Career 10th Percentile Salary  Mid-Career 90th Percentile Salary  \n",
       "count                          50.000000                          50.000000  \n",
       "mean                        43408.000000                      142766.000000  \n",
       "std                         12000.779567                       27851.249267  \n",
       "min                         26700.000000                       96400.000000  \n",
       "25%                         34825.000000                      124250.000000  \n",
       "50%                         39400.000000                      145500.000000  \n",
       "75%                         49850.000000                      161750.000000  \n",
       "max                         71900.000000                      210000.000000  "
      ]
     },
     "execution_count": 12,
     "metadata": {},
     "output_type": "execute_result"
    }
   ],
   "source": [
    "df.describe()"
   ]
  },
  {
   "cell_type": "markdown",
   "id": "675021aa-4ee7-4320-b6c9-b614aa054278",
   "metadata": {},
   "source": [
    "### Find College Major with Highest Starting Salaries"
   ]
  },
  {
   "cell_type": "code",
   "execution_count": 13,
   "id": "035116e1-c21d-4fa2-bf0d-5d7c3bc61203",
   "metadata": {
    "scrolled": true
   },
   "outputs": [
    {
     "data": {
      "text/html": [
       "<div>\n",
       "<style scoped>\n",
       "    .dataframe tbody tr th:only-of-type {\n",
       "        vertical-align: middle;\n",
       "    }\n",
       "\n",
       "    .dataframe tbody tr th {\n",
       "        vertical-align: top;\n",
       "    }\n",
       "\n",
       "    .dataframe thead th {\n",
       "        text-align: right;\n",
       "    }\n",
       "</style>\n",
       "<table border=\"1\" class=\"dataframe\">\n",
       "  <thead>\n",
       "    <tr style=\"text-align: right;\">\n",
       "      <th></th>\n",
       "      <th>Starting Median Salary</th>\n",
       "      <th>Undergraduate Major</th>\n",
       "    </tr>\n",
       "  </thead>\n",
       "  <tbody>\n",
       "    <tr>\n",
       "      <th>43</th>\n",
       "      <td>74300.0</td>\n",
       "      <td>Physician Assistant</td>\n",
       "    </tr>\n",
       "    <tr>\n",
       "      <th>8</th>\n",
       "      <td>63200.0</td>\n",
       "      <td>Chemical Engineering</td>\n",
       "    </tr>\n",
       "    <tr>\n",
       "      <th>12</th>\n",
       "      <td>61400.0</td>\n",
       "      <td>Computer Engineering</td>\n",
       "    </tr>\n",
       "  </tbody>\n",
       "</table>\n",
       "</div>"
      ],
      "text/plain": [
       "    Starting Median Salary   Undergraduate Major\n",
       "43                 74300.0   Physician Assistant\n",
       "8                  63200.0  Chemical Engineering\n",
       "12                 61400.0  Computer Engineering"
      ]
     },
     "execution_count": 13,
     "metadata": {},
     "output_type": "execute_result"
    }
   ],
   "source": [
    "# 1 way\n",
    "df.loc[:, [\"Starting Median Salary\", \"Undergraduate Major\"]].sort_values(by=\"Starting Median Salary\", ascending=False).head(3)"
   ]
  },
  {
   "cell_type": "code",
   "execution_count": 14,
   "id": "44ead4ae-d17a-47ba-9eac-542db00d4404",
   "metadata": {},
   "outputs": [
    {
     "data": {
      "text/plain": [
       "'Physician Assistant'"
      ]
     },
     "execution_count": 14,
     "metadata": {},
     "output_type": "execute_result"
    }
   ],
   "source": [
    "# 2 way\n",
    "highest_salary_index = df[\"Starting Median Salary\"].idxmax()\n",
    "df.loc[highest_salary_index, \"Undergraduate Major\"]"
   ]
  },
  {
   "cell_type": "markdown",
   "id": "3d1aeb8a-83be-410a-a68d-c675608a4ecd",
   "metadata": {},
   "source": [
    "### Find College Major with Lowest Starting Salaries"
   ]
  },
  {
   "cell_type": "code",
   "execution_count": 15,
   "id": "c6dac836-eca0-4c3a-a841-f2564ca65f4f",
   "metadata": {},
   "outputs": [
    {
     "data": {
      "text/html": [
       "<div>\n",
       "<style scoped>\n",
       "    .dataframe tbody tr th:only-of-type {\n",
       "        vertical-align: middle;\n",
       "    }\n",
       "\n",
       "    .dataframe tbody tr th {\n",
       "        vertical-align: top;\n",
       "    }\n",
       "\n",
       "    .dataframe thead th {\n",
       "        text-align: right;\n",
       "    }\n",
       "</style>\n",
       "<table border=\"1\" class=\"dataframe\">\n",
       "  <thead>\n",
       "    <tr style=\"text-align: right;\">\n",
       "      <th></th>\n",
       "      <th>Starting Median Salary</th>\n",
       "      <th>Undergraduate Major</th>\n",
       "    </tr>\n",
       "  </thead>\n",
       "  <tbody>\n",
       "    <tr>\n",
       "      <th>49</th>\n",
       "      <td>34000.0</td>\n",
       "      <td>Spanish</td>\n",
       "    </tr>\n",
       "  </tbody>\n",
       "</table>\n",
       "</div>"
      ],
      "text/plain": [
       "    Starting Median Salary Undergraduate Major\n",
       "49                 34000.0             Spanish"
      ]
     },
     "execution_count": 15,
     "metadata": {},
     "output_type": "execute_result"
    }
   ],
   "source": [
    "df.loc[:, [\"Starting Median Salary\", \"Undergraduate Major\"]].sort_values(by=\"Starting Median Salary\", ascending=True).head(1)"
   ]
  },
  {
   "cell_type": "markdown",
   "id": "e0285259-a266-4b92-88cf-0a7546c0e211",
   "metadata": {},
   "source": [
    "### Create new dataframe and clean it"
   ]
  },
  {
   "cell_type": "code",
   "execution_count": 16,
   "id": "0f87208d",
   "metadata": {},
   "outputs": [
    {
     "data": {
      "text/html": [
       "<div>\n",
       "<style scoped>\n",
       "    .dataframe tbody tr th:only-of-type {\n",
       "        vertical-align: middle;\n",
       "    }\n",
       "\n",
       "    .dataframe tbody tr th {\n",
       "        vertical-align: top;\n",
       "    }\n",
       "\n",
       "    .dataframe thead th {\n",
       "        text-align: right;\n",
       "    }\n",
       "</style>\n",
       "<table border=\"1\" class=\"dataframe\">\n",
       "  <thead>\n",
       "    <tr style=\"text-align: right;\">\n",
       "      <th></th>\n",
       "      <th>Undergraduate Major</th>\n",
       "      <th>Starting Median Salary</th>\n",
       "      <th>Mid-Career Median Salary</th>\n",
       "      <th>Mid-Career 10th Percentile Salary</th>\n",
       "      <th>Mid-Career 90th Percentile Salary</th>\n",
       "      <th>Group</th>\n",
       "    </tr>\n",
       "  </thead>\n",
       "  <tbody>\n",
       "    <tr>\n",
       "      <th>45</th>\n",
       "      <td>Political Science</td>\n",
       "      <td>40800.0</td>\n",
       "      <td>78200.0</td>\n",
       "      <td>41200.0</td>\n",
       "      <td>168000.0</td>\n",
       "      <td>HASS</td>\n",
       "    </tr>\n",
       "    <tr>\n",
       "      <th>46</th>\n",
       "      <td>Psychology</td>\n",
       "      <td>35900.0</td>\n",
       "      <td>60400.0</td>\n",
       "      <td>31600.0</td>\n",
       "      <td>127000.0</td>\n",
       "      <td>HASS</td>\n",
       "    </tr>\n",
       "    <tr>\n",
       "      <th>47</th>\n",
       "      <td>Religion</td>\n",
       "      <td>34100.0</td>\n",
       "      <td>52000.0</td>\n",
       "      <td>29700.0</td>\n",
       "      <td>96400.0</td>\n",
       "      <td>HASS</td>\n",
       "    </tr>\n",
       "    <tr>\n",
       "      <th>48</th>\n",
       "      <td>Sociology</td>\n",
       "      <td>36500.0</td>\n",
       "      <td>58200.0</td>\n",
       "      <td>30700.0</td>\n",
       "      <td>118000.0</td>\n",
       "      <td>HASS</td>\n",
       "    </tr>\n",
       "    <tr>\n",
       "      <th>49</th>\n",
       "      <td>Spanish</td>\n",
       "      <td>34000.0</td>\n",
       "      <td>53100.0</td>\n",
       "      <td>31000.0</td>\n",
       "      <td>96400.0</td>\n",
       "      <td>HASS</td>\n",
       "    </tr>\n",
       "  </tbody>\n",
       "</table>\n",
       "</div>"
      ],
      "text/plain": [
       "   Undergraduate Major  Starting Median Salary  Mid-Career Median Salary  \\\n",
       "45   Political Science                 40800.0                   78200.0   \n",
       "46          Psychology                 35900.0                   60400.0   \n",
       "47            Religion                 34100.0                   52000.0   \n",
       "48           Sociology                 36500.0                   58200.0   \n",
       "49             Spanish                 34000.0                   53100.0   \n",
       "\n",
       "    Mid-Career 10th Percentile Salary  Mid-Career 90th Percentile Salary Group  \n",
       "45                            41200.0                           168000.0  HASS  \n",
       "46                            31600.0                           127000.0  HASS  \n",
       "47                            29700.0                            96400.0  HASS  \n",
       "48                            30700.0                           118000.0  HASS  \n",
       "49                            31000.0                            96400.0  HASS  "
      ]
     },
     "execution_count": 16,
     "metadata": {},
     "output_type": "execute_result"
    }
   ],
   "source": [
    "clean_df = df.dropna()\n",
    "clean_df.tail()"
   ]
  },
  {
   "cell_type": "markdown",
   "id": "79690a00-7caf-4918-aabf-0d9831fd152a",
   "metadata": {},
   "source": [
    "### Lowest Risk Majors\n",
    "\n",
    "A low-risk major is a degree where there is a small difference between the lowest and highest salaries."
   ]
  },
  {
   "cell_type": "code",
   "execution_count": 17,
   "id": "007f0d80-aeb8-4820-a393-2a5afea787af",
   "metadata": {},
   "outputs": [
    {
     "name": "stdout",
     "output_type": "stream",
     "text": [
      "Nursing\n"
     ]
    },
    {
     "data": {
      "text/html": [
       "<div>\n",
       "<style scoped>\n",
       "    .dataframe tbody tr th:only-of-type {\n",
       "        vertical-align: middle;\n",
       "    }\n",
       "\n",
       "    .dataframe tbody tr th {\n",
       "        vertical-align: top;\n",
       "    }\n",
       "\n",
       "    .dataframe thead th {\n",
       "        text-align: right;\n",
       "    }\n",
       "</style>\n",
       "<table border=\"1\" class=\"dataframe\">\n",
       "  <thead>\n",
       "    <tr style=\"text-align: right;\">\n",
       "      <th></th>\n",
       "      <th>Undergraduate Major</th>\n",
       "      <th>Percentile spread</th>\n",
       "      <th>Starting Median Salary</th>\n",
       "      <th>Mid-Career Median Salary</th>\n",
       "      <th>Mid-Career 10th Percentile Salary</th>\n",
       "      <th>Mid-Career 90th Percentile Salary</th>\n",
       "      <th>Group</th>\n",
       "    </tr>\n",
       "  </thead>\n",
       "  <tbody>\n",
       "    <tr>\n",
       "      <th>40</th>\n",
       "      <td>Nursing</td>\n",
       "      <td>50700.0</td>\n",
       "      <td>54200.0</td>\n",
       "      <td>67000.0</td>\n",
       "      <td>47600.0</td>\n",
       "      <td>98300.0</td>\n",
       "      <td>Business</td>\n",
       "    </tr>\n",
       "    <tr>\n",
       "      <th>43</th>\n",
       "      <td>Physician Assistant</td>\n",
       "      <td>57600.0</td>\n",
       "      <td>74300.0</td>\n",
       "      <td>91700.0</td>\n",
       "      <td>66400.0</td>\n",
       "      <td>124000.0</td>\n",
       "      <td>STEM</td>\n",
       "    </tr>\n",
       "  </tbody>\n",
       "</table>\n",
       "</div>"
      ],
      "text/plain": [
       "    Undergraduate Major  Percentile spread  Starting Median Salary  \\\n",
       "40              Nursing            50700.0                 54200.0   \n",
       "43  Physician Assistant            57600.0                 74300.0   \n",
       "\n",
       "    Mid-Career Median Salary  Mid-Career 10th Percentile Salary  \\\n",
       "40                   67000.0                            47600.0   \n",
       "43                   91700.0                            66400.0   \n",
       "\n",
       "    Mid-Career 90th Percentile Salary     Group  \n",
       "40                            98300.0  Business  \n",
       "43                           124000.0      STEM  "
      ]
     },
     "execution_count": 17,
     "metadata": {},
     "output_type": "execute_result"
    }
   ],
   "source": [
    "percentile_spread = clean_df[\"Mid-Career 90th Percentile Salary\"] - clean_df[\"Mid-Career 10th Percentile Salary\"]\n",
    "\n",
    "if \"Percentile spread\" not in clean_df.columns:\n",
    "    clean_df.insert(1, \"Percentile spread\", percentile_spread)\n",
    "\n",
    "min_spread_index = clean_df[\"Percentile spread\"].idxmin()\n",
    "print(clean_df.loc[min_spread_index, \"Undergraduate Major\"])\n",
    "\n",
    "clean_df.sort_values(by=\"Percentile spread\").head(2)"
   ]
  },
  {
   "cell_type": "code",
   "execution_count": 18,
   "id": "b5be457e-5382-4430-a9b7-d338d82d3368",
   "metadata": {},
   "outputs": [
    {
     "name": "stdout",
     "output_type": "stream",
     "text": [
      "Index(['Undergraduate Major', 'Percentile spread', 'Starting Median Salary',\n",
      "       'Mid-Career Median Salary', 'Mid-Career 10th Percentile Salary',\n",
      "       'Mid-Career 90th Percentile Salary', 'Group'],\n",
      "      dtype='object')\n"
     ]
    },
    {
     "data": {
      "text/plain": [
       "Index([ 0,  1,  2,  3,  4,  5,  6,  7,  8,  9, 10, 11, 12, 13, 14, 15, 16, 17,\n",
       "       18, 19, 20, 21, 22, 23, 24, 25, 26, 27, 28, 29, 30, 31, 32, 33, 34, 35,\n",
       "       36, 37, 38, 39, 40, 41, 42, 43, 44, 45, 46, 47, 48, 49],\n",
       "      dtype='int64')"
      ]
     },
     "execution_count": 18,
     "metadata": {},
     "output_type": "execute_result"
    }
   ],
   "source": [
    "print(clean_df.columns)\n",
    "clean_df.index"
   ]
  },
  {
   "cell_type": "code",
   "execution_count": 19,
   "id": "42581816-f719-47ef-ba3c-02c6f779f82c",
   "metadata": {},
   "outputs": [
    {
     "data": {
      "text/plain": [
       "Group\n",
       "Business    103958.333333\n",
       "HASS         95218.181818\n",
       "STEM        101600.000000\n",
       "Name: Percentile spread, dtype: float64"
      ]
     },
     "execution_count": 19,
     "metadata": {},
     "output_type": "execute_result"
    }
   ],
   "source": [
    "# BONUS\n",
    "# Average spread for each group\n",
    "clean_df.groupby(\"Group\")[\"Percentile spread\"].mean()"
   ]
  },
  {
   "cell_type": "code",
   "execution_count": 20,
   "id": "f71b1784-29cc-4e1f-8bc1-58ed79d2cbda",
   "metadata": {},
   "outputs": [
    {
     "name": "stdout",
     "output_type": "stream",
     "text": [
      "(51, 6)\n"
     ]
    },
    {
     "data": {
      "text/plain": [
       "Undergraduate Major                  51\n",
       "Starting Median Salary               43\n",
       "Mid-Career Median Salary             49\n",
       "Mid-Career 10th Percentile Salary    45\n",
       "Mid-Career 90th Percentile Salary    43\n",
       "Group                                 3\n",
       "dtype: int64"
      ]
     },
     "execution_count": 20,
     "metadata": {},
     "output_type": "execute_result"
    }
   ],
   "source": [
    "print(df.shape)\n",
    "df.nunique()"
   ]
  },
  {
   "cell_type": "markdown",
   "id": "3271a90d-5abd-4bce-8ef4-e0f80f2fd399",
   "metadata": {},
   "source": [
    "### Lowest progress potential\n",
    "Assessed by the spread of the salary after graduation and a salary after years of experience"
   ]
  },
  {
   "cell_type": "code",
   "execution_count": 21,
   "id": "15390941-2c94-4216-817f-d46ce81e5534",
   "metadata": {},
   "outputs": [
    {
     "name": "stdout",
     "output_type": "stream",
     "text": [
      "Min salary spread of 12800.0 for Nursing\n",
      "Max salary spread of 48500.0 for Economics\n",
      "\n"
     ]
    },
    {
     "data": {
      "text/plain": [
       "count       50.000000\n",
       "mean     30476.000000\n",
       "std       9534.460806\n",
       "min      12800.000000\n",
       "25%      22225.000000\n",
       "50%      30850.000000\n",
       "75%      37375.000000\n",
       "max      48500.000000\n",
       "dtype: float64"
      ]
     },
     "execution_count": 21,
     "metadata": {},
     "output_type": "execute_result"
    }
   ],
   "source": [
    "salary_spread = df[\"Mid-Career Median Salary\"] - df[\"Starting Median Salary\"]\n",
    "min_spread_index = salary_spread.idxmin()\n",
    "max_spread_index = salary_spread.idxmax()\n",
    "\n",
    "print(f\"Min salary spread of {salary_spread.min()} for {df.loc[min_spread_index, \"Undergraduate Major\"]}\")\n",
    "print(f\"Max salary spread of {salary_spread.max()} for {df.loc[max_spread_index, \"Undergraduate Major\"]}\\n\")\n",
    "\n",
    "salary_spread.describe()"
   ]
  },
  {
   "cell_type": "markdown",
   "id": "c656adf2-358b-414f-bed0-23affa3cfe94",
   "metadata": {},
   "source": [
    "### Compare nursing to other majors"
   ]
  },
  {
   "cell_type": "code",
   "execution_count": 22,
   "id": "dee5a04f-fe4e-4b4f-b8e2-a31afdd027a8",
   "metadata": {},
   "outputs": [
    {
     "data": {
      "text/html": [
       "<div>\n",
       "<style scoped>\n",
       "    .dataframe tbody tr th:only-of-type {\n",
       "        vertical-align: middle;\n",
       "    }\n",
       "\n",
       "    .dataframe tbody tr th {\n",
       "        vertical-align: top;\n",
       "    }\n",
       "\n",
       "    .dataframe thead th {\n",
       "        text-align: right;\n",
       "    }\n",
       "</style>\n",
       "<table border=\"1\" class=\"dataframe\">\n",
       "  <thead>\n",
       "    <tr style=\"text-align: right;\">\n",
       "      <th></th>\n",
       "      <th>Undergraduate Major</th>\n",
       "      <th>Starting Median Salary</th>\n",
       "      <th>Mid-Career Median Salary</th>\n",
       "      <th>Mid-Career 10th Percentile Salary</th>\n",
       "      <th>Mid-Career 90th Percentile Salary</th>\n",
       "      <th>Group</th>\n",
       "    </tr>\n",
       "  </thead>\n",
       "  <tbody>\n",
       "    <tr>\n",
       "      <th>40</th>\n",
       "      <td>Nursing</td>\n",
       "      <td>54200.0</td>\n",
       "      <td>67000.0</td>\n",
       "      <td>47600.0</td>\n",
       "      <td>98300.0</td>\n",
       "      <td>Business</td>\n",
       "    </tr>\n",
       "  </tbody>\n",
       "</table>\n",
       "</div>"
      ],
      "text/plain": [
       "   Undergraduate Major  Starting Median Salary  Mid-Career Median Salary  \\\n",
       "40             Nursing                 54200.0                   67000.0   \n",
       "\n",
       "    Mid-Career 10th Percentile Salary  Mid-Career 90th Percentile Salary  \\\n",
       "40                            47600.0                            98300.0   \n",
       "\n",
       "       Group  \n",
       "40  Business  "
      ]
     },
     "execution_count": 22,
     "metadata": {},
     "output_type": "execute_result"
    }
   ],
   "source": [
    "# Nursing\n",
    "df.loc[df[\"Undergraduate Major\"] == \"Nursing\"]"
   ]
  },
  {
   "cell_type": "code",
   "execution_count": 23,
   "id": "23dda4a6-6cad-4f7b-ae98-252230ea00a4",
   "metadata": {},
   "outputs": [
    {
     "data": {
      "text/html": [
       "<div>\n",
       "<style scoped>\n",
       "    .dataframe tbody tr th:only-of-type {\n",
       "        vertical-align: middle;\n",
       "    }\n",
       "\n",
       "    .dataframe tbody tr th {\n",
       "        vertical-align: top;\n",
       "    }\n",
       "\n",
       "    .dataframe thead th {\n",
       "        text-align: right;\n",
       "    }\n",
       "</style>\n",
       "<table border=\"1\" class=\"dataframe\">\n",
       "  <thead>\n",
       "    <tr style=\"text-align: right;\">\n",
       "      <th></th>\n",
       "      <th>Undergraduate Major</th>\n",
       "      <th>Starting Median Salary</th>\n",
       "      <th>Mid-Career Median Salary</th>\n",
       "      <th>Mid-Career 10th Percentile Salary</th>\n",
       "      <th>Mid-Career 90th Percentile Salary</th>\n",
       "      <th>Group</th>\n",
       "    </tr>\n",
       "  </thead>\n",
       "  <tbody>\n",
       "    <tr>\n",
       "      <th>8</th>\n",
       "      <td>Chemical Engineering</td>\n",
       "      <td>63200.0</td>\n",
       "      <td>107000.0</td>\n",
       "      <td>71900.0</td>\n",
       "      <td>194000.0</td>\n",
       "      <td>STEM</td>\n",
       "    </tr>\n",
       "    <tr>\n",
       "      <th>12</th>\n",
       "      <td>Computer Engineering</td>\n",
       "      <td>61400.0</td>\n",
       "      <td>105000.0</td>\n",
       "      <td>66100.0</td>\n",
       "      <td>162000.0</td>\n",
       "      <td>STEM</td>\n",
       "    </tr>\n",
       "    <tr>\n",
       "      <th>19</th>\n",
       "      <td>Electrical Engineering</td>\n",
       "      <td>60900.0</td>\n",
       "      <td>103000.0</td>\n",
       "      <td>69300.0</td>\n",
       "      <td>168000.0</td>\n",
       "      <td>STEM</td>\n",
       "    </tr>\n",
       "    <tr>\n",
       "      <th>1</th>\n",
       "      <td>Aerospace Engineering</td>\n",
       "      <td>57700.0</td>\n",
       "      <td>101000.0</td>\n",
       "      <td>64300.0</td>\n",
       "      <td>161000.0</td>\n",
       "      <td>STEM</td>\n",
       "    </tr>\n",
       "    <tr>\n",
       "      <th>17</th>\n",
       "      <td>Economics</td>\n",
       "      <td>50100.0</td>\n",
       "      <td>98600.0</td>\n",
       "      <td>50600.0</td>\n",
       "      <td>210000.0</td>\n",
       "      <td>Business</td>\n",
       "    </tr>\n",
       "  </tbody>\n",
       "</table>\n",
       "</div>"
      ],
      "text/plain": [
       "       Undergraduate Major  Starting Median Salary  Mid-Career Median Salary  \\\n",
       "8     Chemical Engineering                 63200.0                  107000.0   \n",
       "12    Computer Engineering                 61400.0                  105000.0   \n",
       "19  Electrical Engineering                 60900.0                  103000.0   \n",
       "1    Aerospace Engineering                 57700.0                  101000.0   \n",
       "17               Economics                 50100.0                   98600.0   \n",
       "\n",
       "    Mid-Career 10th Percentile Salary  Mid-Career 90th Percentile Salary  \\\n",
       "8                             71900.0                           194000.0   \n",
       "12                            66100.0                           162000.0   \n",
       "19                            69300.0                           168000.0   \n",
       "1                             64300.0                           161000.0   \n",
       "17                            50600.0                           210000.0   \n",
       "\n",
       "       Group  \n",
       "8       STEM  \n",
       "12      STEM  \n",
       "19      STEM  \n",
       "1       STEM  \n",
       "17  Business  "
      ]
     },
     "execution_count": 23,
     "metadata": {},
     "output_type": "execute_result"
    }
   ],
   "source": [
    "# % best majors in terms of mid-career salary\n",
    "df.sort_values(by=\"Mid-Career Median Salary\", ascending=False).head(5)"
   ]
  },
  {
   "cell_type": "code",
   "execution_count": 24,
   "id": "5b0119df-f423-421f-bfc8-f40987be1ccd",
   "metadata": {},
   "outputs": [
    {
     "data": {
      "text/html": [
       "<div>\n",
       "<style scoped>\n",
       "    .dataframe tbody tr th:only-of-type {\n",
       "        vertical-align: middle;\n",
       "    }\n",
       "\n",
       "    .dataframe tbody tr th {\n",
       "        vertical-align: top;\n",
       "    }\n",
       "\n",
       "    .dataframe thead th {\n",
       "        text-align: right;\n",
       "    }\n",
       "</style>\n",
       "<table border=\"1\" class=\"dataframe\">\n",
       "  <thead>\n",
       "    <tr style=\"text-align: right;\">\n",
       "      <th></th>\n",
       "      <th>Undergraduate Major</th>\n",
       "      <th>Starting Median Salary</th>\n",
       "      <th>Mid-Career Median Salary</th>\n",
       "      <th>Mid-Career 10th Percentile Salary</th>\n",
       "      <th>Mid-Career 90th Percentile Salary</th>\n",
       "      <th>Group</th>\n",
       "    </tr>\n",
       "  </thead>\n",
       "  <tbody>\n",
       "    <tr>\n",
       "      <th>32</th>\n",
       "      <td>Interior Design</td>\n",
       "      <td>36100.0</td>\n",
       "      <td>53200.0</td>\n",
       "      <td>35700.0</td>\n",
       "      <td>107000.0</td>\n",
       "      <td>HASS</td>\n",
       "    </tr>\n",
       "    <tr>\n",
       "      <th>49</th>\n",
       "      <td>Spanish</td>\n",
       "      <td>34000.0</td>\n",
       "      <td>53100.0</td>\n",
       "      <td>31000.0</td>\n",
       "      <td>96400.0</td>\n",
       "      <td>HASS</td>\n",
       "    </tr>\n",
       "    <tr>\n",
       "      <th>18</th>\n",
       "      <td>Education</td>\n",
       "      <td>34900.0</td>\n",
       "      <td>52000.0</td>\n",
       "      <td>29300.0</td>\n",
       "      <td>102000.0</td>\n",
       "      <td>HASS</td>\n",
       "    </tr>\n",
       "    <tr>\n",
       "      <th>47</th>\n",
       "      <td>Religion</td>\n",
       "      <td>34100.0</td>\n",
       "      <td>52000.0</td>\n",
       "      <td>29700.0</td>\n",
       "      <td>96400.0</td>\n",
       "      <td>HASS</td>\n",
       "    </tr>\n",
       "    <tr>\n",
       "      <th>50</th>\n",
       "      <td>Source: PayScale Inc.</td>\n",
       "      <td>NaN</td>\n",
       "      <td>NaN</td>\n",
       "      <td>NaN</td>\n",
       "      <td>NaN</td>\n",
       "      <td>NaN</td>\n",
       "    </tr>\n",
       "  </tbody>\n",
       "</table>\n",
       "</div>"
      ],
      "text/plain": [
       "      Undergraduate Major  Starting Median Salary  Mid-Career Median Salary  \\\n",
       "32        Interior Design                 36100.0                   53200.0   \n",
       "49                Spanish                 34000.0                   53100.0   \n",
       "18              Education                 34900.0                   52000.0   \n",
       "47               Religion                 34100.0                   52000.0   \n",
       "50  Source: PayScale Inc.                     NaN                       NaN   \n",
       "\n",
       "    Mid-Career 10th Percentile Salary  Mid-Career 90th Percentile Salary Group  \n",
       "32                            35700.0                           107000.0  HASS  \n",
       "49                            31000.0                            96400.0  HASS  \n",
       "18                            29300.0                           102000.0  HASS  \n",
       "47                            29700.0                            96400.0  HASS  \n",
       "50                                NaN                                NaN   NaN  "
      ]
     },
     "execution_count": 24,
     "metadata": {},
     "output_type": "execute_result"
    }
   ],
   "source": [
    "# % worst majors in terms of mid-career salary\n",
    "df.sort_values(by=\"Mid-Career Median Salary\", ascending=False).tail(5)"
   ]
  },
  {
   "cell_type": "code",
   "execution_count": null,
   "id": "ffd0608c-e578-4dd5-938b-344e0f4e5346",
   "metadata": {},
   "outputs": [],
   "source": []
  }
 ],
 "metadata": {
  "kernelspec": {
   "display_name": "my_env",
   "language": "python",
   "name": "my_env"
  },
  "language_info": {
   "codemirror_mode": {
    "name": "ipython",
    "version": 3
   },
   "file_extension": ".py",
   "mimetype": "text/x-python",
   "name": "python",
   "nbconvert_exporter": "python",
   "pygments_lexer": "ipython3",
   "version": "3.12.1"
  }
 },
 "nbformat": 4,
 "nbformat_minor": 5
}
