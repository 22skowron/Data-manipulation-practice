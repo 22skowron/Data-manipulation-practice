{
 "cells": [
  {
   "cell_type": "code",
   "execution_count": 7,
   "id": "8dbb8610-afa1-4a7f-abf5-02a94fcb917f",
   "metadata": {},
   "outputs": [],
   "source": [
    "import pandas as pd"
   ]
  },
  {
   "cell_type": "code",
   "execution_count": 12,
   "id": "33522de7-86ae-404a-ba2a-8e157e2887ee",
   "metadata": {},
   "outputs": [],
   "source": [
    "series = pd.Series([6666, 6667, 6668])\n",
    "dataframe = pd.DataFrame([[5555, 5556, 5557], [5558, 5559, 5560]])"
   ]
  },
  {
   "cell_type": "markdown",
   "id": "42043531-af4c-487b-af2e-37a103d1f111",
   "metadata": {},
   "source": [
    "### Global options"
   ]
  },
  {
   "cell_type": "code",
   "execution_count": 22,
   "id": "1a48df76-bd62-495e-ab1e-1cab3807e7f3",
   "metadata": {},
   "outputs": [],
   "source": [
    "pd.options.display.float_format = \"{:,.2f}\".format"
   ]
  },
  {
   "cell_type": "markdown",
   "id": "1534f80d-3add-40ea-bd5a-2b9021700733",
   "metadata": {},
   "source": [
    "### Integer DataFrame formatter"
   ]
  },
  {
   "cell_type": "code",
   "execution_count": 21,
   "id": "3c292901-4a21-4755-84ef-c09d3ae625ad",
   "metadata": {},
   "outputs": [
    {
     "data": {
      "text/html": [
       "<style type=\"text/css\">\n",
       "</style>\n",
       "<table id=\"T_19c5a\">\n",
       "  <thead>\n",
       "    <tr>\n",
       "      <th class=\"blank level0\" >&nbsp;</th>\n",
       "      <th id=\"T_19c5a_level0_col0\" class=\"col_heading level0 col0\" >0</th>\n",
       "      <th id=\"T_19c5a_level0_col1\" class=\"col_heading level0 col1\" >1</th>\n",
       "      <th id=\"T_19c5a_level0_col2\" class=\"col_heading level0 col2\" >2</th>\n",
       "    </tr>\n",
       "  </thead>\n",
       "  <tbody>\n",
       "    <tr>\n",
       "      <th id=\"T_19c5a_level0_row0\" class=\"row_heading level0 row0\" >0</th>\n",
       "      <td id=\"T_19c5a_row0_col0\" class=\"data row0 col0\" >5,555</td>\n",
       "      <td id=\"T_19c5a_row0_col1\" class=\"data row0 col1\" >5,556</td>\n",
       "      <td id=\"T_19c5a_row0_col2\" class=\"data row0 col2\" >5,557</td>\n",
       "    </tr>\n",
       "    <tr>\n",
       "      <th id=\"T_19c5a_level0_row1\" class=\"row_heading level0 row1\" >1</th>\n",
       "      <td id=\"T_19c5a_row1_col0\" class=\"data row1 col0\" >5,558</td>\n",
       "      <td id=\"T_19c5a_row1_col1\" class=\"data row1 col1\" >5,559</td>\n",
       "      <td id=\"T_19c5a_row1_col2\" class=\"data row1 col2\" >5,560</td>\n",
       "    </tr>\n",
       "  </tbody>\n",
       "</table>\n"
      ],
      "text/plain": [
       "<pandas.io.formats.style.Styler at 0x1a7094712b0>"
      ]
     },
     "execution_count": 21,
     "metadata": {},
     "output_type": "execute_result"
    }
   ],
   "source": [
    "dataframe.apply(lambda x: x.apply(\"{:,}\".format))\n",
    "\n",
    "dataframe.style.format(thousands=\",\")"
   ]
  },
  {
   "cell_type": "markdown",
   "id": "2e827048-fbd2-43ec-ba0d-ec7dbe1eca11",
   "metadata": {},
   "source": [
    "### Integer series formatter"
   ]
  },
  {
   "cell_type": "code",
   "execution_count": 15,
   "id": "ebe709cf-b6eb-4123-9b96-0fe3973c06ca",
   "metadata": {},
   "outputs": [
    {
     "data": {
      "text/plain": [
       "0    6,666\n",
       "1    6,667\n",
       "2    6,668\n",
       "dtype: object"
      ]
     },
     "execution_count": 15,
     "metadata": {},
     "output_type": "execute_result"
    }
   ],
   "source": [
    "series.apply(\"{:,}\".format)"
   ]
  },
  {
   "cell_type": "code",
   "execution_count": null,
   "id": "293aa6bc-2f2d-4550-90ea-2f388647fe6f",
   "metadata": {},
   "outputs": [],
   "source": []
  }
 ],
 "metadata": {
  "kernelspec": {
   "display_name": "my_kernel",
   "language": "python",
   "name": "my_kernel"
  },
  "language_info": {
   "codemirror_mode": {
    "name": "ipython",
    "version": 3
   },
   "file_extension": ".py",
   "mimetype": "text/x-python",
   "name": "python",
   "nbconvert_exporter": "python",
   "pygments_lexer": "ipython3",
   "version": "3.12.1"
  }
 },
 "nbformat": 4,
 "nbformat_minor": 5
}
