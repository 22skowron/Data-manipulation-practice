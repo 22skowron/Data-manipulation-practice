{
 "cells": [
  {
   "cell_type": "code",
   "execution_count": 2,
   "id": "085747ba-b242-49ea-9227-91c639d8b6ac",
   "metadata": {},
   "outputs": [],
   "source": [
    "import numpy as np\n",
    "import pandas as pd\n",
    "import random"
   ]
  },
  {
   "cell_type": "code",
   "execution_count": 3,
   "id": "acf3dbc5-bed7-41c2-9da2-87abc07cf2f3",
   "metadata": {},
   "outputs": [],
   "source": [
    "data = {'animal': ['cat', 'cat', 'snake', 'dog', 'dog', 'cat', 'snake', 'cat', 'dog', 'dog'],\n",
    "        'age': [2.5, 3, 0.5, np.nan, 5, 2, 4.5, np.nan, 7, 3],\n",
    "        'visits': [1, 3, 2, 3, 2, 3, 1, 1, 2, 1],\n",
    "        'priority': ['yes', 'yes', 'no', 'yes', 'no', 'no', 'no', 'yes', 'no', 'no']}\n",
    "df = pd.DataFrame(data)"
   ]
  },
  {
   "cell_type": "code",
   "execution_count": 4,
   "id": "b5ce38a9-fe36-4a6a-b98d-64c35ea34f31",
   "metadata": {},
   "outputs": [
    {
     "data": {
      "text/html": [
       "<div>\n",
       "<style scoped>\n",
       "    .dataframe tbody tr th:only-of-type {\n",
       "        vertical-align: middle;\n",
       "    }\n",
       "\n",
       "    .dataframe tbody tr th {\n",
       "        vertical-align: top;\n",
       "    }\n",
       "\n",
       "    .dataframe thead th {\n",
       "        text-align: right;\n",
       "    }\n",
       "</style>\n",
       "<table border=\"1\" class=\"dataframe\">\n",
       "  <thead>\n",
       "    <tr style=\"text-align: right;\">\n",
       "      <th></th>\n",
       "      <th>animal</th>\n",
       "      <th>age</th>\n",
       "      <th>visits</th>\n",
       "      <th>priority</th>\n",
       "    </tr>\n",
       "  </thead>\n",
       "  <tbody>\n",
       "    <tr>\n",
       "      <th>0</th>\n",
       "      <td>cat</td>\n",
       "      <td>2.5</td>\n",
       "      <td>1</td>\n",
       "      <td>yes</td>\n",
       "    </tr>\n",
       "    <tr>\n",
       "      <th>1</th>\n",
       "      <td>cat</td>\n",
       "      <td>3.0</td>\n",
       "      <td>3</td>\n",
       "      <td>yes</td>\n",
       "    </tr>\n",
       "    <tr>\n",
       "      <th>2</th>\n",
       "      <td>snake</td>\n",
       "      <td>0.5</td>\n",
       "      <td>2</td>\n",
       "      <td>no</td>\n",
       "    </tr>\n",
       "    <tr>\n",
       "      <th>3</th>\n",
       "      <td>dog</td>\n",
       "      <td>NaN</td>\n",
       "      <td>3</td>\n",
       "      <td>yes</td>\n",
       "    </tr>\n",
       "    <tr>\n",
       "      <th>4</th>\n",
       "      <td>dog</td>\n",
       "      <td>5.0</td>\n",
       "      <td>2</td>\n",
       "      <td>no</td>\n",
       "    </tr>\n",
       "    <tr>\n",
       "      <th>5</th>\n",
       "      <td>cat</td>\n",
       "      <td>2.0</td>\n",
       "      <td>3</td>\n",
       "      <td>no</td>\n",
       "    </tr>\n",
       "    <tr>\n",
       "      <th>6</th>\n",
       "      <td>snake</td>\n",
       "      <td>4.5</td>\n",
       "      <td>1</td>\n",
       "      <td>no</td>\n",
       "    </tr>\n",
       "    <tr>\n",
       "      <th>7</th>\n",
       "      <td>cat</td>\n",
       "      <td>NaN</td>\n",
       "      <td>1</td>\n",
       "      <td>yes</td>\n",
       "    </tr>\n",
       "    <tr>\n",
       "      <th>8</th>\n",
       "      <td>dog</td>\n",
       "      <td>7.0</td>\n",
       "      <td>2</td>\n",
       "      <td>no</td>\n",
       "    </tr>\n",
       "    <tr>\n",
       "      <th>9</th>\n",
       "      <td>dog</td>\n",
       "      <td>3.0</td>\n",
       "      <td>1</td>\n",
       "      <td>no</td>\n",
       "    </tr>\n",
       "  </tbody>\n",
       "</table>\n",
       "</div>"
      ],
      "text/plain": [
       "  animal  age  visits priority\n",
       "0    cat  2.5       1      yes\n",
       "1    cat  3.0       3      yes\n",
       "2  snake  0.5       2       no\n",
       "3    dog  NaN       3      yes\n",
       "4    dog  5.0       2       no\n",
       "5    cat  2.0       3       no\n",
       "6  snake  4.5       1       no\n",
       "7    cat  NaN       1      yes\n",
       "8    dog  7.0       2       no\n",
       "9    dog  3.0       1       no"
      ]
     },
     "execution_count": 4,
     "metadata": {},
     "output_type": "execute_result"
    }
   ],
   "source": [
    "df"
   ]
  },
  {
   "cell_type": "code",
   "execution_count": 5,
   "id": "895408a0-0e3e-497a-8e87-8c6b94a935b9",
   "metadata": {},
   "outputs": [
    {
     "data": {
      "text/plain": [
       "array(['Grace', 'Henry', 'Ivy', 'Jack', 'Kate', 'Tina', 'Uma', 'Victor',\n",
       "       'Wendy', 'Xander', 'Yvonne', 'Zoe'], dtype='<U6')"
      ]
     },
     "execution_count": 5,
     "metadata": {},
     "output_type": "execute_result"
    }
   ],
   "source": [
    "names = [\"Grace\", \"Henry\", \"Ivy\", \"Jack\", \"Kate\", \"Tina\", \"Uma\", \"Victor\", \"Wendy\", \"Xander\", \"Yvonne\", \"Zoe\"]\n",
    "array = np.array(names)\n",
    "\n",
    "array"
   ]
  },
  {
   "cell_type": "code",
   "execution_count": 6,
   "id": "4a390a48-33ad-48dc-80e1-b022fb3549bf",
   "metadata": {},
   "outputs": [
    {
     "data": {
      "text/plain": [
       "array([[1.22306926e-311, 1.22306926e-311, 1.22306926e-311],\n",
       "       [1.22306926e-311, 1.22306926e-311, 1.22306926e-311]])"
      ]
     },
     "execution_count": 6,
     "metadata": {},
     "output_type": "execute_result"
    }
   ],
   "source": [
    "empty_array = np.empty((2, 3))\n",
    "\n",
    "empty_array"
   ]
  },
  {
   "cell_type": "code",
   "execution_count": 7,
   "id": "e0dac873-eb1c-4d58-bc83-e3ae6164a2ef",
   "metadata": {},
   "outputs": [
    {
     "data": {
      "text/plain": [
       "numpy.int32"
      ]
     },
     "execution_count": 7,
     "metadata": {},
     "output_type": "execute_result"
    }
   ],
   "source": [
    "array_zeros = np.array([[0, 0, 0], [0, 0, 0], [0, 0, 0]])\n",
    "\n",
    "array_zeros[0]\n",
    "type(array_zeros[0][0])"
   ]
  },
  {
   "cell_type": "code",
   "execution_count": 8,
   "id": "dc4b91d3-042e-42d5-9370-de1cec9ee392",
   "metadata": {},
   "outputs": [
    {
     "data": {
      "text/plain": [
       "numpy.float64"
      ]
     },
     "execution_count": 8,
     "metadata": {},
     "output_type": "execute_result"
    }
   ],
   "source": [
    "type(np.zeros((2, 2))[0][0])"
   ]
  },
  {
   "cell_type": "code",
   "execution_count": 9,
   "id": "e0ef8df0-5712-416e-9296-11994f302129",
   "metadata": {},
   "outputs": [
    {
     "data": {
      "text/plain": [
       "array([['', '', '', ''],\n",
       "       ['', '', '', '']], dtype='<U1')"
      ]
     },
     "execution_count": 9,
     "metadata": {},
     "output_type": "execute_result"
    }
   ],
   "source": [
    "z = np.zeros(shape=(2, 4), dtype='str')\n",
    "z"
   ]
  },
  {
   "cell_type": "code",
   "execution_count": 10,
   "id": "92b542ee-cc8d-4255-9893-3b0469c405ec",
   "metadata": {},
   "outputs": [
    {
     "data": {
      "text/plain": [
       "array([  1.  ,   1.99,   2.98,   3.97,   4.96,   5.95,   6.94,   7.93,\n",
       "         8.92,   9.91,  10.9 ,  11.89,  12.88,  13.87,  14.86,  15.85,\n",
       "        16.84,  17.83,  18.82,  19.81,  20.8 ,  21.79,  22.78,  23.77,\n",
       "        24.76,  25.75,  26.74,  27.73,  28.72,  29.71,  30.7 ,  31.69,\n",
       "        32.68,  33.67,  34.66,  35.65,  36.64,  37.63,  38.62,  39.61,\n",
       "        40.6 ,  41.59,  42.58,  43.57,  44.56,  45.55,  46.54,  47.53,\n",
       "        48.52,  49.51,  50.5 ,  51.49,  52.48,  53.47,  54.46,  55.45,\n",
       "        56.44,  57.43,  58.42,  59.41,  60.4 ,  61.39,  62.38,  63.37,\n",
       "        64.36,  65.35,  66.34,  67.33,  68.32,  69.31,  70.3 ,  71.29,\n",
       "        72.28,  73.27,  74.26,  75.25,  76.24,  77.23,  78.22,  79.21,\n",
       "        80.2 ,  81.19,  82.18,  83.17,  84.16,  85.15,  86.14,  87.13,\n",
       "        88.12,  89.11,  90.1 ,  91.09,  92.08,  93.07,  94.06,  95.05,\n",
       "        96.04,  97.03,  98.02,  99.01, 100.  ])"
      ]
     },
     "execution_count": 10,
     "metadata": {},
     "output_type": "execute_result"
    }
   ],
   "source": [
    "np.linspace(1, 100, 101)"
   ]
  },
  {
   "cell_type": "code",
   "execution_count": 11,
   "id": "d19ca997-1dd7-4acb-ba12-f6b5e219d93c",
   "metadata": {},
   "outputs": [
    {
     "data": {
      "text/plain": [
       "array([[1, 2, 3, 4, 5]])"
      ]
     },
     "execution_count": 11,
     "metadata": {},
     "output_type": "execute_result"
    }
   ],
   "source": [
    "string_list = [\"apple\", \"banana\", \"orange\", \"grape\", \"kiwi\"]\n",
    "integer_list = [1, 2, 3, 4, 5]\n",
    "\n",
    "strs = np.array(string_list)\n",
    "strs2 = np.array([\"Ivy\", \"Jack\", \"Kate\", \"Tina\", \"Uma\"])\n",
    "strs_array = np.array([strs, strs2])\n",
    "\n",
    "ints = np.array(integer_list)\n",
    "ints = np.reshape(ints, (1, -1))\n",
    "\n",
    "ints\n"
   ]
  },
  {
   "cell_type": "code",
   "execution_count": 12,
   "id": "e52010f4-fc6d-4da7-b35c-598f1d723fa4",
   "metadata": {},
   "outputs": [
    {
     "data": {
      "text/plain": [
       "array([['apple', 'banana', 'orange', 'grape', 'kiwi'],\n",
       "       ['Ivy', 'Jack', 'Kate', 'Tina', 'Uma']], dtype='<U6')"
      ]
     },
     "execution_count": 12,
     "metadata": {},
     "output_type": "execute_result"
    }
   ],
   "source": [
    "strs_array"
   ]
  },
  {
   "cell_type": "code",
   "execution_count": 13,
   "id": "0be96190-7b96-426a-8c81-539cc8856e86",
   "metadata": {},
   "outputs": [
    {
     "data": {
      "text/plain": [
       "array([['apple', 'banana', 'orange', 'grape', 'kiwi'],\n",
       "       ['Ivy', 'Jack', 'Kate', 'Tina', 'Uma'],\n",
       "       ['1', '2', '3', '4', '5']], dtype='<U11')"
      ]
     },
     "execution_count": 13,
     "metadata": {},
     "output_type": "execute_result"
    }
   ],
   "source": [
    "merged_array = np.concatenate((strs_array, ints), axis=0)\n",
    "\n",
    "merged_array"
   ]
  },
  {
   "cell_type": "code",
   "execution_count": 14,
   "id": "50216a40-eee6-484d-846a-95dd8cc47c35",
   "metadata": {},
   "outputs": [],
   "source": [
    "movie_titles = [\"The Godfather\", \"Inception\", \"Pulp Fiction\", \"The Shawshank Redemption\", \"The Dark Knight\", \"Forrest Gump\"]\n",
    "film_1d_array = np.array(movie_titles)\n",
    "film_2d_array = np.array([movie_titles])"
   ]
  },
  {
   "cell_type": "markdown",
   "id": "56483fc9-0c10-43bc-aaf3-4927165cbe84",
   "metadata": {},
   "source": [
    "#### Ways of reshaping"
   ]
  },
  {
   "cell_type": "code",
   "execution_count": 15,
   "id": "b6130c95-b698-46b4-b399-8779b83cad59",
   "metadata": {},
   "outputs": [
    {
     "data": {
      "text/plain": [
       "array([['The Godfather'],\n",
       "       ['Inception'],\n",
       "       ['Pulp Fiction'],\n",
       "       ['The Shawshank Redemption'],\n",
       "       ['The Dark Knight'],\n",
       "       ['Forrest Gump']], dtype='<U24')"
      ]
     },
     "execution_count": 15,
     "metadata": {},
     "output_type": "execute_result"
    }
   ],
   "source": [
    "np.reshape(film_1d_array, (3, 2))\n",
    "film_1d_array.reshape(3, 2)\n",
    "film_1d_array[np.newaxis, :]\n",
    "film_1d_array[:, np.newaxis]\n",
    "np.expand_dims(film_1d_array, axis=1)"
   ]
  },
  {
   "cell_type": "markdown",
   "id": "ba7e4018-cbc6-45b1-8862-2258e0c37612",
   "metadata": {},
   "source": [
    "#### Slicing"
   ]
  },
  {
   "cell_type": "code",
   "execution_count": 16,
   "id": "85b23a54-e337-4b31-b568-549e014f4f6d",
   "metadata": {},
   "outputs": [
    {
     "data": {
      "text/plain": [
       "array([['The Godfather', 'Inception', 'Pulp Fiction',\n",
       "        'The Shawshank Redemption', 'The Dark Knight', 'Forrest Gump']],\n",
       "      dtype='<U24')"
      ]
     },
     "execution_count": 16,
     "metadata": {},
     "output_type": "execute_result"
    }
   ],
   "source": [
    "film_1d_array.reshape(1, -1)[:]"
   ]
  },
  {
   "cell_type": "code",
   "execution_count": 17,
   "id": "4e89aa53-8c38-4cc2-a7e1-47185c25acb1",
   "metadata": {},
   "outputs": [
    {
     "data": {
      "text/plain": [
       "array([[ 1,  1,  4,  9,  3],\n",
       "       [10,  6,  3,  4,  8],\n",
       "       [10,  2,  1,  3,  9]])"
      ]
     },
     "execution_count": 17,
     "metadata": {},
     "output_type": "execute_result"
    }
   ],
   "source": [
    "rand_int_matrix = np.random.randint(1, 11, size=(3, 5))\n",
    "rand_int_matrix"
   ]
  },
  {
   "cell_type": "code",
   "execution_count": 18,
   "id": "67bb70fc-92bd-4282-9573-29a65200449e",
   "metadata": {},
   "outputs": [
    {
     "data": {
      "text/plain": [
       "array([[4, 8],\n",
       "       [3, 9]])"
      ]
     },
     "execution_count": 18,
     "metadata": {},
     "output_type": "execute_result"
    }
   ],
   "source": [
    "rand_int_matrix[1:3, 3:]"
   ]
  },
  {
   "cell_type": "code",
   "execution_count": 19,
   "id": "c02fca2f-d9da-4ee0-873d-639cb65f64a4",
   "metadata": {},
   "outputs": [
    {
     "data": {
      "text/plain": [
       "array([6])"
      ]
     },
     "execution_count": 19,
     "metadata": {},
     "output_type": "execute_result"
    }
   ],
   "source": [
    "rand_int_matrix[(rand_int_matrix > 5) & (rand_int_matrix < 8)]"
   ]
  },
  {
   "cell_type": "code",
   "execution_count": 20,
   "id": "f9793b26-db63-474f-831b-63aba1a6156c",
   "metadata": {},
   "outputs": [
    {
     "data": {
      "text/plain": [
       "(array([0, 1, 2, 2], dtype=int64), array([3, 0, 0, 4], dtype=int64))"
      ]
     },
     "execution_count": 20,
     "metadata": {},
     "output_type": "execute_result"
    }
   ],
   "source": [
    "np.nonzero(rand_int_matrix > 8)"
   ]
  },
  {
   "cell_type": "markdown",
   "id": "b3fb4b44-468b-434a-b12d-7baeb8a0dbd5",
   "metadata": {},
   "source": [
    "### NO COPY AT ALL"
   ]
  },
  {
   "cell_type": "markdown",
   "id": "aa5467e4-4295-4b6d-948e-7b11f35736e9",
   "metadata": {},
   "source": [
    "### SHALLOW COPY (VIEW)\n",
    "1. Views and initial arrays share the same data.\n",
    "2. Chaning views' data changes the initial data."
   ]
  },
  {
   "cell_type": "code",
   "execution_count": 21,
   "id": "7b6b83ae-d119-4a04-a55d-c8217b93bf73",
   "metadata": {},
   "outputs": [
    {
     "data": {
      "text/plain": [
       "array([['Alabama', 'Alaska', 'Arizona', 'Arkansas', 'California'],\n",
       "       ['Colorado', 'Connecticut', 'Delaware', 'Florida', 'Georgia'],\n",
       "       ['Hawaii', 'Idaho', 'Illinois', 'Indiana', 'Iowa'],\n",
       "       ['Kansas', 'Kentucky', 'Louisiana', 'Maine', 'Maryland']],\n",
       "      dtype='<U11')"
      ]
     },
     "execution_count": 21,
     "metadata": {},
     "output_type": "execute_result"
    }
   ],
   "source": [
    "states_matrix = np.array([\n",
    "    [\"Alabama\", \"Alaska\", \"Arizona\", \"Arkansas\", \"California\"],\n",
    "    [\"Colorado\", \"Connecticut\", \"Delaware\", \"Florida\", \"Georgia\"],\n",
    "    [\"Hawaii\", \"Idaho\", \"Illinois\", \"Indiana\", \"Iowa\"],\n",
    "    [\"Kansas\", \"Kentucky\", \"Louisiana\", \"Maine\", \"Maryland\"]\n",
    "])\n",
    "states_matrix"
   ]
  },
  {
   "cell_type": "code",
   "execution_count": 22,
   "id": "20f03784-77b7-4d23-8d0f-d5eb2849f76b",
   "metadata": {},
   "outputs": [
    {
     "data": {
      "text/plain": [
       "array([['XXX', 'XXX', 'XXX'],\n",
       "       ['XXX', 'XXX', 'XXX'],\n",
       "       ['XXX', 'XXX', 'XXX']], dtype='<U11')"
      ]
     },
     "execution_count": 22,
     "metadata": {},
     "output_type": "execute_result"
    }
   ],
   "source": [
    "view1 = states_matrix[-3:, -3:]\n",
    "view1[:] = 'XXX'\n",
    "view1"
   ]
  },
  {
   "cell_type": "code",
   "execution_count": 23,
   "id": "c21dee16-faf3-441c-bde7-2d0627c857d7",
   "metadata": {},
   "outputs": [
    {
     "data": {
      "text/plain": [
       "array([['YYY', 'YYY'],\n",
       "       ['YYY', 'YYY']], dtype='<U11')"
      ]
     },
     "execution_count": 23,
     "metadata": {},
     "output_type": "execute_result"
    }
   ],
   "source": [
    "view2 = view1[-2:, -2:]\n",
    "view2[:] = 'YYY'\n",
    "view2"
   ]
  },
  {
   "cell_type": "code",
   "execution_count": 24,
   "id": "4d31be70-d5c5-4c47-a0b9-bddc11580ca6",
   "metadata": {},
   "outputs": [
    {
     "data": {
      "text/plain": [
       "array([['Alabama', 'Alaska', 'Arizona', 'Arkansas', 'California'],\n",
       "       ['Colorado', 'Connecticut', 'XXX', 'XXX', 'XXX'],\n",
       "       ['Hawaii', 'Idaho', 'XXX', 'YYY', 'YYY'],\n",
       "       ['Kansas', 'Kentucky', 'XXX', 'YYY', 'YYY']], dtype='<U11')"
      ]
     },
     "execution_count": 24,
     "metadata": {},
     "output_type": "execute_result"
    }
   ],
   "source": [
    "states_matrix"
   ]
  },
  {
   "cell_type": "markdown",
   "id": "e3d8f201-dd13-4b8b-a419-776dbd310e1c",
   "metadata": {},
   "source": [
    "### Python vs NumPy indexing"
   ]
  },
  {
   "cell_type": "code",
   "execution_count": 25,
   "id": "8e85d6a2-1a8c-4c8a-b038-db7813c3862c",
   "metadata": {},
   "outputs": [
    {
     "data": {
      "text/plain": [
       "['Ahmet', 'Ayşe', 'Mehmet', 'Fatma', 'Mustafa', 'Zeynep']"
      ]
     },
     "execution_count": 25,
     "metadata": {},
     "output_type": "execute_result"
    }
   ],
   "source": [
    "turkish_names_list = [\"Ahmet\", \"Ayşe\", \"Mehmet\", \"Fatma\", \"Mustafa\", \"Zeynep\"]\n",
    "turkish_names_list"
   ]
  },
  {
   "cell_type": "code",
   "execution_count": 26,
   "id": "7a887aae-49a3-4d7d-a509-a1290cc8f9a2",
   "metadata": {},
   "outputs": [
    {
     "data": {
      "text/plain": [
       "array(['Ahmet', 'Ayşe', 'Mehmet', 'Fatma', 'Mustafa', 'Zeynep'],\n",
       "      dtype='<U7')"
      ]
     },
     "execution_count": 26,
     "metadata": {},
     "output_type": "execute_result"
    }
   ],
   "source": [
    "turkish_names_array = np.array(turkish_names_list)\n",
    "turkish_names_array"
   ]
  },
  {
   "cell_type": "code",
   "execution_count": 27,
   "id": "de85a2d9-a7ac-450a-971a-d5d67d5c8be4",
   "metadata": {},
   "outputs": [
    {
     "data": {
      "text/plain": [
       "['x']"
      ]
     },
     "execution_count": 27,
     "metadata": {},
     "output_type": "execute_result"
    }
   ],
   "source": [
    "turkish_names_list[:] = 'x'\n",
    "turkish_names_list"
   ]
  },
  {
   "cell_type": "code",
   "execution_count": 28,
   "id": "08395931-bfc8-4fe1-bff3-6103253bbd20",
   "metadata": {},
   "outputs": [
    {
     "data": {
      "text/plain": [
       "array(['x', 'x', 'x', 'x', 'x', 'x'], dtype='<U7')"
      ]
     },
     "execution_count": 28,
     "metadata": {},
     "output_type": "execute_result"
    }
   ],
   "source": [
    "turkish_names_array[:] = 'x'\n",
    "turkish_names_array"
   ]
  },
  {
   "cell_type": "markdown",
   "id": "c5d10438-396e-49d5-a364-8f36362890e0",
   "metadata": {},
   "source": [
    "### DEEP COPY\n",
    "1. Allows to make completely independent object (array)\n",
    "2. Allows to release initial object (array) from the memory"
   ]
  },
  {
   "cell_type": "markdown",
   "id": "fd328126-ba1b-437e-8d65-ebce1638bb62",
   "metadata": {},
   "source": [
    "#### (Jupyter truncating the output)"
   ]
  },
  {
   "cell_type": "code",
   "execution_count": 29,
   "id": "4cea511b-f3d0-4a5c-87d2-339747790d35",
   "metadata": {},
   "outputs": [
    {
     "data": {
      "text/plain": [
       "array([   1,    2,    3, ..., 9997, 9998, 9999])"
      ]
     },
     "execution_count": 29,
     "metadata": {},
     "output_type": "execute_result"
    }
   ],
   "source": [
    "np.arange(1, 10000)"
   ]
  },
  {
   "cell_type": "code",
   "execution_count": 58,
   "id": "50d8b47e-bb6d-4814-8104-9d7a923849ca",
   "metadata": {},
   "outputs": [
    {
     "data": {
      "text/plain": [
       "array([[3, 4]])"
      ]
     },
     "execution_count": 58,
     "metadata": {},
     "output_type": "execute_result"
    }
   ],
   "source": [
    "v1 = np.ones(2).reshape(1, -1)\n",
    "v1\n",
    "\n",
    "v2 = np.array([3, 4]).reshape(1, -1)\n",
    "v2"
   ]
  },
  {
   "cell_type": "code",
   "execution_count": 67,
   "id": "6a3f368a-3877-4f12-95b6-db8a296e5235",
   "metadata": {},
   "outputs": [
    {
     "data": {
      "text/plain": [
       "array([[1., 1., 1., 1.],\n",
       "       [3., 4., 3., 4.],\n",
       "       [1., 1., 1., 1.],\n",
       "       [3., 4., 3., 4.],\n",
       "       [1., 1., 1., 1.],\n",
       "       [3., 4., 3., 4.],\n",
       "       [1., 1., 1., 1.],\n",
       "       [3., 4., 3., 4.]])"
      ]
     },
     "execution_count": 67,
     "metadata": {},
     "output_type": "execute_result"
    }
   ],
   "source": [
    "m1 = np.concatenate((v1, v2), axis=0)\n",
    "m2 = np.concatenate((m1, m1), axis=1)\n",
    "m3 = np.concatenate((m2, m2, m2, m2), axis=0)\n",
    "m3\n"
   ]
  },
  {
   "cell_type": "code",
   "execution_count": 68,
   "id": "e576317a-379f-482e-a776-da8af0b71c6c",
   "metadata": {},
   "outputs": [
    {
     "data": {
      "text/plain": [
       "(8, 4)"
      ]
     },
     "execution_count": 68,
     "metadata": {},
     "output_type": "execute_result"
    }
   ],
   "source": [
    "m3.shape"
   ]
  },
  {
   "cell_type": "code",
   "execution_count": 72,
   "id": "808cb94d-20fb-4bdc-b395-fe03ae6de7de",
   "metadata": {},
   "outputs": [
    {
     "data": {
      "text/plain": [
       "array([[ 8,  5, 12,  5, 14, 11, 21],\n",
       "       [ 6,  9, 15,  4, 18, 10, 16],\n",
       "       [18,  3, 17,  1,  4, 21, 15],\n",
       "       [16, 20, 14,  1,  6, 13,  5],\n",
       "       [ 4, 17,  6,  0, 21, 20, 11]])"
      ]
     },
     "execution_count": 72,
     "metadata": {},
     "output_type": "execute_result"
    }
   ],
   "source": [
    "m_random = np.random.randint(0, 22, size=(5, 7))\n",
    "m_random"
   ]
  },
  {
   "cell_type": "markdown",
   "id": "6166da9d-5db5-44be-aa96-3e1360c17b1f",
   "metadata": {},
   "source": [
    "#### Aggregate functions"
   ]
  },
  {
   "cell_type": "code",
   "execution_count": 80,
   "id": "bea926dc-ab32-40fe-8f82-c5cd91732602",
   "metadata": {},
   "outputs": [
    {
     "data": {
      "text/plain": [
       "11.057142857142857"
      ]
     },
     "execution_count": 80,
     "metadata": {},
     "output_type": "execute_result"
    }
   ],
   "source": [
    "m_random.sum() / m_random.size"
   ]
  },
  {
   "cell_type": "code",
   "execution_count": 81,
   "id": "3dfb3026-780b-4495-bdfa-64d5b687861c",
   "metadata": {},
   "outputs": [
    {
     "data": {
      "text/plain": [
       "11.057142857142857"
      ]
     },
     "execution_count": 81,
     "metadata": {},
     "output_type": "execute_result"
    }
   ],
   "source": [
    "m_random.mean()"
   ]
  },
  {
   "cell_type": "code",
   "execution_count": 83,
   "id": "5e81ff5b-6b00-48d2-a4b1-ce31b295333a",
   "metadata": {},
   "outputs": [
    {
     "data": {
      "text/plain": [
       "array([52, 54, 64, 11, 63, 75, 68])"
      ]
     },
     "execution_count": 83,
     "metadata": {},
     "output_type": "execute_result"
    }
   ],
   "source": [
    "m_random.sum(axis=0)"
   ]
  },
  {
   "cell_type": "markdown",
   "id": "92f8d04d-0c5d-4843-bd83-4bbf0f118ff8",
   "metadata": {},
   "source": [
    "#### Transpose a matrix"
   ]
  },
  {
   "cell_type": "code",
   "execution_count": 103,
   "id": "57a2e9f7-5478-46ef-a3bc-0e7173e3d035",
   "metadata": {},
   "outputs": [
    {
     "data": {
      "text/plain": [
       "array([[ 8,  5, 12,  5, 14, 11, 21],\n",
       "       [ 6,  9, 15,  4, 18, 10, 16],\n",
       "       [18,  3, 17,  1,  4, 21, 15],\n",
       "       [16, 20, 14,  1,  6, 13,  5],\n",
       "       [ 4, 17,  6,  0, 21, 20, 11]])"
      ]
     },
     "execution_count": 103,
     "metadata": {},
     "output_type": "execute_result"
    }
   ],
   "source": [
    "m_random"
   ]
  },
  {
   "cell_type": "code",
   "execution_count": 107,
   "id": "eb864508-272a-4e0b-bcee-0cb8dac64d08",
   "metadata": {},
   "outputs": [
    {
     "data": {
      "text/plain": [
       "array([[ 8,  6, 18, 16,  4],\n",
       "       [ 5,  9,  3, 20, 17],\n",
       "       [12, 15, 17, 14,  6],\n",
       "       [ 5,  4,  1,  1,  0],\n",
       "       [14, 18,  4,  6, 21],\n",
       "       [11, 10, 21, 13, 20],\n",
       "       [21, 16, 15,  5, 11]])"
      ]
     },
     "execution_count": 107,
     "metadata": {},
     "output_type": "execute_result"
    }
   ],
   "source": [
    "m_random.T"
   ]
  },
  {
   "cell_type": "markdown",
   "id": "e0c365ef-1770-4853-9c13-eda19331356e",
   "metadata": {},
   "source": [
    "#### Reverse the matrix/vector/row/column order"
   ]
  },
  {
   "cell_type": "code",
   "execution_count": 119,
   "id": "dd1206d4-5f1e-4fce-ae81-555ae6a5bc30",
   "metadata": {},
   "outputs": [
    {
     "data": {
      "text/plain": [
       "array([['A', 'B', 'C', 'D', 'E'],\n",
       "       ['F', 'G', 'H', 'I', 'J'],\n",
       "       ['K', 'L', 'M', 'N', 'O'],\n",
       "       ['P', 'Q', 'R', 'S', 'T'],\n",
       "       ['U', 'V', 'W', 'X', 'Y']], dtype='<U1')"
      ]
     },
     "execution_count": 119,
     "metadata": {},
     "output_type": "execute_result"
    }
   ],
   "source": [
    "alphabet_matrix = np.array([\n",
    "    ['A', 'B', 'C', 'D', 'E'],\n",
    "    ['F', 'G', 'H', 'I', 'J'],\n",
    "    ['K', 'L', 'M', 'N', 'O'],\n",
    "    ['P', 'Q', 'R', 'S', 'T'],\n",
    "    ['U', 'V', 'W', 'X', 'Y']\n",
    "])\n",
    "alphabet_matrix"
   ]
  },
  {
   "cell_type": "code",
   "execution_count": 127,
   "id": "4d167072-a33e-4ea7-884f-08bf88c6a181",
   "metadata": {},
   "outputs": [
    {
     "data": {
      "text/plain": [
       "array([['A', 'B', 'W', 'D', 'E'],\n",
       "       ['F', 'G', 'R', 'I', 'J'],\n",
       "       ['K', 'L', 'M', 'N', 'O'],\n",
       "       ['T', 'S', 'H', 'Q', 'P'],\n",
       "       ['U', 'V', 'C', 'X', 'Y']], dtype='<U1')"
      ]
     },
     "execution_count": 127,
     "metadata": {},
     "output_type": "execute_result"
    }
   ],
   "source": [
    "# Reverse a row\n",
    "alphabet_matrix[3] = np.flip(alphabet_matrix[3])\n",
    "# Reverse a column\n",
    "alphabet_matrix[:, 2] = np.flip(alphabet_matrix[:, 2])\n",
    "alphabet_matrix"
   ]
  },
  {
   "cell_type": "markdown",
   "id": "e2fdbbb8-9819-44b1-9e8e-f34431e92347",
   "metadata": {},
   "source": [
    "#### Flattening the array:\n",
    "1. with .flaten() - creates a deep copy\n",
    "2. with .ravel() - creates a view"
   ]
  },
  {
   "cell_type": "markdown",
   "id": "d117afe3-591f-4f1f-8f1f-a2e02b4688da",
   "metadata": {},
   "source": [
    "#### Quick dockstrings with '?'"
   ]
  },
  {
   "cell_type": "code",
   "execution_count": 137,
   "id": "fa175786-0a9e-4ceb-a637-2cb83e66ee48",
   "metadata": {},
   "outputs": [
    {
     "data": {
      "text/plain": [
       "\u001b[1;31mType:\u001b[0m        ndarray\n",
       "\u001b[1;31mString form:\u001b[0m\n",
       "[['A' 'B' 'W' 'D' 'E']\n",
       " ['F' 'G' 'R' 'I' 'J']\n",
       " ['K' 'L' 'M' 'N' 'O']\n",
       " ['T' 'S' 'H' 'Q' 'P']\n",
       " ['U' 'V' 'C' 'X' 'Y']]\n",
       "\u001b[1;31mLength:\u001b[0m      5\n",
       "\u001b[1;31mFile:\u001b[0m        c:\\users\\szymo\\desktop\\coding\\jupyter\\my_venv\\lib\\site-packages\\numpy\\__init__.py\n",
       "\u001b[1;31mDocstring:\u001b[0m  \n",
       "ndarray(shape, dtype=float, buffer=None, offset=0,\n",
       "        strides=None, order=None)\n",
       "\n",
       "An array object represents a multidimensional, homogeneous array\n",
       "of fixed-size items.  An associated data-type object describes the\n",
       "format of each element in the array (its byte-order, how many bytes it\n",
       "occupies in memory, whether it is an integer, a floating point number,\n",
       "or something else, etc.)\n",
       "\n",
       "Arrays should be constructed using `array`, `zeros` or `empty` (refer\n",
       "to the See Also section below).  The parameters given here refer to\n",
       "a low-level method (`ndarray(...)`) for instantiating an array.\n",
       "\n",
       "For more information, refer to the `numpy` module and examine the\n",
       "methods and attributes of an array.\n",
       "\n",
       "Parameters\n",
       "----------\n",
       "(for the __new__ method; see Notes below)\n",
       "\n",
       "shape : tuple of ints\n",
       "    Shape of created array.\n",
       "dtype : data-type, optional\n",
       "    Any object that can be interpreted as a numpy data type.\n",
       "buffer : object exposing buffer interface, optional\n",
       "    Used to fill the array with data.\n",
       "offset : int, optional\n",
       "    Offset of array data in buffer.\n",
       "strides : tuple of ints, optional\n",
       "    Strides of data in memory.\n",
       "order : {'C', 'F'}, optional\n",
       "    Row-major (C-style) or column-major (Fortran-style) order.\n",
       "\n",
       "Attributes\n",
       "----------\n",
       "T : ndarray\n",
       "    Transpose of the array.\n",
       "data : buffer\n",
       "    The array's elements, in memory.\n",
       "dtype : dtype object\n",
       "    Describes the format of the elements in the array.\n",
       "flags : dict\n",
       "    Dictionary containing information related to memory use, e.g.,\n",
       "    'C_CONTIGUOUS', 'OWNDATA', 'WRITEABLE', etc.\n",
       "flat : numpy.flatiter object\n",
       "    Flattened version of the array as an iterator.  The iterator\n",
       "    allows assignments, e.g., ``x.flat = 3`` (See `ndarray.flat` for\n",
       "    assignment examples; TODO).\n",
       "imag : ndarray\n",
       "    Imaginary part of the array.\n",
       "real : ndarray\n",
       "    Real part of the array.\n",
       "size : int\n",
       "    Number of elements in the array.\n",
       "itemsize : int\n",
       "    The memory use of each array element in bytes.\n",
       "nbytes : int\n",
       "    The total number of bytes required to store the array data,\n",
       "    i.e., ``itemsize * size``.\n",
       "ndim : int\n",
       "    The array's number of dimensions.\n",
       "shape : tuple of ints\n",
       "    Shape of the array.\n",
       "strides : tuple of ints\n",
       "    The step-size required to move from one element to the next in\n",
       "    memory. For example, a contiguous ``(3, 4)`` array of type\n",
       "    ``int16`` in C-order has strides ``(8, 2)``.  This implies that\n",
       "    to move from element to element in memory requires jumps of 2 bytes.\n",
       "    To move from row-to-row, one needs to jump 8 bytes at a time\n",
       "    (``2 * 4``).\n",
       "ctypes : ctypes object\n",
       "    Class containing properties of the array needed for interaction\n",
       "    with ctypes.\n",
       "base : ndarray\n",
       "    If the array is a view into another array, that array is its `base`\n",
       "    (unless that array is also a view).  The `base` array is where the\n",
       "    array data is actually stored.\n",
       "\n",
       "See Also\n",
       "--------\n",
       "array : Construct an array.\n",
       "zeros : Create an array, each element of which is zero.\n",
       "empty : Create an array, but leave its allocated memory unchanged (i.e.,\n",
       "        it contains \"garbage\").\n",
       "dtype : Create a data-type.\n",
       "numpy.typing.NDArray : An ndarray alias :term:`generic <generic type>`\n",
       "                       w.r.t. its `dtype.type <numpy.dtype.type>`.\n",
       "\n",
       "Notes\n",
       "-----\n",
       "There are two modes of creating an array using ``__new__``:\n",
       "\n",
       "1. If `buffer` is None, then only `shape`, `dtype`, and `order`\n",
       "   are used.\n",
       "2. If `buffer` is an object exposing the buffer interface, then\n",
       "   all keywords are interpreted.\n",
       "\n",
       "No ``__init__`` method is needed because the array is fully initialized\n",
       "after the ``__new__`` method.\n",
       "\n",
       "Examples\n",
       "--------\n",
       "These examples illustrate the low-level `ndarray` constructor.  Refer\n",
       "to the `See Also` section above for easier ways of constructing an\n",
       "ndarray.\n",
       "\n",
       "First mode, `buffer` is None:\n",
       "\n",
       ">>> np.ndarray(shape=(2,2), dtype=float, order='F')\n",
       "array([[0.0e+000, 0.0e+000], # random\n",
       "       [     nan, 2.5e-323]])\n",
       "\n",
       "Second mode:\n",
       "\n",
       ">>> np.ndarray((2,), buffer=np.array([1,2,3]),\n",
       "...            offset=np.int_().itemsize,\n",
       "...            dtype=int) # offset = 1*itemsize, i.e. skip first element\n",
       "array([2, 3])"
      ]
     },
     "metadata": {},
     "output_type": "display_data"
    }
   ],
   "source": [
    "alphabet_matrix?"
   ]
  },
  {
   "cell_type": "code",
   "execution_count": null,
   "id": "7923874b-d8c3-4ab7-ade9-6b0b43f774cf",
   "metadata": {},
   "outputs": [],
   "source": []
  }
 ],
 "metadata": {
  "kernelspec": {
   "display_name": "my_env",
   "language": "python",
   "name": "my_env"
  },
  "language_info": {
   "codemirror_mode": {
    "name": "ipython",
    "version": 3
   },
   "file_extension": ".py",
   "mimetype": "text/x-python",
   "name": "python",
   "nbconvert_exporter": "python",
   "pygments_lexer": "ipython3",
   "version": "3.12.1"
  }
 },
 "nbformat": 4,
 "nbformat_minor": 5
}
