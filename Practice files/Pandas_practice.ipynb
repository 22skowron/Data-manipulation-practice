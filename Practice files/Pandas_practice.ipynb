{
 "cells": [
  {
   "cell_type": "code",
   "execution_count": 1,
   "id": "e5316a68-45ce-4dbc-8824-4f61deb453c4",
   "metadata": {},
   "outputs": [],
   "source": [
    "import numpy as np\n",
    "import pandas as pd"
   ]
  },
  {
   "cell_type": "markdown",
   "id": "6d22eabf-09f2-4106-a594-795b477d2fc8",
   "metadata": {},
   "source": [
    "## Series"
   ]
  },
  {
   "cell_type": "code",
   "execution_count": 7,
   "id": "227ce44e-111b-43ab-b187-be4908322349",
   "metadata": {},
   "outputs": [
    {
     "data": {
      "text/plain": [
       "raz       24\n",
       "dwa       26\n",
       "trzy      30\n",
       "cztery    29\n",
       "pięć      28\n",
       "Name: SOME_SERIES, dtype: int32"
      ]
     },
     "execution_count": 7,
     "metadata": {},
     "output_type": "execute_result"
    }
   ],
   "source": [
    "random_series = pd.Series(\n",
    "    np.random.randint(20, 31, size=5),\n",
    "    index=['raz', 'dwa', 'trzy', 'cztery', 'pięć'],\n",
    "    name=\"SOME_SERIES\"\n",
    ")\n",
    "random_series"
   ]
  },
  {
   "cell_type": "markdown",
   "id": "56ef1f80-fec5-4b15-afc1-934e78f7004b",
   "metadata": {},
   "source": [
    "## DataFrame"
   ]
  },
  {
   "cell_type": "code",
   "execution_count": 3,
   "id": "2234790f-4922-4d31-88c6-5cbaf1d86601",
   "metadata": {},
   "outputs": [
    {
     "data": {
      "text/html": [
       "<div>\n",
       "<style scoped>\n",
       "    .dataframe tbody tr th:only-of-type {\n",
       "        vertical-align: middle;\n",
       "    }\n",
       "\n",
       "    .dataframe tbody tr th {\n",
       "        vertical-align: top;\n",
       "    }\n",
       "\n",
       "    .dataframe thead th {\n",
       "        text-align: right;\n",
       "    }\n",
       "</style>\n",
       "<table border=\"1\" class=\"dataframe\">\n",
       "  <thead>\n",
       "    <tr style=\"text-align: right;\">\n",
       "      <th></th>\n",
       "      <th>Column A</th>\n",
       "      <th>Column B</th>\n",
       "      <th>Column C</th>\n",
       "      <th>Column D</th>\n",
       "    </tr>\n",
       "  </thead>\n",
       "  <tbody>\n",
       "    <tr>\n",
       "      <th>Dzień 1</th>\n",
       "      <td>8</td>\n",
       "      <td>1</td>\n",
       "      <td>8</td>\n",
       "      <td>7</td>\n",
       "    </tr>\n",
       "    <tr>\n",
       "      <th>Dzień 2</th>\n",
       "      <td>9</td>\n",
       "      <td>4</td>\n",
       "      <td>3</td>\n",
       "      <td>2</td>\n",
       "    </tr>\n",
       "    <tr>\n",
       "      <th>Dzień 3</th>\n",
       "      <td>9</td>\n",
       "      <td>7</td>\n",
       "      <td>1</td>\n",
       "      <td>4</td>\n",
       "    </tr>\n",
       "    <tr>\n",
       "      <th>Dzień 4</th>\n",
       "      <td>8</td>\n",
       "      <td>3</td>\n",
       "      <td>4</td>\n",
       "      <td>3</td>\n",
       "    </tr>\n",
       "  </tbody>\n",
       "</table>\n",
       "</div>"
      ],
      "text/plain": [
       "         Column A  Column B  Column C  Column D\n",
       "Dzień 1         8         1         8         7\n",
       "Dzień 2         9         4         3         2\n",
       "Dzień 3         9         7         1         4\n",
       "Dzień 4         8         3         4         3"
      ]
     },
     "execution_count": 3,
     "metadata": {},
     "output_type": "execute_result"
    }
   ],
   "source": [
    "random_df = pd.DataFrame(\n",
    "    np.random.randint(1, 11, size=(4, 4)),\n",
    "    index=[f\"Dzień {n}\" for n in range(1, 5)],\n",
    "    columns=[f\"Column {l}\" for l in \"ABCD\"],\n",
    ")\n",
    "random_df"
   ]
  },
  {
   "cell_type": "markdown",
   "id": "33a66eda-f2dc-4570-b098-ef6ae3547c6a",
   "metadata": {},
   "source": [
    "#### xxxxxxxxxxxxxxxxxxxxxxxxxxxxxxxxxxxxxxxxxxxxxxxxxxxxxxxxxxxxxxxxxxxxxxxxxxxxxxxxxxxxxxxxxxxxxxxxxxxxxxxxxxxxxxx"
   ]
  },
  {
   "cell_type": "markdown",
   "id": "d4f5471c-e700-40cf-bf3e-4feb59f235aa",
   "metadata": {},
   "source": [
    "#### xxxxxxxxxxxxxxxxxxxxxxxxxxxxxxxxxxxxxxxxxxxxxxxxxxxxxxxxxxxxxxxxxxxxxxxxxxxxxxxxxxxxxxxxxxxxxxxxxxxxxxxxxxxxxxx"
   ]
  },
  {
   "cell_type": "code",
   "execution_count": 4,
   "id": "3b8e3d8d-acea-4a0e-b852-0ca19abfd2be",
   "metadata": {},
   "outputs": [
    {
     "data": {
      "text/plain": [
       "Index(['Column A', 'Column B', 'Column C', 'Column D'], dtype='object')"
      ]
     },
     "execution_count": 4,
     "metadata": {},
     "output_type": "execute_result"
    }
   ],
   "source": [
    "random_df.columns"
   ]
  },
  {
   "cell_type": "code",
   "execution_count": 5,
   "id": "532499f3-968e-4be2-ad90-849ef5c2a386",
   "metadata": {},
   "outputs": [
    {
     "data": {
      "text/plain": [
       "Index(['Dzień 1', 'Dzień 2', 'Dzień 3', 'Dzień 4'], dtype='object')"
      ]
     },
     "execution_count": 5,
     "metadata": {},
     "output_type": "execute_result"
    }
   ],
   "source": [
    "random_df.index"
   ]
  },
  {
   "cell_type": "code",
   "execution_count": 6,
   "id": "cd4f7b3b-621b-4575-adf3-fa406d671796",
   "metadata": {},
   "outputs": [
    {
     "data": {
      "text/html": [
       "<div>\n",
       "<style scoped>\n",
       "    .dataframe tbody tr th:only-of-type {\n",
       "        vertical-align: middle;\n",
       "    }\n",
       "\n",
       "    .dataframe tbody tr th {\n",
       "        vertical-align: top;\n",
       "    }\n",
       "\n",
       "    .dataframe thead th {\n",
       "        text-align: right;\n",
       "    }\n",
       "</style>\n",
       "<table border=\"1\" class=\"dataframe\">\n",
       "  <thead>\n",
       "    <tr style=\"text-align: right;\">\n",
       "      <th></th>\n",
       "      <th>Column C</th>\n",
       "      <th>Column B</th>\n",
       "      <th>Column D</th>\n",
       "      <th>Column A</th>\n",
       "    </tr>\n",
       "  </thead>\n",
       "  <tbody>\n",
       "    <tr>\n",
       "      <th>Dzień 1</th>\n",
       "      <td>5</td>\n",
       "      <td>7</td>\n",
       "      <td>9</td>\n",
       "      <td>10</td>\n",
       "    </tr>\n",
       "    <tr>\n",
       "      <th>Dzień 2</th>\n",
       "      <td>6</td>\n",
       "      <td>8</td>\n",
       "      <td>1</td>\n",
       "      <td>8</td>\n",
       "    </tr>\n",
       "    <tr>\n",
       "      <th>Dzień 3</th>\n",
       "      <td>2</td>\n",
       "      <td>3</td>\n",
       "      <td>7</td>\n",
       "      <td>7</td>\n",
       "    </tr>\n",
       "    <tr>\n",
       "      <th>Dzień 4</th>\n",
       "      <td>8</td>\n",
       "      <td>4</td>\n",
       "      <td>5</td>\n",
       "      <td>10</td>\n",
       "    </tr>\n",
       "  </tbody>\n",
       "</table>\n",
       "</div>"
      ],
      "text/plain": [
       "         Column C  Column B  Column D  Column A\n",
       "Dzień 1         5         7         9        10\n",
       "Dzień 2         6         8         1         8\n",
       "Dzień 3         2         3         7         7\n",
       "Dzień 4         8         4         5        10"
      ]
     },
     "execution_count": 6,
     "metadata": {},
     "output_type": "execute_result"
    }
   ],
   "source": [
    "random_df.sort_values(by=\"Column A\")\n",
    "\n",
    "random_df.sort_values(by=\"Dzień 1\", axis=1)"
   ]
  },
  {
   "cell_type": "markdown",
   "id": "89aea095-febd-434a-afe2-179651e72004",
   "metadata": {},
   "source": [
    "## Convert pandas structure to numpy ndarray"
   ]
  },
  {
   "cell_type": "code",
   "execution_count": 7,
   "id": "412b0d3f-3729-44e3-acdc-245362e0a1b5",
   "metadata": {},
   "outputs": [
    {
     "data": {
      "text/plain": [
       "array([21, 28, 23, 27, 20])"
      ]
     },
     "execution_count": 7,
     "metadata": {},
     "output_type": "execute_result"
    }
   ],
   "source": [
    "random_df_numpy = random_df.to_numpy()\n",
    "random_df_numpy\n",
    "# type(random_df_numpy)\n",
    "\n",
    "random_series_numpy = random_series.to_numpy()\n",
    "random_series_numpy\n",
    "# type(random_series_numpy)"
   ]
  },
  {
   "cell_type": "code",
   "execution_count": 8,
   "id": "a107a0b2-e055-4250-bd18-c51c4c5984a1",
   "metadata": {},
   "outputs": [
    {
     "data": {
      "text/html": [
       "<div>\n",
       "<style scoped>\n",
       "    .dataframe tbody tr th:only-of-type {\n",
       "        vertical-align: middle;\n",
       "    }\n",
       "\n",
       "    .dataframe tbody tr th {\n",
       "        vertical-align: top;\n",
       "    }\n",
       "\n",
       "    .dataframe thead th {\n",
       "        text-align: right;\n",
       "    }\n",
       "</style>\n",
       "<table border=\"1\" class=\"dataframe\">\n",
       "  <thead>\n",
       "    <tr style=\"text-align: right;\">\n",
       "      <th></th>\n",
       "      <th>A</th>\n",
       "      <th>B</th>\n",
       "      <th>C</th>\n",
       "    </tr>\n",
       "  </thead>\n",
       "  <tbody>\n",
       "    <tr>\n",
       "      <th>0</th>\n",
       "      <td>1.0</td>\n",
       "      <td>abcd</td>\n",
       "      <td>raz</td>\n",
       "    </tr>\n",
       "    <tr>\n",
       "      <th>1</th>\n",
       "      <td>1.0</td>\n",
       "      <td>abcd</td>\n",
       "      <td>dwa</td>\n",
       "    </tr>\n",
       "    <tr>\n",
       "      <th>2</th>\n",
       "      <td>1.0</td>\n",
       "      <td>abcd</td>\n",
       "      <td>trzy</td>\n",
       "    </tr>\n",
       "    <tr>\n",
       "      <th>3</th>\n",
       "      <td>1.0</td>\n",
       "      <td>abcd</td>\n",
       "      <td>cztery</td>\n",
       "    </tr>\n",
       "  </tbody>\n",
       "</table>\n",
       "</div>"
      ],
      "text/plain": [
       "     A     B       C\n",
       "0  1.0  abcd     raz\n",
       "1  1.0  abcd     dwa\n",
       "2  1.0  abcd    trzy\n",
       "3  1.0  abcd  cztery"
      ]
     },
     "execution_count": 8,
     "metadata": {},
     "output_type": "execute_result"
    }
   ],
   "source": [
    "df2 = pd.DataFrame(\n",
    "    {\n",
    "        \"A\": 1.0,\n",
    "        \"B\": \"abcd\",\n",
    "        \"C\": ['raz', 'dwa', 'trzy', 'cztery']\n",
    "    }\n",
    ")\n",
    "df2"
   ]
  },
  {
   "cell_type": "markdown",
   "id": "882d30d1-fd70-4836-9aa9-ea912f91da2f",
   "metadata": {},
   "source": [
    "## Selecting and indexing"
   ]
  },
  {
   "cell_type": "code",
   "execution_count": 9,
   "id": "f8b6f426-5b0e-4f33-b9ac-583b023f8025",
   "metadata": {},
   "outputs": [
    {
     "data": {
      "text/html": [
       "<div>\n",
       "<style scoped>\n",
       "    .dataframe tbody tr th:only-of-type {\n",
       "        vertical-align: middle;\n",
       "    }\n",
       "\n",
       "    .dataframe tbody tr th {\n",
       "        vertical-align: top;\n",
       "    }\n",
       "\n",
       "    .dataframe thead th {\n",
       "        text-align: right;\n",
       "    }\n",
       "</style>\n",
       "<table border=\"1\" class=\"dataframe\">\n",
       "  <thead>\n",
       "    <tr style=\"text-align: right;\">\n",
       "      <th></th>\n",
       "      <th>Column A</th>\n",
       "      <th>Column B</th>\n",
       "      <th>Column C</th>\n",
       "      <th>Column D</th>\n",
       "    </tr>\n",
       "  </thead>\n",
       "  <tbody>\n",
       "    <tr>\n",
       "      <th>Dzień 1</th>\n",
       "      <td>10</td>\n",
       "      <td>7</td>\n",
       "      <td>5</td>\n",
       "      <td>9</td>\n",
       "    </tr>\n",
       "    <tr>\n",
       "      <th>Dzień 2</th>\n",
       "      <td>8</td>\n",
       "      <td>8</td>\n",
       "      <td>6</td>\n",
       "      <td>1</td>\n",
       "    </tr>\n",
       "    <tr>\n",
       "      <th>Dzień 3</th>\n",
       "      <td>7</td>\n",
       "      <td>3</td>\n",
       "      <td>2</td>\n",
       "      <td>7</td>\n",
       "    </tr>\n",
       "    <tr>\n",
       "      <th>Dzień 4</th>\n",
       "      <td>10</td>\n",
       "      <td>4</td>\n",
       "      <td>8</td>\n",
       "      <td>5</td>\n",
       "    </tr>\n",
       "  </tbody>\n",
       "</table>\n",
       "</div>"
      ],
      "text/plain": [
       "         Column A  Column B  Column C  Column D\n",
       "Dzień 1        10         7         5         9\n",
       "Dzień 2         8         8         6         1\n",
       "Dzień 3         7         3         2         7\n",
       "Dzień 4        10         4         8         5"
      ]
     },
     "execution_count": 9,
     "metadata": {},
     "output_type": "execute_result"
    }
   ],
   "source": [
    "random_df"
   ]
  },
  {
   "cell_type": "markdown",
   "id": "f0f1df39-662a-48f5-bb70-21ada6cf0e95",
   "metadata": {},
   "source": [
    "### By column(s)"
   ]
  },
  {
   "cell_type": "code",
   "execution_count": 10,
   "id": "8900a659-7a6f-445c-a204-55cb5c621d42",
   "metadata": {},
   "outputs": [],
   "source": [
    "# random_df[\"Column B\"]"
   ]
  },
  {
   "cell_type": "code",
   "execution_count": 11,
   "id": "d978a2da-7e89-499d-abf7-fb78da58657e",
   "metadata": {},
   "outputs": [],
   "source": [
    "# random_df[['Column A', \"Column B\"]]"
   ]
  },
  {
   "cell_type": "markdown",
   "id": "d6d41fcf-7f5b-42e6-93b4-992faa11af7e",
   "metadata": {},
   "source": [
    "### By row(s)"
   ]
  },
  {
   "cell_type": "code",
   "execution_count": 12,
   "id": "397d879f-360e-4896-b828-813d620c06c5",
   "metadata": {
    "scrolled": true
   },
   "outputs": [],
   "source": [
    "# random_df[1:3]"
   ]
  },
  {
   "cell_type": "markdown",
   "id": "9faba9bd-fd6e-4af2-b46c-b784c32373b3",
   "metadata": {},
   "source": [
    "### Multi-axis indexing"
   ]
  },
  {
   "cell_type": "markdown",
   "id": "8d6249c0-b3ff-4bf2-a495-a3b7bc632845",
   "metadata": {},
   "source": [
    "#### Syntax:\n",
    " - df.loc[row, column]\n",
    " - df.loc[[rows], [columns]]"
   ]
  },
  {
   "cell_type": "code",
   "execution_count": 13,
   "id": "ec221026-fe2b-4af7-9edb-6c7e9a841d7a",
   "metadata": {},
   "outputs": [
    {
     "data": {
      "text/plain": [
       "Column A    10\n",
       "Column B     7\n",
       "Name: Dzień 1, dtype: int32"
      ]
     },
     "execution_count": 13,
     "metadata": {},
     "output_type": "execute_result"
    }
   ],
   "source": [
    "random_df.loc[\"Dzień 1\", [\"Column A\", \"Column B\"]]"
   ]
  },
  {
   "cell_type": "code",
   "execution_count": 14,
   "id": "40a30e63-1e73-41ec-bd77-2c6fb50ef076",
   "metadata": {},
   "outputs": [
    {
     "data": {
      "text/html": [
       "<div>\n",
       "<style scoped>\n",
       "    .dataframe tbody tr th:only-of-type {\n",
       "        vertical-align: middle;\n",
       "    }\n",
       "\n",
       "    .dataframe tbody tr th {\n",
       "        vertical-align: top;\n",
       "    }\n",
       "\n",
       "    .dataframe thead th {\n",
       "        text-align: right;\n",
       "    }\n",
       "</style>\n",
       "<table border=\"1\" class=\"dataframe\">\n",
       "  <thead>\n",
       "    <tr style=\"text-align: right;\">\n",
       "      <th></th>\n",
       "      <th>Column A</th>\n",
       "      <th>Column B</th>\n",
       "      <th>Column C</th>\n",
       "      <th>Column D</th>\n",
       "    </tr>\n",
       "  </thead>\n",
       "  <tbody>\n",
       "    <tr>\n",
       "      <th>Dzień 1</th>\n",
       "      <td>10</td>\n",
       "      <td>7</td>\n",
       "      <td>5</td>\n",
       "      <td>9</td>\n",
       "    </tr>\n",
       "    <tr>\n",
       "      <th>Dzień 2</th>\n",
       "      <td>8</td>\n",
       "      <td>8</td>\n",
       "      <td>6</td>\n",
       "      <td>1</td>\n",
       "    </tr>\n",
       "  </tbody>\n",
       "</table>\n",
       "</div>"
      ],
      "text/plain": [
       "         Column A  Column B  Column C  Column D\n",
       "Dzień 1        10         7         5         9\n",
       "Dzień 2         8         8         6         1"
      ]
     },
     "execution_count": 14,
     "metadata": {},
     "output_type": "execute_result"
    }
   ],
   "source": [
    "random_df.loc[[\"Dzień 1\", \"Dzień 2\"], :]"
   ]
  },
  {
   "cell_type": "code",
   "execution_count": 15,
   "id": "8f8fc06f-7a05-46c8-b0c4-a9736dfb9ec7",
   "metadata": {},
   "outputs": [
    {
     "data": {
      "text/plain": [
       "3"
      ]
     },
     "execution_count": 15,
     "metadata": {},
     "output_type": "execute_result"
    }
   ],
   "source": [
    "random_df.loc[\"Dzień 3\", \"Column B\"]"
   ]
  },
  {
   "cell_type": "markdown",
   "id": "e9ff1e9b-2297-423e-a374-4e519f5b3250",
   "metadata": {},
   "source": [
    "### Lamda functions recap\n"
   ]
  },
  {
   "cell_type": "code",
   "execution_count": 16,
   "id": "0ba482f9-71d9-4fd8-b553-88f92f3f0406",
   "metadata": {},
   "outputs": [
    {
     "data": {
      "text/plain": [
       "['Bob', 'Eve', 'Alice', 'David', 'Frank', 'Grace', 'Charlie']"
      ]
     },
     "execution_count": 16,
     "metadata": {},
     "output_type": "execute_result"
    }
   ],
   "source": [
    "names = [\"Alice\", \"Bob\", \"Charlie\", \"David\", \"Eve\", \"Frank\", \"Grace\"]\n",
    "names.sort(key=lambda x: len(x))\n",
    "names\n",
    "\n",
    "# names = [name.replace('a', 'XYZ') for name in names]\n",
    "# names"
   ]
  },
  {
   "cell_type": "markdown",
   "id": "95b4e139-9bb5-4340-9022-898b97ac3962",
   "metadata": {},
   "source": [
    "### Selecting using .loc and boolean series (masking)"
   ]
  },
  {
   "cell_type": "code",
   "execution_count": 17,
   "id": "e01457e1-3a0c-41f8-9d0e-ec80b57b44eb",
   "metadata": {},
   "outputs": [
    {
     "data": {
      "text/plain": [
       "Dzień 1    True\n",
       "Dzień 2    True\n",
       "Dzień 3    True\n",
       "Dzień 4    True\n",
       "Name: Column A, dtype: bool"
      ]
     },
     "execution_count": 17,
     "metadata": {},
     "output_type": "execute_result"
    }
   ],
   "source": [
    "# Boolean series\n",
    "boolean_series = random_df['Column A'] > 5\n",
    "boolean_series"
   ]
  },
  {
   "cell_type": "code",
   "execution_count": 18,
   "id": "0a2ef1d4-c355-45a4-8830-a956cb33f001",
   "metadata": {},
   "outputs": [
    {
     "data": {
      "text/plain": [
       "array([ True,  True,  True,  True])"
      ]
     },
     "execution_count": 18,
     "metadata": {},
     "output_type": "execute_result"
    }
   ],
   "source": [
    "# Boolean series as numpy array\n",
    "boolean_array = (random_df['Column A'] > 5).to_numpy()\n",
    "boolean_array"
   ]
  },
  {
   "cell_type": "code",
   "execution_count": 19,
   "id": "46cb6588-6d10-4b84-91e7-e9fa3a013753",
   "metadata": {},
   "outputs": [
    {
     "data": {
      "text/html": [
       "<div>\n",
       "<style scoped>\n",
       "    .dataframe tbody tr th:only-of-type {\n",
       "        vertical-align: middle;\n",
       "    }\n",
       "\n",
       "    .dataframe tbody tr th {\n",
       "        vertical-align: top;\n",
       "    }\n",
       "\n",
       "    .dataframe thead th {\n",
       "        text-align: right;\n",
       "    }\n",
       "</style>\n",
       "<table border=\"1\" class=\"dataframe\">\n",
       "  <thead>\n",
       "    <tr style=\"text-align: right;\">\n",
       "      <th></th>\n",
       "      <th>Column A</th>\n",
       "      <th>Column B</th>\n",
       "      <th>Column C</th>\n",
       "      <th>Column D</th>\n",
       "    </tr>\n",
       "  </thead>\n",
       "  <tbody>\n",
       "    <tr>\n",
       "      <th>Dzień 1</th>\n",
       "      <td>10</td>\n",
       "      <td>7</td>\n",
       "      <td>5</td>\n",
       "      <td>9</td>\n",
       "    </tr>\n",
       "    <tr>\n",
       "      <th>Dzień 2</th>\n",
       "      <td>8</td>\n",
       "      <td>8</td>\n",
       "      <td>6</td>\n",
       "      <td>1</td>\n",
       "    </tr>\n",
       "    <tr>\n",
       "      <th>Dzień 3</th>\n",
       "      <td>7</td>\n",
       "      <td>3</td>\n",
       "      <td>2</td>\n",
       "      <td>7</td>\n",
       "    </tr>\n",
       "    <tr>\n",
       "      <th>Dzień 4</th>\n",
       "      <td>10</td>\n",
       "      <td>4</td>\n",
       "      <td>8</td>\n",
       "      <td>5</td>\n",
       "    </tr>\n",
       "  </tbody>\n",
       "</table>\n",
       "</div>"
      ],
      "text/plain": [
       "         Column A  Column B  Column C  Column D\n",
       "Dzień 1        10         7         5         9\n",
       "Dzień 2         8         8         6         1\n",
       "Dzień 3         7         3         2         7\n",
       "Dzień 4        10         4         8         5"
      ]
     },
     "execution_count": 19,
     "metadata": {},
     "output_type": "execute_result"
    }
   ],
   "source": [
    "# Mask - boolean array\n",
    "random_df.loc[boolean_array, :]\n",
    "\n",
    "# Mask - boolean series\n",
    "random_df.loc[boolean_series, :]"
   ]
  },
  {
   "cell_type": "code",
   "execution_count": 20,
   "id": "b4f071f9-11af-4714-9eb9-29f2d805e2bb",
   "metadata": {},
   "outputs": [
    {
     "data": {
      "text/html": [
       "<div>\n",
       "<style scoped>\n",
       "    .dataframe tbody tr th:only-of-type {\n",
       "        vertical-align: middle;\n",
       "    }\n",
       "\n",
       "    .dataframe tbody tr th {\n",
       "        vertical-align: top;\n",
       "    }\n",
       "\n",
       "    .dataframe thead th {\n",
       "        text-align: right;\n",
       "    }\n",
       "</style>\n",
       "<table border=\"1\" class=\"dataframe\">\n",
       "  <thead>\n",
       "    <tr style=\"text-align: right;\">\n",
       "      <th></th>\n",
       "      <th>Column A</th>\n",
       "      <th>Column B</th>\n",
       "      <th>Column C</th>\n",
       "      <th>Column D</th>\n",
       "    </tr>\n",
       "  </thead>\n",
       "  <tbody>\n",
       "    <tr>\n",
       "      <th>Dzień 1</th>\n",
       "      <td>10</td>\n",
       "      <td>7</td>\n",
       "      <td>5</td>\n",
       "      <td>9</td>\n",
       "    </tr>\n",
       "    <tr>\n",
       "      <th>Dzień 2</th>\n",
       "      <td>8</td>\n",
       "      <td>8</td>\n",
       "      <td>6</td>\n",
       "      <td>1</td>\n",
       "    </tr>\n",
       "    <tr>\n",
       "      <th>Dzień 3</th>\n",
       "      <td>7</td>\n",
       "      <td>3</td>\n",
       "      <td>2</td>\n",
       "      <td>7</td>\n",
       "    </tr>\n",
       "    <tr>\n",
       "      <th>Dzień 4</th>\n",
       "      <td>10</td>\n",
       "      <td>4</td>\n",
       "      <td>8</td>\n",
       "      <td>5</td>\n",
       "    </tr>\n",
       "  </tbody>\n",
       "</table>\n",
       "</div>"
      ],
      "text/plain": [
       "         Column A  Column B  Column C  Column D\n",
       "Dzień 1        10         7         5         9\n",
       "Dzień 2         8         8         6         1\n",
       "Dzień 3         7         3         2         7\n",
       "Dzień 4        10         4         8         5"
      ]
     },
     "execution_count": 20,
     "metadata": {},
     "output_type": "execute_result"
    }
   ],
   "source": [
    "random_df[random_df[\"Column A\"] > 5]\n",
    "# or\n",
    "random_df.loc[random_df[\"Column A\"] > 5]"
   ]
  },
  {
   "cell_type": "code",
   "execution_count": 21,
   "id": "971f08a4-663a-4e3d-83d8-970aee37cf62",
   "metadata": {},
   "outputs": [
    {
     "data": {
      "text/plain": [
       "2      two\n",
       "3    three\n",
       "4      two\n",
       "6      six\n",
       "Name: a, dtype: object"
      ]
     },
     "execution_count": 21,
     "metadata": {},
     "output_type": "execute_result"
    }
   ],
   "source": [
    "df3 = pd.DataFrame({'a': ['one', 'one', 'two', 'three', 'two', 'one', 'six'],\n",
    "                    'b': ['x', 'y', 'y', 'x', 'y', 'x', 'x'],\n",
    "                    'c': np.random.randn(7)})\n",
    "\n",
    "# only want 'two' or 'three'\n",
    "df3[\"a\"][df3[\"a\"] != 'one']\n",
    "df3[\"a\"][lambda x: x != 'one']"
   ]
  },
  {
   "cell_type": "markdown",
   "id": "5c9b2c08-a778-45f7-81e4-59bbf445dcc7",
   "metadata": {},
   "source": [
    "# UDEMY TUTORIAL"
   ]
  },
  {
   "cell_type": "code",
   "execution_count": 22,
   "id": "92bd0670-510b-4178-81d5-9617a7da2084",
   "metadata": {},
   "outputs": [
    {
     "data": {
      "text/plain": [
       "9"
      ]
     },
     "execution_count": 22,
     "metadata": {},
     "output_type": "execute_result"
    }
   ],
   "source": [
    "5+4\n"
   ]
  },
  {
   "cell_type": "code",
   "execution_count": null,
   "id": "83b27808-9d34-4716-8b52-b9d184f3d859",
   "metadata": {},
   "outputs": [],
   "source": []
  }
 ],
 "metadata": {
  "kernelspec": {
   "display_name": "my_env",
   "language": "python",
   "name": "my_env"
  },
  "language_info": {
   "codemirror_mode": {
    "name": "ipython",
    "version": 3
   },
   "file_extension": ".py",
   "mimetype": "text/x-python",
   "name": "python",
   "nbconvert_exporter": "python",
   "pygments_lexer": "ipython3",
   "version": "3.12.1"
  }
 },
 "nbformat": 4,
 "nbformat_minor": 5
}
